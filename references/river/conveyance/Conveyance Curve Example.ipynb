{
 "cells": [
  {
   "cell_type": "markdown",
   "metadata": {},
   "source": [
    "# Conveyance Curve Example"
   ]
  },
  {
   "cell_type": "code",
   "execution_count": 1,
   "metadata": {},
   "outputs": [],
   "source": [
    "import pandas as pd\n",
    "import os\n",
    "import matplotlib.pyplot as plt\n",
    "\n",
    "# read the csv file\n",
    "ws = r'C:\\Users\\Mel.Meng\\Documents\\GitHub\\SewerAnalysis\\references\\river\\conveyance\\data'\n",
    "conveyance_curve = os.path.join(ws, 'conveyance_curve_16.csv')\n",
    "df = pd.read_csv(conveyance_curve)"
   ]
  },
  {
   "cell_type": "code",
   "execution_count": 2,
   "metadata": {},
   "outputs": [
    {
     "data": {
      "image/png": "[encoded data removed]",
      "text/plain": [
       "<Figure size 720x720 with 1 Axes>"
      ]
     },
     "metadata": {
      "needs_background": "light"
     },
     "output_type": "display_data"
    }
   ],
   "source": [
    "# perform the calculation\n",
    "\n",
    "slope = 1 # seems ICM always uses 1\n",
    "\n",
    "# calculate the hydraulic radus using the reported values in ICM\n",
    "df['r'] = df['Area (ft2)']/df['Perimeter (ft)']\n",
    "\n",
    "# using manning's equation to calculate the discharge\n",
    "df['q'] = (1.49/0.013)*df['Area (ft2)']*(df['r']**(2/3))\n",
    "\n",
    "# plot the results\n",
    "ax = df.plot(x='no_panel', y='Depth (ft)', style='o-', label='ICM', figsize=(10,10))\n",
    "df.plot(x='q', y='Depth (ft)', style='x-', ax=ax, label='manning equation')\n",
    "plt.show()"
   ]
  },
  {
   "cell_type": "markdown",
   "metadata": {},
   "source": [
    "In this case apparently, the slope term is not 1, and shown below, the ratio is around 3.86."
   ]
  },
  {
   "cell_type": "code",
   "execution_count": 3,
   "metadata": {},
   "outputs": [
    {
     "data": {
      "text/plain": [
       "0          NaN\n",
       "1     3.869414\n",
       "2     3.857853\n",
       "3     3.857336\n",
       "4     3.857031\n",
       "5     3.856186\n",
       "6     3.856649\n",
       "7     3.856680\n",
       "8     3.856735\n",
       "9     3.856691\n",
       "10    3.856733\n",
       "11    3.856735\n",
       "12    3.856758\n",
       "13    3.856708\n",
       "14    3.856725\n",
       "dtype: float64"
      ]
     },
     "execution_count": 3,
     "metadata": {},
     "output_type": "execute_result"
    }
   ],
   "source": [
    "df['q']/df['no_panel']"
   ]
  },
  {
   "cell_type": "code",
   "execution_count": 9,
   "metadata": {},
   "outputs": [],
   "source": [
    "import numpy as np\n",
    "f = os.path.join(ws, 'cross_section_16.csv')\n",
    "df_xs = pd.read_csv(f)"
   ]
  },
  {
   "cell_type": "code",
   "execution_count": 16,
   "metadata": {},
   "outputs": [],
   "source": [
    "def line_length(x, y, ignore=None):\n",
    "    # ignore is used to filter out lines connecting two far apart dot.\n",
    "    # since I am using regular spacing, if they distance between two dots is larger than the spacing, it means there is a disconnect.\n",
    "    npts = len(x)\n",
    "    # need to make sure it is a line with at least 2 points\n",
    "    if npts < 2:\n",
    "        return 0\n",
    "    \n",
    "    arc = np.sqrt((x[1] - x[0])**2 + (y[1] - y[0])**2)\n",
    "    if ignore:\n",
    "        if arc > ignore*1.1:\n",
    "            arc = 0\n",
    "            \n",
    "    for k in range(1, npts):\n",
    "        if ignore:\n",
    "            if x[k] - x[k-1] > ignore*1.1:\n",
    "                pass\n",
    "            else:\n",
    "                arc = arc + np.sqrt((x[k] - x[k-1])**2 + (y[k] - y[k-1])**2)\n",
    "        else:\n",
    "            arc = arc + np.sqrt((x[k] - x[k-1])**2 + (y[k] - y[k-1])**2)\n",
    "\n",
    "    return arc\n",
    "\n",
    "def get_area(xs_csv, level, level_fld='level', z_fld = 'z', offset_fld='offset'):\n",
    "    df_xs = pd.read_csv(xs_csv)\n",
    "    \n",
    "    # interpolate profile using regular spacing so that I can calculate the area\n",
    "    offset = np.linspace(min(df_xs[offset_fld].values), max(df_xs[offset_fld].values), 1000)\n",
    "    z = np.interp(offset, df_xs[offset_fld], df_xs[z_fld])\n",
    "\n",
    "    df2 = pd.DataFrame({'offset': offset, 'z': z})\n",
    "    df2[level_fld] = [level]*len(offset)\n",
    "    # get the dx for the x axis\n",
    "    dx = df2[offset_fld].diff().values[-1]\n",
    "    # find the area below the water level\n",
    "    area = df2.loc[df2[level_fld] >= df2[z_fld]]\n",
    "    # get the area under level line\n",
    "    a1 = np.trapz(area[level_fld], x=None, dx=dx, axis=-1)\n",
    "    # get the area under the cross section\n",
    "    a2 = np.trapz(area[z_fld], x=None, dx=dx, axis=-1)\n",
    "    a3 = a1 - a2\n",
    "    l = line_length(area[offset_fld].values, area[z_fld].values, dx)\n",
    "    \n",
    "    \n",
    "    \n",
    "    ax = df_xs.plot(x=offset_fld, y=z_fld, linewidth=3, alpha=0.5, figsize=(10,4), label='bed elevation')\n",
    "    area.plot(x=offset_fld, y=z_fld,  style='x-',ax=ax, label='intepolated z')\n",
    "    area.plot(x=offset_fld, y=level_fld, ax=ax)\n",
    "    plt.title(level)\n",
    "    return a3, l"
   ]
  },
  {
   "cell_type": "code",
   "execution_count": 17,
   "metadata": {},
   "outputs": [
    {
     "data": {
      "text/html": [
       "<div>\n",
       "<style scoped>\n",
       "    .dataframe tbody tr th:only-of-type {\n",
       "        vertical-align: middle;\n",
       "    }\n",
       "\n",
       "    .dataframe tbody tr th {\n",
       "        vertical-align: top;\n",
       "    }\n",
       "\n",
       "    .dataframe thead th {\n",
       "        text-align: right;\n",
       "    }\n",
       "</style>\n",
       "<table border=\"1\" class=\"dataframe\">\n",
       "  <thead>\n",
       "    <tr style=\"text-align: right;\">\n",
       "      <th></th>\n",
       "      <th>Depth (ft)</th>\n",
       "      <th>Area (ft2)</th>\n",
       "      <th>python_area</th>\n",
       "      <th>Perimeter (ft)</th>\n",
       "      <th>python_perimeter</th>\n",
       "    </tr>\n",
       "  </thead>\n",
       "  <tbody>\n",
       "    <tr>\n",
       "      <th>0</th>\n",
       "      <td>0.000</td>\n",
       "      <td>0.000</td>\n",
       "      <td>0.000000</td>\n",
       "      <td>1.618</td>\n",
       "      <td>1.631427</td>\n",
       "    </tr>\n",
       "    <tr>\n",
       "      <th>1</th>\n",
       "      <td>0.098</td>\n",
       "      <td>0.298</td>\n",
       "      <td>0.296958</td>\n",
       "      <td>10.922</td>\n",
       "      <td>4.493346</td>\n",
       "    </tr>\n",
       "    <tr>\n",
       "      <th>2</th>\n",
       "      <td>0.131</td>\n",
       "      <td>0.725</td>\n",
       "      <td>0.726082</td>\n",
       "      <td>18.335</td>\n",
       "      <td>18.363346</td>\n",
       "    </tr>\n",
       "    <tr>\n",
       "      <th>3</th>\n",
       "      <td>0.164</td>\n",
       "      <td>1.336</td>\n",
       "      <td>1.339447</td>\n",
       "      <td>18.928</td>\n",
       "      <td>18.888694</td>\n",
       "    </tr>\n",
       "    <tr>\n",
       "      <th>4</th>\n",
       "      <td>0.197</td>\n",
       "      <td>1.983</td>\n",
       "      <td>1.993317</td>\n",
       "      <td>22.214</td>\n",
       "      <td>22.105834</td>\n",
       "    </tr>\n",
       "    <tr>\n",
       "      <th>5</th>\n",
       "      <td>0.262</td>\n",
       "      <td>3.565</td>\n",
       "      <td>3.561866</td>\n",
       "      <td>27.716</td>\n",
       "      <td>27.679801</td>\n",
       "    </tr>\n",
       "    <tr>\n",
       "      <th>6</th>\n",
       "      <td>1.083</td>\n",
       "      <td>27.320</td>\n",
       "      <td>27.342426</td>\n",
       "      <td>32.446</td>\n",
       "      <td>32.411388</td>\n",
       "    </tr>\n",
       "    <tr>\n",
       "      <th>7</th>\n",
       "      <td>1.444</td>\n",
       "      <td>39.039</td>\n",
       "      <td>39.067538</td>\n",
       "      <td>35.434</td>\n",
       "      <td>35.426891</td>\n",
       "    </tr>\n",
       "    <tr>\n",
       "      <th>8</th>\n",
       "      <td>1.903</td>\n",
       "      <td>55.227</td>\n",
       "      <td>55.246797</td>\n",
       "      <td>38.589</td>\n",
       "      <td>38.536492</td>\n",
       "    </tr>\n",
       "    <tr>\n",
       "      <th>9</th>\n",
       "      <td>3.379</td>\n",
       "      <td>112.282</td>\n",
       "      <td>112.286779</td>\n",
       "      <td>44.072</td>\n",
       "      <td>42.323087</td>\n",
       "    </tr>\n",
       "    <tr>\n",
       "      <th>10</th>\n",
       "      <td>4.429</td>\n",
       "      <td>156.871</td>\n",
       "      <td>156.882043</td>\n",
       "      <td>47.045</td>\n",
       "      <td>46.912476</td>\n",
       "    </tr>\n",
       "    <tr>\n",
       "      <th>11</th>\n",
       "      <td>4.495</td>\n",
       "      <td>159.753</td>\n",
       "      <td>159.784898</td>\n",
       "      <td>49.584</td>\n",
       "      <td>49.529310</td>\n",
       "    </tr>\n",
       "    <tr>\n",
       "      <th>12</th>\n",
       "      <td>4.528</td>\n",
       "      <td>161.336</td>\n",
       "      <td>161.381447</td>\n",
       "      <td>55.705</td>\n",
       "      <td>55.649854</td>\n",
       "    </tr>\n",
       "    <tr>\n",
       "      <th>13</th>\n",
       "      <td>4.560</td>\n",
       "      <td>163.065</td>\n",
       "      <td>163.070584</td>\n",
       "      <td>58.594</td>\n",
       "      <td>58.586311</td>\n",
       "    </tr>\n",
       "    <tr>\n",
       "      <th>14</th>\n",
       "      <td>5.020</td>\n",
       "      <td>188.687</td>\n",
       "      <td>188.732239</td>\n",
       "      <td>61.893</td>\n",
       "      <td>61.912021</td>\n",
       "    </tr>\n",
       "  </tbody>\n",
       "</table>\n",
       "</div>"
      ],
      "text/plain": [
       "    Depth (ft)  Area (ft2)  python_area  Perimeter (ft)  python_perimeter\n",
       "0        0.000       0.000     0.000000           1.618          1.631427\n",
       "1        0.098       0.298     0.296958          10.922          4.493346\n",
       "2        0.131       0.725     0.726082          18.335         18.363346\n",
       "3        0.164       1.336     1.339447          18.928         18.888694\n",
       "4        0.197       1.983     1.993317          22.214         22.105834\n",
       "5        0.262       3.565     3.561866          27.716         27.679801\n",
       "6        1.083      27.320    27.342426          32.446         32.411388\n",
       "7        1.444      39.039    39.067538          35.434         35.426891\n",
       "8        1.903      55.227    55.246797          38.589         38.536492\n",
       "9        3.379     112.282   112.286779          44.072         42.323087\n",
       "10       4.429     156.871   156.882043          47.045         46.912476\n",
       "11       4.495     159.753   159.784898          49.584         49.529310\n",
       "12       4.528     161.336   161.381447          55.705         55.649854\n",
       "13       4.560     163.065   163.070584          58.594         58.586311\n",
       "14       5.020     188.687   188.732239          61.893         61.912021"
      ]
     },
     "execution_count": 17,
     "metadata": {},
     "output_type": "execute_result"
    },
    {
     "data": {
      "image/png": "[encoded data removed]",
      "text/plain": [
       "<Figure size 720x288 with 1 Axes>"
      ]
     },
     "metadata": {
      "needs_background": "light"
     },
     "output_type": "display_data"
    },
    {
     "data": {
      "image/png": "[encoded data removed]",
      "text/plain": [
       "<Figure size 720x288 with 1 Axes>"
      ]
     },
     "metadata": {
      "needs_background": "light"
     },
     "output_type": "display_data"
    },
    {
     "data": {
      "image/png": "[encoded data removed]",
      "text/plain": [
       "<Figure size 720x288 with 1 Axes>"
      ]
     },
     "metadata": {
      "needs_background": "light"
     },
     "output_type": "display_data"
    },
    {
     "data": {
      "image/png": "[encoded data removed]",
      "text/plain": [
       "<Figure size 720x288 with 1 Axes>"
      ]
     },
     "metadata": {
      "needs_background": "light"
     },
     "output_type": "display_data"
    },
    {
     "data": {
      "image/png": "[encoded data removed]",
      "text/plain": [
       "<Figure size 720x288 with 1 Axes>"
      ]
     },
     "metadata": {
      "needs_background": "light"
     },
     "output_type": "display_data"
    },
    {
     "data": {
      "image/png": "[encoded data removed]",
      "text/plain": [
       "<Figure size 720x288 with 1 Axes>"
      ]
     },
     "metadata": {
      "needs_background": "light"
     },
     "output_type": "display_data"
    },
    {
     "data": {
      "image/png": "[encoded data removed]",
      "text/plain": [
       "<Figure size 720x288 with 1 Axes>"
      ]
     },
     "metadata": {
      "needs_background": "light"
     },
     "output_type": "display_data"
    },
    {
     "data": {
      "image/png": "[encoded data removed]",
      "text/plain": [
       "<Figure size 720x288 with 1 Axes>"
      ]
     },
     "metadata": {
      "needs_background": "light"
     },
     "output_type": "display_data"
    },
    {
     "data": {
      "image/png": "[encoded data removed]",
      "text/plain": [
       "<Figure size 720x288 with 1 Axes>"
      ]
     },
     "metadata": {
      "needs_background": "light"
     },
     "output_type": "display_data"
    },
    {
     "data": {
      "image/png": "[encoded data removed]",
      "text/plain": [
       "<Figure size 720x288 with 1 Axes>"
      ]
     },
     "metadata": {
      "needs_background": "light"
     },
     "output_type": "display_data"
    },
    {
     "data": {
      "image/png": "[encoded data removed]",
      "text/plain": [
       "<Figure size 720x288 with 1 Axes>"
      ]
     },
     "metadata": {
      "needs_background": "light"
     },
     "output_type": "display_data"
    },
    {
     "data": {
      "image/png": "[encoded data removed]",
      "text/plain": [
       "<Figure size 720x288 with 1 Axes>"
      ]
     },
     "metadata": {
      "needs_background": "light"
     },
     "output_type": "display_data"
    },
    {
     "data": {
      "image/png": "[encoded data removed]",
      "text/plain": [
       "<Figure size 720x288 with 1 Axes>"
      ]
     },
     "metadata": {
      "needs_background": "light"
     },
     "output_type": "display_data"
    },
    {
     "data": {
      "image/png": "[encoded data removed]",
      "text/plain": [
       "<Figure size 720x288 with 1 Axes>"
      ]
     },
     "metadata": {
      "needs_background": "light"
     },
     "output_type": "display_data"
    },
    {
     "data": {
      "image/png": "[encoded data removed]",
      "text/plain": [
       "<Figure size 720x288 with 1 Axes>"
      ]
     },
     "metadata": {
      "needs_background": "light"
     },
     "output_type": "display_data"
    }
   ],
   "source": [
    "df['python_area'] = 0\n",
    "df['python_perimeter'] = 0\n",
    "invert = 107.448\n",
    "for idx, r in df.iterrows():\n",
    "    level = r['Depth (ft)']\n",
    "    icm_area = r['Area (ft2)']\n",
    "    \n",
    "    a, l = get_area(xs_csv=f, level=level+invert, level_fld='level', z_fld = 'z', offset_fld='offset')\n",
    "    df.loc[idx, 'python_area'] = a\n",
    "    df.loc[idx, 'python_perimeter'] = l\n",
    "    \n",
    "    \n",
    "    \n",
    "df.loc[:, ['Depth (ft)', 'Area (ft2)', 'python_area', 'Perimeter (ft)', 'python_perimeter']]\n",
    "    "
   ]
  },
  {
   "cell_type": "code",
   "execution_count": 54,
   "metadata": {},
   "outputs": [],
   "source": [
    "import pandas as pd\n",
    "import csv\n",
    "import plotly.graph_objects as go\n",
    "\n",
    "\n",
    "def plot_xs(conveyance_df, xs_df, invert, level_fld='level', z_fld = 'z', offset_fld='offset'):\n",
    "    df_xs = xs_df.copy()\n",
    "    fig = go.Figure()\n",
    "#     ax = df_xs.plot(x=offset_fld, y=z_fld, linewidth=3, alpha=0.5, color='grey', figsize=(20,10), label='bed elevation')\n",
    "    fig.add_trace(go.Scatter(\n",
    "        x = df_xs[offset_fld],\n",
    "        y = df_xs[z_fld],\n",
    "        name = 'bed elevation',\n",
    "        mode='lines+markers',\n",
    "        line=dict(color='grey')\n",
    "    ))\n",
    "    for idx, r in conveyance_df.iterrows():\n",
    "        level = r['Depth (ft)'] + invert\n",
    "        icm_area = r['Area (ft2)']\n",
    "        df_xs['level'] = level\n",
    "        fig.add_trace(go.Scatter(\n",
    "        x = df_xs[offset_fld],\n",
    "        y = df_xs['level'],\n",
    "        name = 'Depth=%s' % r['Depth (ft)'],\n",
    "        line=dict(color='blue', dash='dot')\n",
    "    ))\n",
    "#         df_xs.plot(x=offset_fld, y='level', style='--', color='blue', alpha=0.2, label='Depth=%s' % r['Depth (ft)'], ax=ax)\n",
    "    return fig\n",
    "        \n",
    "        "
   ]
  },
  {
   "cell_type": "code",
   "execution_count": 58,
   "metadata": {},
   "outputs": [
    {
     "data": {
      "application/vnd.plotly.v1+json": {
       "config": {
        "plotlyServerURL": "https://plot.ly"
       },
       "data": [
        {
         "line": {
          "color": "grey"
         },
         "mode": "lines+markers",
         "name": "bed elevation",
         "type": "scatter",
         "x": [
          0,
          1.618,
          3.2319999999999998,
          4.85,
          6.466,
          8.084,
          9.701,
          11.315999999999999,
          12.933,
          14.550999999999998,
          16.169,
          17.785999999999998,
          19.401,
          21.017,
          22.635,
          24.252,
          25.87,
          27.484,
          29.101999999999997,
          30.72,
          32.336999999999996,
          33.955,
          35.568000000000005,
          37.186,
          38.803000000000004,
          40.421,
          42.038999999999994,
          43.653,
          45.271,
          46.888000000000005,
          48.505,
          50.123000000000005,
          51.736999999999995,
          53.354,
          54.972,
          56.59,
          58.207
         ],
         "y": [
          111.94200000000001,
          111.975,
          111.975,
          111.94200000000001,
          111.94200000000001,
          112.008,
          111.87700000000001,
          108.891,
          108.891,
          107.579,
          107.579,
          107.546,
          107.546,
          107.448,
          107.448,
          107.579,
          107.579,
          107.546,
          107.546,
          107.546,
          107.546,
          107.64399999999999,
          107.64399999999999,
          107.71,
          107.61200000000001,
          107.71,
          107.71,
          108.53,
          108.53,
          109.35,
          109.35,
          110.82700000000001,
          110.82700000000001,
          112.008,
          112.008,
          112.46700000000001,
          112.46700000000001
         ]
        },
        {
         "line": {
          "color": "blue",
          "dash": "dot"
         },
         "name": "Depth=0.0",
         "type": "scatter",
         "x": [
          0,
          1.618,
          3.2319999999999998,
          4.85,
          6.466,
          8.084,
          9.701,
          11.315999999999999,
          12.933,
          14.550999999999998,
          16.169,
          17.785999999999998,
          19.401,
          21.017,
          22.635,
          24.252,
          25.87,
          27.484,
          29.101999999999997,
          30.72,
          32.336999999999996,
          33.955,
          35.568000000000005,
          37.186,
          38.803000000000004,
          40.421,
          42.038999999999994,
          43.653,
          45.271,
          46.888000000000005,
          48.505,
          50.123000000000005,
          51.736999999999995,
          53.354,
          54.972,
          56.59,
          58.207
         ],
         "y": [
          107.448,
          107.448,
          107.448,
          107.448,
          107.448,
          107.448,
          107.448,
          107.448,
          107.448,
          107.448,
          107.448,
          107.448,
          107.448,
          107.448,
          107.448,
          107.448,
          107.448,
          107.448,
          107.448,
          107.448,
          107.448,
          107.448,
          107.448,
          107.448,
          107.448,
          107.448,
          107.448,
          107.448,
          107.448,
          107.448,
          107.448,
          107.448,
          107.448,
          107.448,
          107.448,
          107.448,
          107.448
         ]
        },
        {
         "line": {
          "color": "blue",
          "dash": "dot"
         },
         "name": "Depth=0.098",
         "type": "scatter",
         "x": [
          0,
          1.618,
          3.2319999999999998,
          4.85,
          6.466,
          8.084,
          9.701,
          11.315999999999999,
          12.933,
          14.550999999999998,
          16.169,
          17.785999999999998,
          19.401,
          21.017,
          22.635,
          24.252,
          25.87,
          27.484,
          29.101999999999997,
          30.72,
          32.336999999999996,
          33.955,
          35.568000000000005,
          37.186,
          38.803000000000004,
          40.421,
          42.038999999999994,
          43.653,
          45.271,
          46.888000000000005,
          48.505,
          50.123000000000005,
          51.736999999999995,
          53.354,
          54.972,
          56.59,
          58.207
         ],
         "y": [
          107.54599999999999,
          107.54599999999999,
          107.54599999999999,
          107.54599999999999,
          107.54599999999999,
          107.54599999999999,
          107.54599999999999,
          107.54599999999999,
          107.54599999999999,
          107.54599999999999,
          107.54599999999999,
          107.54599999999999,
          107.54599999999999,
          107.54599999999999,
          107.54599999999999,
          107.54599999999999,
          107.54599999999999,
          107.54599999999999,
          107.54599999999999,
          107.54599999999999,
          107.54599999999999,
          107.54599999999999,
          107.54599999999999,
          107.54599999999999,
          107.54599999999999,
          107.54599999999999,
          107.54599999999999,
          107.54599999999999,
          107.54599999999999,
          107.54599999999999,
          107.54599999999999,
          107.54599999999999,
          107.54599999999999,
          107.54599999999999,
          107.54599999999999,
          107.54599999999999,
          107.54599999999999
         ]
        },
        {
         "line": {
          "color": "blue",
          "dash": "dot"
         },
         "name": "Depth=0.131",
         "type": "scatter",
         "x": [
          0,
          1.618,
          3.2319999999999998,
          4.85,
          6.466,
          8.084,
          9.701,
          11.315999999999999,
          12.933,
          14.550999999999998,
          16.169,
          17.785999999999998,
          19.401,
          21.017,
          22.635,
          24.252,
          25.87,
          27.484,
          29.101999999999997,
          30.72,
          32.336999999999996,
          33.955,
          35.568000000000005,
          37.186,
          38.803000000000004,
          40.421,
          42.038999999999994,
          43.653,
          45.271,
          46.888000000000005,
          48.505,
          50.123000000000005,
          51.736999999999995,
          53.354,
          54.972,
          56.59,
          58.207
         ],
         "y": [
          107.579,
          107.579,
          107.579,
          107.579,
          107.579,
          107.579,
          107.579,
          107.579,
          107.579,
          107.579,
          107.579,
          107.579,
          107.579,
          107.579,
          107.579,
          107.579,
          107.579,
          107.579,
          107.579,
          107.579,
          107.579,
          107.579,
          107.579,
          107.579,
          107.579,
          107.579,
          107.579,
          107.579,
          107.579,
          107.579,
          107.579,
          107.579,
          107.579,
          107.579,
          107.579,
          107.579,
          107.579
         ]
        },
        {
         "line": {
          "color": "blue",
          "dash": "dot"
         },
         "name": "Depth=0.16399999999999998",
         "type": "scatter",
         "x": [
          0,
          1.618,
          3.2319999999999998,
          4.85,
          6.466,
          8.084,
          9.701,
          11.315999999999999,
          12.933,
          14.550999999999998,
          16.169,
          17.785999999999998,
          19.401,
          21.017,
          22.635,
          24.252,
          25.87,
          27.484,
          29.101999999999997,
          30.72,
          32.336999999999996,
          33.955,
          35.568000000000005,
          37.186,
          38.803000000000004,
          40.421,
          42.038999999999994,
          43.653,
          45.271,
          46.888000000000005,
          48.505,
          50.123000000000005,
          51.736999999999995,
          53.354,
          54.972,
          56.59,
          58.207
         ],
         "y": [
          107.612,
          107.612,
          107.612,
          107.612,
          107.612,
          107.612,
          107.612,
          107.612,
          107.612,
          107.612,
          107.612,
          107.612,
          107.612,
          107.612,
          107.612,
          107.612,
          107.612,
          107.612,
          107.612,
          107.612,
          107.612,
          107.612,
          107.612,
          107.612,
          107.612,
          107.612,
          107.612,
          107.612,
          107.612,
          107.612,
          107.612,
          107.612,
          107.612,
          107.612,
          107.612,
          107.612,
          107.612
         ]
        },
        {
         "line": {
          "color": "blue",
          "dash": "dot"
         },
         "name": "Depth=0.19699999999999998",
         "type": "scatter",
         "x": [
          0,
          1.618,
          3.2319999999999998,
          4.85,
          6.466,
          8.084,
          9.701,
          11.315999999999999,
          12.933,
          14.550999999999998,
          16.169,
          17.785999999999998,
          19.401,
          21.017,
          22.635,
          24.252,
          25.87,
          27.484,
          29.101999999999997,
          30.72,
          32.336999999999996,
          33.955,
          35.568000000000005,
          37.186,
          38.803000000000004,
          40.421,
          42.038999999999994,
          43.653,
          45.271,
          46.888000000000005,
          48.505,
          50.123000000000005,
          51.736999999999995,
          53.354,
          54.972,
          56.59,
          58.207
         ],
         "y": [
          107.645,
          107.645,
          107.645,
          107.645,
          107.645,
          107.645,
          107.645,
          107.645,
          107.645,
          107.645,
          107.645,
          107.645,
          107.645,
          107.645,
          107.645,
          107.645,
          107.645,
          107.645,
          107.645,
          107.645,
          107.645,
          107.645,
          107.645,
          107.645,
          107.645,
          107.645,
          107.645,
          107.645,
          107.645,
          107.645,
          107.645,
          107.645,
          107.645,
          107.645,
          107.645,
          107.645,
          107.645
         ]
        },
        {
         "line": {
          "color": "blue",
          "dash": "dot"
         },
         "name": "Depth=0.262",
         "type": "scatter",
         "x": [
          0,
          1.618,
          3.2319999999999998,
          4.85,
          6.466,
          8.084,
          9.701,
          11.315999999999999,
          12.933,
          14.550999999999998,
          16.169,
          17.785999999999998,
          19.401,
          21.017,
          22.635,
          24.252,
          25.87,
          27.484,
          29.101999999999997,
          30.72,
          32.336999999999996,
          33.955,
          35.568000000000005,
          37.186,
          38.803000000000004,
          40.421,
          42.038999999999994,
          43.653,
          45.271,
          46.888000000000005,
          48.505,
          50.123000000000005,
          51.736999999999995,
          53.354,
          54.972,
          56.59,
          58.207
         ],
         "y": [
          107.71,
          107.71,
          107.71,
          107.71,
          107.71,
          107.71,
          107.71,
          107.71,
          107.71,
          107.71,
          107.71,
          107.71,
          107.71,
          107.71,
          107.71,
          107.71,
          107.71,
          107.71,
          107.71,
          107.71,
          107.71,
          107.71,
          107.71,
          107.71,
          107.71,
          107.71,
          107.71,
          107.71,
          107.71,
          107.71,
          107.71,
          107.71,
          107.71,
          107.71,
          107.71,
          107.71,
          107.71
         ]
        },
        {
         "line": {
          "color": "blue",
          "dash": "dot"
         },
         "name": "Depth=1.083",
         "type": "scatter",
         "x": [
          0,
          1.618,
          3.2319999999999998,
          4.85,
          6.466,
          8.084,
          9.701,
          11.315999999999999,
          12.933,
          14.550999999999998,
          16.169,
          17.785999999999998,
          19.401,
          21.017,
          22.635,
          24.252,
          25.87,
          27.484,
          29.101999999999997,
          30.72,
          32.336999999999996,
          33.955,
          35.568000000000005,
          37.186,
          38.803000000000004,
          40.421,
          42.038999999999994,
          43.653,
          45.271,
          46.888000000000005,
          48.505,
          50.123000000000005,
          51.736999999999995,
          53.354,
          54.972,
          56.59,
          58.207
         ],
         "y": [
          108.53099999999999,
          108.53099999999999,
          108.53099999999999,
          108.53099999999999,
          108.53099999999999,
          108.53099999999999,
          108.53099999999999,
          108.53099999999999,
          108.53099999999999,
          108.53099999999999,
          108.53099999999999,
          108.53099999999999,
          108.53099999999999,
          108.53099999999999,
          108.53099999999999,
          108.53099999999999,
          108.53099999999999,
          108.53099999999999,
          108.53099999999999,
          108.53099999999999,
          108.53099999999999,
          108.53099999999999,
          108.53099999999999,
          108.53099999999999,
          108.53099999999999,
          108.53099999999999,
          108.53099999999999,
          108.53099999999999,
          108.53099999999999,
          108.53099999999999,
          108.53099999999999,
          108.53099999999999,
          108.53099999999999,
          108.53099999999999,
          108.53099999999999,
          108.53099999999999,
          108.53099999999999
         ]
        },
        {
         "line": {
          "color": "blue",
          "dash": "dot"
         },
         "name": "Depth=1.444",
         "type": "scatter",
         "x": [
          0,
          1.618,
          3.2319999999999998,
          4.85,
          6.466,
          8.084,
          9.701,
          11.315999999999999,
          12.933,
          14.550999999999998,
          16.169,
          17.785999999999998,
          19.401,
          21.017,
          22.635,
          24.252,
          25.87,
          27.484,
          29.101999999999997,
          30.72,
          32.336999999999996,
          33.955,
          35.568000000000005,
          37.186,
          38.803000000000004,
          40.421,
          42.038999999999994,
          43.653,
          45.271,
          46.888000000000005,
          48.505,
          50.123000000000005,
          51.736999999999995,
          53.354,
          54.972,
          56.59,
          58.207
         ],
         "y": [
          108.892,
          108.892,
          108.892,
          108.892,
          108.892,
          108.892,
          108.892,
          108.892,
          108.892,
          108.892,
          108.892,
          108.892,
          108.892,
          108.892,
          108.892,
          108.892,
          108.892,
          108.892,
          108.892,
          108.892,
          108.892,
          108.892,
          108.892,
          108.892,
          108.892,
          108.892,
          108.892,
          108.892,
          108.892,
          108.892,
          108.892,
          108.892,
          108.892,
          108.892,
          108.892,
          108.892,
          108.892
         ]
        },
        {
         "line": {
          "color": "blue",
          "dash": "dot"
         },
         "name": "Depth=1.903",
         "type": "scatter",
         "x": [
          0,
          1.618,
          3.2319999999999998,
          4.85,
          6.466,
          8.084,
          9.701,
          11.315999999999999,
          12.933,
          14.550999999999998,
          16.169,
          17.785999999999998,
          19.401,
          21.017,
          22.635,
          24.252,
          25.87,
          27.484,
          29.101999999999997,
          30.72,
          32.336999999999996,
          33.955,
          35.568000000000005,
          37.186,
          38.803000000000004,
          40.421,
          42.038999999999994,
          43.653,
          45.271,
          46.888000000000005,
          48.505,
          50.123000000000005,
          51.736999999999995,
          53.354,
          54.972,
          56.59,
          58.207
         ],
         "y": [
          109.351,
          109.351,
          109.351,
          109.351,
          109.351,
          109.351,
          109.351,
          109.351,
          109.351,
          109.351,
          109.351,
          109.351,
          109.351,
          109.351,
          109.351,
          109.351,
          109.351,
          109.351,
          109.351,
          109.351,
          109.351,
          109.351,
          109.351,
          109.351,
          109.351,
          109.351,
          109.351,
          109.351,
          109.351,
          109.351,
          109.351,
          109.351,
          109.351,
          109.351,
          109.351,
          109.351,
          109.351
         ]
        },
        {
         "line": {
          "color": "blue",
          "dash": "dot"
         },
         "name": "Depth=3.3789999999999996",
         "type": "scatter",
         "x": [
          0,
          1.618,
          3.2319999999999998,
          4.85,
          6.466,
          8.084,
          9.701,
          11.315999999999999,
          12.933,
          14.550999999999998,
          16.169,
          17.785999999999998,
          19.401,
          21.017,
          22.635,
          24.252,
          25.87,
          27.484,
          29.101999999999997,
          30.72,
          32.336999999999996,
          33.955,
          35.568000000000005,
          37.186,
          38.803000000000004,
          40.421,
          42.038999999999994,
          43.653,
          45.271,
          46.888000000000005,
          48.505,
          50.123000000000005,
          51.736999999999995,
          53.354,
          54.972,
          56.59,
          58.207
         ],
         "y": [
          110.827,
          110.827,
          110.827,
          110.827,
          110.827,
          110.827,
          110.827,
          110.827,
          110.827,
          110.827,
          110.827,
          110.827,
          110.827,
          110.827,
          110.827,
          110.827,
          110.827,
          110.827,
          110.827,
          110.827,
          110.827,
          110.827,
          110.827,
          110.827,
          110.827,
          110.827,
          110.827,
          110.827,
          110.827,
          110.827,
          110.827,
          110.827,
          110.827,
          110.827,
          110.827,
          110.827,
          110.827
         ]
        },
        {
         "line": {
          "color": "blue",
          "dash": "dot"
         },
         "name": "Depth=4.428999999999999",
         "type": "scatter",
         "x": [
          0,
          1.618,
          3.2319999999999998,
          4.85,
          6.466,
          8.084,
          9.701,
          11.315999999999999,
          12.933,
          14.550999999999998,
          16.169,
          17.785999999999998,
          19.401,
          21.017,
          22.635,
          24.252,
          25.87,
          27.484,
          29.101999999999997,
          30.72,
          32.336999999999996,
          33.955,
          35.568000000000005,
          37.186,
          38.803000000000004,
          40.421,
          42.038999999999994,
          43.653,
          45.271,
          46.888000000000005,
          48.505,
          50.123000000000005,
          51.736999999999995,
          53.354,
          54.972,
          56.59,
          58.207
         ],
         "y": [
          111.877,
          111.877,
          111.877,
          111.877,
          111.877,
          111.877,
          111.877,
          111.877,
          111.877,
          111.877,
          111.877,
          111.877,
          111.877,
          111.877,
          111.877,
          111.877,
          111.877,
          111.877,
          111.877,
          111.877,
          111.877,
          111.877,
          111.877,
          111.877,
          111.877,
          111.877,
          111.877,
          111.877,
          111.877,
          111.877,
          111.877,
          111.877,
          111.877,
          111.877,
          111.877,
          111.877,
          111.877
         ]
        },
        {
         "line": {
          "color": "blue",
          "dash": "dot"
         },
         "name": "Depth=4.495",
         "type": "scatter",
         "x": [
          0,
          1.618,
          3.2319999999999998,
          4.85,
          6.466,
          8.084,
          9.701,
          11.315999999999999,
          12.933,
          14.550999999999998,
          16.169,
          17.785999999999998,
          19.401,
          21.017,
          22.635,
          24.252,
          25.87,
          27.484,
          29.101999999999997,
          30.72,
          32.336999999999996,
          33.955,
          35.568000000000005,
          37.186,
          38.803000000000004,
          40.421,
          42.038999999999994,
          43.653,
          45.271,
          46.888000000000005,
          48.505,
          50.123000000000005,
          51.736999999999995,
          53.354,
          54.972,
          56.59,
          58.207
         ],
         "y": [
          111.943,
          111.943,
          111.943,
          111.943,
          111.943,
          111.943,
          111.943,
          111.943,
          111.943,
          111.943,
          111.943,
          111.943,
          111.943,
          111.943,
          111.943,
          111.943,
          111.943,
          111.943,
          111.943,
          111.943,
          111.943,
          111.943,
          111.943,
          111.943,
          111.943,
          111.943,
          111.943,
          111.943,
          111.943,
          111.943,
          111.943,
          111.943,
          111.943,
          111.943,
          111.943,
          111.943,
          111.943
         ]
        },
        {
         "line": {
          "color": "blue",
          "dash": "dot"
         },
         "name": "Depth=4.5280000000000005",
         "type": "scatter",
         "x": [
          0,
          1.618,
          3.2319999999999998,
          4.85,
          6.466,
          8.084,
          9.701,
          11.315999999999999,
          12.933,
          14.550999999999998,
          16.169,
          17.785999999999998,
          19.401,
          21.017,
          22.635,
          24.252,
          25.87,
          27.484,
          29.101999999999997,
          30.72,
          32.336999999999996,
          33.955,
          35.568000000000005,
          37.186,
          38.803000000000004,
          40.421,
          42.038999999999994,
          43.653,
          45.271,
          46.888000000000005,
          48.505,
          50.123000000000005,
          51.736999999999995,
          53.354,
          54.972,
          56.59,
          58.207
         ],
         "y": [
          111.976,
          111.976,
          111.976,
          111.976,
          111.976,
          111.976,
          111.976,
          111.976,
          111.976,
          111.976,
          111.976,
          111.976,
          111.976,
          111.976,
          111.976,
          111.976,
          111.976,
          111.976,
          111.976,
          111.976,
          111.976,
          111.976,
          111.976,
          111.976,
          111.976,
          111.976,
          111.976,
          111.976,
          111.976,
          111.976,
          111.976,
          111.976,
          111.976,
          111.976,
          111.976,
          111.976,
          111.976
         ]
        },
        {
         "line": {
          "color": "blue",
          "dash": "dot"
         },
         "name": "Depth=4.56",
         "type": "scatter",
         "x": [
          0,
          1.618,
          3.2319999999999998,
          4.85,
          6.466,
          8.084,
          9.701,
          11.315999999999999,
          12.933,
          14.550999999999998,
          16.169,
          17.785999999999998,
          19.401,
          21.017,
          22.635,
          24.252,
          25.87,
          27.484,
          29.101999999999997,
          30.72,
          32.336999999999996,
          33.955,
          35.568000000000005,
          37.186,
          38.803000000000004,
          40.421,
          42.038999999999994,
          43.653,
          45.271,
          46.888000000000005,
          48.505,
          50.123000000000005,
          51.736999999999995,
          53.354,
          54.972,
          56.59,
          58.207
         ],
         "y": [
          112.008,
          112.008,
          112.008,
          112.008,
          112.008,
          112.008,
          112.008,
          112.008,
          112.008,
          112.008,
          112.008,
          112.008,
          112.008,
          112.008,
          112.008,
          112.008,
          112.008,
          112.008,
          112.008,
          112.008,
          112.008,
          112.008,
          112.008,
          112.008,
          112.008,
          112.008,
          112.008,
          112.008,
          112.008,
          112.008,
          112.008,
          112.008,
          112.008,
          112.008,
          112.008,
          112.008,
          112.008
         ]
        },
        {
         "line": {
          "color": "blue",
          "dash": "dot"
         },
         "name": "Depth=5.02",
         "type": "scatter",
         "x": [
          0,
          1.618,
          3.2319999999999998,
          4.85,
          6.466,
          8.084,
          9.701,
          11.315999999999999,
          12.933,
          14.550999999999998,
          16.169,
          17.785999999999998,
          19.401,
          21.017,
          22.635,
          24.252,
          25.87,
          27.484,
          29.101999999999997,
          30.72,
          32.336999999999996,
          33.955,
          35.568000000000005,
          37.186,
          38.803000000000004,
          40.421,
          42.038999999999994,
          43.653,
          45.271,
          46.888000000000005,
          48.505,
          50.123000000000005,
          51.736999999999995,
          53.354,
          54.972,
          56.59,
          58.207
         ],
         "y": [
          112.46799999999999,
          112.46799999999999,
          112.46799999999999,
          112.46799999999999,
          112.46799999999999,
          112.46799999999999,
          112.46799999999999,
          112.46799999999999,
          112.46799999999999,
          112.46799999999999,
          112.46799999999999,
          112.46799999999999,
          112.46799999999999,
          112.46799999999999,
          112.46799999999999,
          112.46799999999999,
          112.46799999999999,
          112.46799999999999,
          112.46799999999999,
          112.46799999999999,
          112.46799999999999,
          112.46799999999999,
          112.46799999999999,
          112.46799999999999,
          112.46799999999999,
          112.46799999999999,
          112.46799999999999,
          112.46799999999999,
          112.46799999999999,
          112.46799999999999,
          112.46799999999999,
          112.46799999999999,
          112.46799999999999,
          112.46799999999999,
          112.46799999999999,
          112.46799999999999,
          112.46799999999999
         ]
        }
       ],
       "layout": {
        "autosize": true,
        "dragmode": "zoom",
        "height": 800,
        "margin": {
         "b": 100,
         "l": 50,
         "pad": 4,
         "r": 50,
         "t": 100
        },
        "paper_bgcolor": "White",
        "template": {
         "data": {
          "bar": [
           {
            "error_x": {
             "color": "#2a3f5f"
            },
            "error_y": {
             "color": "#2a3f5f"
            },
            "marker": {
             "line": {
              "color": "#E5ECF6",
              "width": 0.5
             }
            },
            "type": "bar"
           }
          ],
          "barpolar": [
           {
            "marker": {
             "line": {
              "color": "#E5ECF6",
              "width": 0.5
             }
            },
            "type": "barpolar"
           }
          ],
          "carpet": [
           {
            "aaxis": {
             "endlinecolor": "#2a3f5f",
             "gridcolor": "white",
             "linecolor": "white",
             "minorgridcolor": "white",
             "startlinecolor": "#2a3f5f"
            },
            "baxis": {
             "endlinecolor": "#2a3f5f",
             "gridcolor": "white",
             "linecolor": "white",
             "minorgridcolor": "white",
             "startlinecolor": "#2a3f5f"
            },
            "type": "carpet"
           }
          ],
          "choropleth": [
           {
            "colorbar": {
             "outlinewidth": 0,
             "ticks": ""
            },
            "type": "choropleth"
           }
          ],
          "contour": [
           {
            "colorbar": {
             "outlinewidth": 0,
             "ticks": ""
            },
            "colorscale": [
             [
              0,
              "#0d0887"
             ],
             [
              0.1111111111111111,
              "#46039f"
             ],
             [
              0.2222222222222222,
              "#7201a8"
             ],
             [
              0.3333333333333333,
              "#9c179e"
             ],
             [
              0.4444444444444444,
              "#bd3786"
             ],
             [
              0.5555555555555556,
              "#d8576b"
             ],
             [
              0.6666666666666666,
              "#ed7953"
             ],
             [
              0.7777777777777778,
              "#fb9f3a"
             ],
             [
              0.8888888888888888,
              "#fdca26"
             ],
             [
              1,
              "#f0f921"
             ]
            ],
            "type": "contour"
           }
          ],
          "contourcarpet": [
           {
            "colorbar": {
             "outlinewidth": 0,
             "ticks": ""
            },
            "type": "contourcarpet"
           }
          ],
          "heatmap": [
           {
            "colorbar": {
             "outlinewidth": 0,
             "ticks": ""
            },
            "colorscale": [
             [
              0,
              "#0d0887"
             ],
             [
              0.1111111111111111,
              "#46039f"
             ],
             [
              0.2222222222222222,
              "#7201a8"
             ],
             [
              0.3333333333333333,
              "#9c179e"
             ],
             [
              0.4444444444444444,
              "#bd3786"
             ],
             [
              0.5555555555555556,
              "#d8576b"
             ],
             [
              0.6666666666666666,
              "#ed7953"
             ],
             [
              0.7777777777777778,
              "#fb9f3a"
             ],
             [
              0.8888888888888888,
              "#fdca26"
             ],
             [
              1,
              "#f0f921"
             ]
            ],
            "type": "heatmap"
           }
          ],
          "heatmapgl": [
           {
            "colorbar": {
             "outlinewidth": 0,
             "ticks": ""
            },
            "colorscale": [
             [
              0,
              "#0d0887"
             ],
             [
              0.1111111111111111,
              "#46039f"
             ],
             [
              0.2222222222222222,
              "#7201a8"
             ],
             [
              0.3333333333333333,
              "#9c179e"
             ],
             [
              0.4444444444444444,
              "#bd3786"
             ],
             [
              0.5555555555555556,
              "#d8576b"
             ],
             [
              0.6666666666666666,
              "#ed7953"
             ],
             [
              0.7777777777777778,
              "#fb9f3a"
             ],
             [
              0.8888888888888888,
              "#fdca26"
             ],
             [
              1,
              "#f0f921"
             ]
            ],
            "type": "heatmapgl"
           }
          ],
          "histogram": [
           {
            "marker": {
             "colorbar": {
              "outlinewidth": 0,
              "ticks": ""
             }
            },
            "type": "histogram"
           }
          ],
          "histogram2d": [
           {
            "colorbar": {
             "outlinewidth": 0,
             "ticks": ""
            },
            "colorscale": [
             [
              0,
              "#0d0887"
             ],
             [
              0.1111111111111111,
              "#46039f"
             ],
             [
              0.2222222222222222,
              "#7201a8"
             ],
             [
              0.3333333333333333,
              "#9c179e"
             ],
             [
              0.4444444444444444,
              "#bd3786"
             ],
             [
              0.5555555555555556,
              "#d8576b"
             ],
             [
              0.6666666666666666,
              "#ed7953"
             ],
             [
              0.7777777777777778,
              "#fb9f3a"
             ],
             [
              0.8888888888888888,
              "#fdca26"
             ],
             [
              1,
              "#f0f921"
             ]
            ],
            "type": "histogram2d"
           }
          ],
          "histogram2dcontour": [
           {
            "colorbar": {
             "outlinewidth": 0,
             "ticks": ""
            },
            "colorscale": [
             [
              0,
              "#0d0887"
             ],
             [
              0.1111111111111111,
              "#46039f"
             ],
             [
              0.2222222222222222,
              "#7201a8"
             ],
             [
              0.3333333333333333,
              "#9c179e"
             ],
             [
              0.4444444444444444,
              "#bd3786"
             ],
             [
              0.5555555555555556,
              "#d8576b"
             ],
             [
              0.6666666666666666,
              "#ed7953"
             ],
             [
              0.7777777777777778,
              "#fb9f3a"
             ],
             [
              0.8888888888888888,
              "#fdca26"
             ],
             [
              1,
              "#f0f921"
             ]
            ],
            "type": "histogram2dcontour"
           }
          ],
          "mesh3d": [
           {
            "colorbar": {
             "outlinewidth": 0,
             "ticks": ""
            },
            "type": "mesh3d"
           }
          ],
          "parcoords": [
           {
            "line": {
             "colorbar": {
              "outlinewidth": 0,
              "ticks": ""
             }
            },
            "type": "parcoords"
           }
          ],
          "pie": [
           {
            "automargin": true,
            "type": "pie"
           }
          ],
          "scatter": [
           {
            "marker": {
             "colorbar": {
              "outlinewidth": 0,
              "ticks": ""
             }
            },
            "type": "scatter"
           }
          ],
          "scatter3d": [
           {
            "line": {
             "colorbar": {
              "outlinewidth": 0,
              "ticks": ""
             }
            },
            "marker": {
             "colorbar": {
              "outlinewidth": 0,
              "ticks": ""
             }
            },
            "type": "scatter3d"
           }
          ],
          "scattercarpet": [
           {
            "marker": {
             "colorbar": {
              "outlinewidth": 0,
              "ticks": ""
             }
            },
            "type": "scattercarpet"
           }
          ],
          "scattergeo": [
           {
            "marker": {
             "colorbar": {
              "outlinewidth": 0,
              "ticks": ""
             }
            },
            "type": "scattergeo"
           }
          ],
          "scattergl": [
           {
            "marker": {
             "colorbar": {
              "outlinewidth": 0,
              "ticks": ""
             }
            },
            "type": "scattergl"
           }
          ],
          "scattermapbox": [
           {
            "marker": {
             "colorbar": {
              "outlinewidth": 0,
              "ticks": ""
             }
            },
            "type": "scattermapbox"
           }
          ],
          "scatterpolar": [
           {
            "marker": {
             "colorbar": {
              "outlinewidth": 0,
              "ticks": ""
             }
            },
            "type": "scatterpolar"
           }
          ],
          "scatterpolargl": [
           {
            "marker": {
             "colorbar": {
              "outlinewidth": 0,
              "ticks": ""
             }
            },
            "type": "scatterpolargl"
           }
          ],
          "scatterternary": [
           {
            "marker": {
             "colorbar": {
              "outlinewidth": 0,
              "ticks": ""
             }
            },
            "type": "scatterternary"
           }
          ],
          "surface": [
           {
            "colorbar": {
             "outlinewidth": 0,
             "ticks": ""
            },
            "colorscale": [
             [
              0,
              "#0d0887"
             ],
             [
              0.1111111111111111,
              "#46039f"
             ],
             [
              0.2222222222222222,
              "#7201a8"
             ],
             [
              0.3333333333333333,
              "#9c179e"
             ],
             [
              0.4444444444444444,
              "#bd3786"
             ],
             [
              0.5555555555555556,
              "#d8576b"
             ],
             [
              0.6666666666666666,
              "#ed7953"
             ],
             [
              0.7777777777777778,
              "#fb9f3a"
             ],
             [
              0.8888888888888888,
              "#fdca26"
             ],
             [
              1,
              "#f0f921"
             ]
            ],
            "type": "surface"
           }
          ],
          "table": [
           {
            "cells": {
             "fill": {
              "color": "#EBF0F8"
             },
             "line": {
              "color": "white"
             }
            },
            "header": {
             "fill": {
              "color": "#C8D4E3"
             },
             "line": {
              "color": "white"
             }
            },
            "type": "table"
           }
          ]
         },
         "layout": {
          "annotationdefaults": {
           "arrowcolor": "#2a3f5f",
           "arrowhead": 0,
           "arrowwidth": 1
          },
          "coloraxis": {
           "colorbar": {
            "outlinewidth": 0,
            "ticks": ""
           }
          },
          "colorscale": {
           "diverging": [
            [
             0,
             "#8e0152"
            ],
            [
             0.1,
             "#c51b7d"
            ],
            [
             0.2,
             "#de77ae"
            ],
            [
             0.3,
             "#f1b6da"
            ],
            [
             0.4,
             "#fde0ef"
            ],
            [
             0.5,
             "#f7f7f7"
            ],
            [
             0.6,
             "#e6f5d0"
            ],
            [
             0.7,
             "#b8e186"
            ],
            [
             0.8,
             "#7fbc41"
            ],
            [
             0.9,
             "#4d9221"
            ],
            [
             1,
             "#276419"
            ]
           ],
           "sequential": [
            [
             0,
             "#0d0887"
            ],
            [
             0.1111111111111111,
             "#46039f"
            ],
            [
             0.2222222222222222,
             "#7201a8"
            ],
            [
             0.3333333333333333,
             "#9c179e"
            ],
            [
             0.4444444444444444,
             "#bd3786"
            ],
            [
             0.5555555555555556,
             "#d8576b"
            ],
            [
             0.6666666666666666,
             "#ed7953"
            ],
            [
             0.7777777777777778,
             "#fb9f3a"
            ],
            [
             0.8888888888888888,
             "#fdca26"
            ],
            [
             1,
             "#f0f921"
            ]
           ],
           "sequentialminus": [
            [
             0,
             "#0d0887"
            ],
            [
             0.1111111111111111,
             "#46039f"
            ],
            [
             0.2222222222222222,
             "#7201a8"
            ],
            [
             0.3333333333333333,
             "#9c179e"
            ],
            [
             0.4444444444444444,
             "#bd3786"
            ],
            [
             0.5555555555555556,
             "#d8576b"
            ],
            [
             0.6666666666666666,
             "#ed7953"
            ],
            [
             0.7777777777777778,
             "#fb9f3a"
            ],
            [
             0.8888888888888888,
             "#fdca26"
            ],
            [
             1,
             "#f0f921"
            ]
           ]
          },
          "colorway": [
           "#636efa",
           "#EF553B",
           "#00cc96",
           "#ab63fa",
           "#FFA15A",
           "#19d3f3",
           "#FF6692",
           "#B6E880",
           "#FF97FF",
           "#FECB52"
          ],
          "font": {
           "color": "#2a3f5f"
          },
          "geo": {
           "bgcolor": "white",
           "lakecolor": "white",
           "landcolor": "#E5ECF6",
           "showlakes": true,
           "showland": true,
           "subunitcolor": "white"
          },
          "hoverlabel": {
           "align": "left"
          },
          "hovermode": "closest",
          "mapbox": {
           "style": "light"
          },
          "paper_bgcolor": "white",
          "plot_bgcolor": "#E5ECF6",
          "polar": {
           "angularaxis": {
            "gridcolor": "white",
            "linecolor": "white",
            "ticks": ""
           },
           "bgcolor": "#E5ECF6",
           "radialaxis": {
            "gridcolor": "white",
            "linecolor": "white",
            "ticks": ""
           }
          },
          "scene": {
           "xaxis": {
            "backgroundcolor": "#E5ECF6",
            "gridcolor": "white",
            "gridwidth": 2,
            "linecolor": "white",
            "showbackground": true,
            "ticks": "",
            "zerolinecolor": "white"
           },
           "yaxis": {
            "backgroundcolor": "#E5ECF6",
            "gridcolor": "white",
            "gridwidth": 2,
            "linecolor": "white",
            "showbackground": true,
            "ticks": "",
            "zerolinecolor": "white"
           },
           "zaxis": {
            "backgroundcolor": "#E5ECF6",
            "gridcolor": "white",
            "gridwidth": 2,
            "linecolor": "white",
            "showbackground": true,
            "ticks": "",
            "zerolinecolor": "white"
           }
          },
          "shapedefaults": {
           "line": {
            "color": "#2a3f5f"
           }
          },
          "ternary": {
           "aaxis": {
            "gridcolor": "white",
            "linecolor": "white",
            "ticks": ""
           },
           "baxis": {
            "gridcolor": "white",
            "linecolor": "white",
            "ticks": ""
           },
           "bgcolor": "#E5ECF6",
           "caxis": {
            "gridcolor": "white",
            "linecolor": "white",
            "ticks": ""
           }
          },
          "title": {
           "x": 0.05
          },
          "xaxis": {
           "automargin": true,
           "gridcolor": "white",
           "linecolor": "white",
           "ticks": "",
           "title": {
            "standoff": 15
           },
           "zerolinecolor": "white",
           "zerolinewidth": 2
          },
          "yaxis": {
           "automargin": true,
           "gridcolor": "white",
           "linecolor": "white",
           "ticks": "",
           "title": {
            "standoff": 15
           },
           "zerolinecolor": "white",
           "zerolinewidth": 2
          }
         }
        },
        "title": {
         "text": "Cross section for 16"
        },
        "width": 1200,
        "xaxis": {
         "autorange": true,
         "range": [
          -3.5404105968639357,
          61.747410596863936
         ],
         "showspikes": false,
         "type": "linear"
        },
        "yaxis": {
         "autorange": true,
         "range": [
          107.12989436619718,
          112.78510563380283
         ],
         "showspikes": false,
         "type": "linear"
        }
       }
      },
      "image/png": "[encoded data removed]",
      "text/html": [
       "<div>\n",
       "        \n",
       "        \n",
       "            <div id=\"6300c672-ae46-48ec-a6db-1a90fa367e0f\" class=\"plotly-graph-div\" style=\"height:800px; width:1200px;\"></div>\n",
       "            <script type=\"text/javascript\">\n",
       "                require([\"plotly\"], function(Plotly) {\n",
       "                    window.PLOTLYENV=window.PLOTLYENV || {};\n",
       "                    \n",
       "                if (document.getElementById(\"6300c672-ae46-48ec-a6db-1a90fa367e0f\")) {\n",
       "                    Plotly.newPlot(\n",
       "                        '6300c672-ae46-48ec-a6db-1a90fa367e0f',\n",
       "                        [{\"line\": {\"color\": \"grey\"}, \"mode\": \"lines+markers\", \"name\": \"bed elevation\", \"type\": \"scatter\", \"x\": [0.0, 1.618, 3.2319999999999998, 4.85, 6.466, 8.084, 9.701, 11.315999999999999, 12.933, 14.550999999999998, 16.169, 17.785999999999998, 19.401, 21.017, 22.635, 24.252, 25.87, 27.484, 29.101999999999997, 30.72, 32.336999999999996, 33.955, 35.568000000000005, 37.186, 38.803000000000004, 40.421, 42.038999999999994, 43.653, 45.271, 46.888000000000005, 48.505, 50.123000000000005, 51.736999999999995, 53.354, 54.972, 56.59, 58.207], \"y\": [111.94200000000001, 111.975, 111.975, 111.94200000000001, 111.94200000000001, 112.008, 111.87700000000001, 108.891, 108.891, 107.579, 107.579, 107.546, 107.546, 107.448, 107.448, 107.579, 107.579, 107.546, 107.546, 107.546, 107.546, 107.64399999999999, 107.64399999999999, 107.71, 107.61200000000001, 107.71, 107.71, 108.53, 108.53, 109.35, 109.35, 110.82700000000001, 110.82700000000001, 112.008, 112.008, 112.46700000000001, 112.46700000000001]}, {\"line\": {\"color\": \"blue\", \"dash\": \"dot\"}, \"name\": \"Depth=0.0\", \"type\": \"scatter\", \"x\": [0.0, 1.618, 3.2319999999999998, 4.85, 6.466, 8.084, 9.701, 11.315999999999999, 12.933, 14.550999999999998, 16.169, 17.785999999999998, 19.401, 21.017, 22.635, 24.252, 25.87, 27.484, 29.101999999999997, 30.72, 32.336999999999996, 33.955, 35.568000000000005, 37.186, 38.803000000000004, 40.421, 42.038999999999994, 43.653, 45.271, 46.888000000000005, 48.505, 50.123000000000005, 51.736999999999995, 53.354, 54.972, 56.59, 58.207], \"y\": [107.448, 107.448, 107.448, 107.448, 107.448, 107.448, 107.448, 107.448, 107.448, 107.448, 107.448, 107.448, 107.448, 107.448, 107.448, 107.448, 107.448, 107.448, 107.448, 107.448, 107.448, 107.448, 107.448, 107.448, 107.448, 107.448, 107.448, 107.448, 107.448, 107.448, 107.448, 107.448, 107.448, 107.448, 107.448, 107.448, 107.448]}, {\"line\": {\"color\": \"blue\", \"dash\": \"dot\"}, \"name\": \"Depth=0.098\", \"type\": \"scatter\", \"x\": [0.0, 1.618, 3.2319999999999998, 4.85, 6.466, 8.084, 9.701, 11.315999999999999, 12.933, 14.550999999999998, 16.169, 17.785999999999998, 19.401, 21.017, 22.635, 24.252, 25.87, 27.484, 29.101999999999997, 30.72, 32.336999999999996, 33.955, 35.568000000000005, 37.186, 38.803000000000004, 40.421, 42.038999999999994, 43.653, 45.271, 46.888000000000005, 48.505, 50.123000000000005, 51.736999999999995, 53.354, 54.972, 56.59, 58.207], \"y\": [107.54599999999999, 107.54599999999999, 107.54599999999999, 107.54599999999999, 107.54599999999999, 107.54599999999999, 107.54599999999999, 107.54599999999999, 107.54599999999999, 107.54599999999999, 107.54599999999999, 107.54599999999999, 107.54599999999999, 107.54599999999999, 107.54599999999999, 107.54599999999999, 107.54599999999999, 107.54599999999999, 107.54599999999999, 107.54599999999999, 107.54599999999999, 107.54599999999999, 107.54599999999999, 107.54599999999999, 107.54599999999999, 107.54599999999999, 107.54599999999999, 107.54599999999999, 107.54599999999999, 107.54599999999999, 107.54599999999999, 107.54599999999999, 107.54599999999999, 107.54599999999999, 107.54599999999999, 107.54599999999999, 107.54599999999999]}, {\"line\": {\"color\": \"blue\", \"dash\": \"dot\"}, \"name\": \"Depth=0.131\", \"type\": \"scatter\", \"x\": [0.0, 1.618, 3.2319999999999998, 4.85, 6.466, 8.084, 9.701, 11.315999999999999, 12.933, 14.550999999999998, 16.169, 17.785999999999998, 19.401, 21.017, 22.635, 24.252, 25.87, 27.484, 29.101999999999997, 30.72, 32.336999999999996, 33.955, 35.568000000000005, 37.186, 38.803000000000004, 40.421, 42.038999999999994, 43.653, 45.271, 46.888000000000005, 48.505, 50.123000000000005, 51.736999999999995, 53.354, 54.972, 56.59, 58.207], \"y\": [107.579, 107.579, 107.579, 107.579, 107.579, 107.579, 107.579, 107.579, 107.579, 107.579, 107.579, 107.579, 107.579, 107.579, 107.579, 107.579, 107.579, 107.579, 107.579, 107.579, 107.579, 107.579, 107.579, 107.579, 107.579, 107.579, 107.579, 107.579, 107.579, 107.579, 107.579, 107.579, 107.579, 107.579, 107.579, 107.579, 107.579]}, {\"line\": {\"color\": \"blue\", \"dash\": \"dot\"}, \"name\": \"Depth=0.16399999999999998\", \"type\": \"scatter\", \"x\": [0.0, 1.618, 3.2319999999999998, 4.85, 6.466, 8.084, 9.701, 11.315999999999999, 12.933, 14.550999999999998, 16.169, 17.785999999999998, 19.401, 21.017, 22.635, 24.252, 25.87, 27.484, 29.101999999999997, 30.72, 32.336999999999996, 33.955, 35.568000000000005, 37.186, 38.803000000000004, 40.421, 42.038999999999994, 43.653, 45.271, 46.888000000000005, 48.505, 50.123000000000005, 51.736999999999995, 53.354, 54.972, 56.59, 58.207], \"y\": [107.612, 107.612, 107.612, 107.612, 107.612, 107.612, 107.612, 107.612, 107.612, 107.612, 107.612, 107.612, 107.612, 107.612, 107.612, 107.612, 107.612, 107.612, 107.612, 107.612, 107.612, 107.612, 107.612, 107.612, 107.612, 107.612, 107.612, 107.612, 107.612, 107.612, 107.612, 107.612, 107.612, 107.612, 107.612, 107.612, 107.612]}, {\"line\": {\"color\": \"blue\", \"dash\": \"dot\"}, \"name\": \"Depth=0.19699999999999998\", \"type\": \"scatter\", \"x\": [0.0, 1.618, 3.2319999999999998, 4.85, 6.466, 8.084, 9.701, 11.315999999999999, 12.933, 14.550999999999998, 16.169, 17.785999999999998, 19.401, 21.017, 22.635, 24.252, 25.87, 27.484, 29.101999999999997, 30.72, 32.336999999999996, 33.955, 35.568000000000005, 37.186, 38.803000000000004, 40.421, 42.038999999999994, 43.653, 45.271, 46.888000000000005, 48.505, 50.123000000000005, 51.736999999999995, 53.354, 54.972, 56.59, 58.207], \"y\": [107.645, 107.645, 107.645, 107.645, 107.645, 107.645, 107.645, 107.645, 107.645, 107.645, 107.645, 107.645, 107.645, 107.645, 107.645, 107.645, 107.645, 107.645, 107.645, 107.645, 107.645, 107.645, 107.645, 107.645, 107.645, 107.645, 107.645, 107.645, 107.645, 107.645, 107.645, 107.645, 107.645, 107.645, 107.645, 107.645, 107.645]}, {\"line\": {\"color\": \"blue\", \"dash\": \"dot\"}, \"name\": \"Depth=0.262\", \"type\": \"scatter\", \"x\": [0.0, 1.618, 3.2319999999999998, 4.85, 6.466, 8.084, 9.701, 11.315999999999999, 12.933, 14.550999999999998, 16.169, 17.785999999999998, 19.401, 21.017, 22.635, 24.252, 25.87, 27.484, 29.101999999999997, 30.72, 32.336999999999996, 33.955, 35.568000000000005, 37.186, 38.803000000000004, 40.421, 42.038999999999994, 43.653, 45.271, 46.888000000000005, 48.505, 50.123000000000005, 51.736999999999995, 53.354, 54.972, 56.59, 58.207], \"y\": [107.71, 107.71, 107.71, 107.71, 107.71, 107.71, 107.71, 107.71, 107.71, 107.71, 107.71, 107.71, 107.71, 107.71, 107.71, 107.71, 107.71, 107.71, 107.71, 107.71, 107.71, 107.71, 107.71, 107.71, 107.71, 107.71, 107.71, 107.71, 107.71, 107.71, 107.71, 107.71, 107.71, 107.71, 107.71, 107.71, 107.71]}, {\"line\": {\"color\": \"blue\", \"dash\": \"dot\"}, \"name\": \"Depth=1.083\", \"type\": \"scatter\", \"x\": [0.0, 1.618, 3.2319999999999998, 4.85, 6.466, 8.084, 9.701, 11.315999999999999, 12.933, 14.550999999999998, 16.169, 17.785999999999998, 19.401, 21.017, 22.635, 24.252, 25.87, 27.484, 29.101999999999997, 30.72, 32.336999999999996, 33.955, 35.568000000000005, 37.186, 38.803000000000004, 40.421, 42.038999999999994, 43.653, 45.271, 46.888000000000005, 48.505, 50.123000000000005, 51.736999999999995, 53.354, 54.972, 56.59, 58.207], \"y\": [108.53099999999999, 108.53099999999999, 108.53099999999999, 108.53099999999999, 108.53099999999999, 108.53099999999999, 108.53099999999999, 108.53099999999999, 108.53099999999999, 108.53099999999999, 108.53099999999999, 108.53099999999999, 108.53099999999999, 108.53099999999999, 108.53099999999999, 108.53099999999999, 108.53099999999999, 108.53099999999999, 108.53099999999999, 108.53099999999999, 108.53099999999999, 108.53099999999999, 108.53099999999999, 108.53099999999999, 108.53099999999999, 108.53099999999999, 108.53099999999999, 108.53099999999999, 108.53099999999999, 108.53099999999999, 108.53099999999999, 108.53099999999999, 108.53099999999999, 108.53099999999999, 108.53099999999999, 108.53099999999999, 108.53099999999999]}, {\"line\": {\"color\": \"blue\", \"dash\": \"dot\"}, \"name\": \"Depth=1.444\", \"type\": \"scatter\", \"x\": [0.0, 1.618, 3.2319999999999998, 4.85, 6.466, 8.084, 9.701, 11.315999999999999, 12.933, 14.550999999999998, 16.169, 17.785999999999998, 19.401, 21.017, 22.635, 24.252, 25.87, 27.484, 29.101999999999997, 30.72, 32.336999999999996, 33.955, 35.568000000000005, 37.186, 38.803000000000004, 40.421, 42.038999999999994, 43.653, 45.271, 46.888000000000005, 48.505, 50.123000000000005, 51.736999999999995, 53.354, 54.972, 56.59, 58.207], \"y\": [108.892, 108.892, 108.892, 108.892, 108.892, 108.892, 108.892, 108.892, 108.892, 108.892, 108.892, 108.892, 108.892, 108.892, 108.892, 108.892, 108.892, 108.892, 108.892, 108.892, 108.892, 108.892, 108.892, 108.892, 108.892, 108.892, 108.892, 108.892, 108.892, 108.892, 108.892, 108.892, 108.892, 108.892, 108.892, 108.892, 108.892]}, {\"line\": {\"color\": \"blue\", \"dash\": \"dot\"}, \"name\": \"Depth=1.903\", \"type\": \"scatter\", \"x\": [0.0, 1.618, 3.2319999999999998, 4.85, 6.466, 8.084, 9.701, 11.315999999999999, 12.933, 14.550999999999998, 16.169, 17.785999999999998, 19.401, 21.017, 22.635, 24.252, 25.87, 27.484, 29.101999999999997, 30.72, 32.336999999999996, 33.955, 35.568000000000005, 37.186, 38.803000000000004, 40.421, 42.038999999999994, 43.653, 45.271, 46.888000000000005, 48.505, 50.123000000000005, 51.736999999999995, 53.354, 54.972, 56.59, 58.207], \"y\": [109.351, 109.351, 109.351, 109.351, 109.351, 109.351, 109.351, 109.351, 109.351, 109.351, 109.351, 109.351, 109.351, 109.351, 109.351, 109.351, 109.351, 109.351, 109.351, 109.351, 109.351, 109.351, 109.351, 109.351, 109.351, 109.351, 109.351, 109.351, 109.351, 109.351, 109.351, 109.351, 109.351, 109.351, 109.351, 109.351, 109.351]}, {\"line\": {\"color\": \"blue\", \"dash\": \"dot\"}, \"name\": \"Depth=3.3789999999999996\", \"type\": \"scatter\", \"x\": [0.0, 1.618, 3.2319999999999998, 4.85, 6.466, 8.084, 9.701, 11.315999999999999, 12.933, 14.550999999999998, 16.169, 17.785999999999998, 19.401, 21.017, 22.635, 24.252, 25.87, 27.484, 29.101999999999997, 30.72, 32.336999999999996, 33.955, 35.568000000000005, 37.186, 38.803000000000004, 40.421, 42.038999999999994, 43.653, 45.271, 46.888000000000005, 48.505, 50.123000000000005, 51.736999999999995, 53.354, 54.972, 56.59, 58.207], \"y\": [110.827, 110.827, 110.827, 110.827, 110.827, 110.827, 110.827, 110.827, 110.827, 110.827, 110.827, 110.827, 110.827, 110.827, 110.827, 110.827, 110.827, 110.827, 110.827, 110.827, 110.827, 110.827, 110.827, 110.827, 110.827, 110.827, 110.827, 110.827, 110.827, 110.827, 110.827, 110.827, 110.827, 110.827, 110.827, 110.827, 110.827]}, {\"line\": {\"color\": \"blue\", \"dash\": \"dot\"}, \"name\": \"Depth=4.428999999999999\", \"type\": \"scatter\", \"x\": [0.0, 1.618, 3.2319999999999998, 4.85, 6.466, 8.084, 9.701, 11.315999999999999, 12.933, 14.550999999999998, 16.169, 17.785999999999998, 19.401, 21.017, 22.635, 24.252, 25.87, 27.484, 29.101999999999997, 30.72, 32.336999999999996, 33.955, 35.568000000000005, 37.186, 38.803000000000004, 40.421, 42.038999999999994, 43.653, 45.271, 46.888000000000005, 48.505, 50.123000000000005, 51.736999999999995, 53.354, 54.972, 56.59, 58.207], \"y\": [111.877, 111.877, 111.877, 111.877, 111.877, 111.877, 111.877, 111.877, 111.877, 111.877, 111.877, 111.877, 111.877, 111.877, 111.877, 111.877, 111.877, 111.877, 111.877, 111.877, 111.877, 111.877, 111.877, 111.877, 111.877, 111.877, 111.877, 111.877, 111.877, 111.877, 111.877, 111.877, 111.877, 111.877, 111.877, 111.877, 111.877]}, {\"line\": {\"color\": \"blue\", \"dash\": \"dot\"}, \"name\": \"Depth=4.495\", \"type\": \"scatter\", \"x\": [0.0, 1.618, 3.2319999999999998, 4.85, 6.466, 8.084, 9.701, 11.315999999999999, 12.933, 14.550999999999998, 16.169, 17.785999999999998, 19.401, 21.017, 22.635, 24.252, 25.87, 27.484, 29.101999999999997, 30.72, 32.336999999999996, 33.955, 35.568000000000005, 37.186, 38.803000000000004, 40.421, 42.038999999999994, 43.653, 45.271, 46.888000000000005, 48.505, 50.123000000000005, 51.736999999999995, 53.354, 54.972, 56.59, 58.207], \"y\": [111.943, 111.943, 111.943, 111.943, 111.943, 111.943, 111.943, 111.943, 111.943, 111.943, 111.943, 111.943, 111.943, 111.943, 111.943, 111.943, 111.943, 111.943, 111.943, 111.943, 111.943, 111.943, 111.943, 111.943, 111.943, 111.943, 111.943, 111.943, 111.943, 111.943, 111.943, 111.943, 111.943, 111.943, 111.943, 111.943, 111.943]}, {\"line\": {\"color\": \"blue\", \"dash\": \"dot\"}, \"name\": \"Depth=4.5280000000000005\", \"type\": \"scatter\", \"x\": [0.0, 1.618, 3.2319999999999998, 4.85, 6.466, 8.084, 9.701, 11.315999999999999, 12.933, 14.550999999999998, 16.169, 17.785999999999998, 19.401, 21.017, 22.635, 24.252, 25.87, 27.484, 29.101999999999997, 30.72, 32.336999999999996, 33.955, 35.568000000000005, 37.186, 38.803000000000004, 40.421, 42.038999999999994, 43.653, 45.271, 46.888000000000005, 48.505, 50.123000000000005, 51.736999999999995, 53.354, 54.972, 56.59, 58.207], \"y\": [111.976, 111.976, 111.976, 111.976, 111.976, 111.976, 111.976, 111.976, 111.976, 111.976, 111.976, 111.976, 111.976, 111.976, 111.976, 111.976, 111.976, 111.976, 111.976, 111.976, 111.976, 111.976, 111.976, 111.976, 111.976, 111.976, 111.976, 111.976, 111.976, 111.976, 111.976, 111.976, 111.976, 111.976, 111.976, 111.976, 111.976]}, {\"line\": {\"color\": \"blue\", \"dash\": \"dot\"}, \"name\": \"Depth=4.56\", \"type\": \"scatter\", \"x\": [0.0, 1.618, 3.2319999999999998, 4.85, 6.466, 8.084, 9.701, 11.315999999999999, 12.933, 14.550999999999998, 16.169, 17.785999999999998, 19.401, 21.017, 22.635, 24.252, 25.87, 27.484, 29.101999999999997, 30.72, 32.336999999999996, 33.955, 35.568000000000005, 37.186, 38.803000000000004, 40.421, 42.038999999999994, 43.653, 45.271, 46.888000000000005, 48.505, 50.123000000000005, 51.736999999999995, 53.354, 54.972, 56.59, 58.207], \"y\": [112.008, 112.008, 112.008, 112.008, 112.008, 112.008, 112.008, 112.008, 112.008, 112.008, 112.008, 112.008, 112.008, 112.008, 112.008, 112.008, 112.008, 112.008, 112.008, 112.008, 112.008, 112.008, 112.008, 112.008, 112.008, 112.008, 112.008, 112.008, 112.008, 112.008, 112.008, 112.008, 112.008, 112.008, 112.008, 112.008, 112.008]}, {\"line\": {\"color\": \"blue\", \"dash\": \"dot\"}, \"name\": \"Depth=5.02\", \"type\": \"scatter\", \"x\": [0.0, 1.618, 3.2319999999999998, 4.85, 6.466, 8.084, 9.701, 11.315999999999999, 12.933, 14.550999999999998, 16.169, 17.785999999999998, 19.401, 21.017, 22.635, 24.252, 25.87, 27.484, 29.101999999999997, 30.72, 32.336999999999996, 33.955, 35.568000000000005, 37.186, 38.803000000000004, 40.421, 42.038999999999994, 43.653, 45.271, 46.888000000000005, 48.505, 50.123000000000005, 51.736999999999995, 53.354, 54.972, 56.59, 58.207], \"y\": [112.46799999999999, 112.46799999999999, 112.46799999999999, 112.46799999999999, 112.46799999999999, 112.46799999999999, 112.46799999999999, 112.46799999999999, 112.46799999999999, 112.46799999999999, 112.46799999999999, 112.46799999999999, 112.46799999999999, 112.46799999999999, 112.46799999999999, 112.46799999999999, 112.46799999999999, 112.46799999999999, 112.46799999999999, 112.46799999999999, 112.46799999999999, 112.46799999999999, 112.46799999999999, 112.46799999999999, 112.46799999999999, 112.46799999999999, 112.46799999999999, 112.46799999999999, 112.46799999999999, 112.46799999999999, 112.46799999999999, 112.46799999999999, 112.46799999999999, 112.46799999999999, 112.46799999999999, 112.46799999999999, 112.46799999999999]}],\n",
       "                        {\"autosize\": true, \"height\": 800, \"margin\": {\"b\": 100, \"l\": 50, \"pad\": 4, \"r\": 50, \"t\": 100}, \"paper_bgcolor\": \"White\", \"template\": {\"data\": {\"bar\": [{\"error_x\": {\"color\": \"#2a3f5f\"}, \"error_y\": {\"color\": \"#2a3f5f\"}, \"marker\": {\"line\": {\"color\": \"#E5ECF6\", \"width\": 0.5}}, \"type\": \"bar\"}], \"barpolar\": [{\"marker\": {\"line\": {\"color\": \"#E5ECF6\", \"width\": 0.5}}, \"type\": \"barpolar\"}], \"carpet\": [{\"aaxis\": {\"endlinecolor\": \"#2a3f5f\", \"gridcolor\": \"white\", \"linecolor\": \"white\", \"minorgridcolor\": \"white\", \"startlinecolor\": \"#2a3f5f\"}, \"baxis\": {\"endlinecolor\": \"#2a3f5f\", \"gridcolor\": \"white\", \"linecolor\": \"white\", \"minorgridcolor\": \"white\", \"startlinecolor\": \"#2a3f5f\"}, \"type\": \"carpet\"}], \"choropleth\": [{\"colorbar\": {\"outlinewidth\": 0, \"ticks\": \"\"}, \"type\": \"choropleth\"}], \"contour\": [{\"colorbar\": {\"outlinewidth\": 0, \"ticks\": \"\"}, \"colorscale\": [[0.0, \"#0d0887\"], [0.1111111111111111, \"#46039f\"], [0.2222222222222222, \"#7201a8\"], [0.3333333333333333, \"#9c179e\"], [0.4444444444444444, \"#bd3786\"], [0.5555555555555556, \"#d8576b\"], [0.6666666666666666, \"#ed7953\"], [0.7777777777777778, \"#fb9f3a\"], [0.8888888888888888, \"#fdca26\"], [1.0, \"#f0f921\"]], \"type\": \"contour\"}], \"contourcarpet\": [{\"colorbar\": {\"outlinewidth\": 0, \"ticks\": \"\"}, \"type\": \"contourcarpet\"}], \"heatmap\": [{\"colorbar\": {\"outlinewidth\": 0, \"ticks\": \"\"}, \"colorscale\": [[0.0, \"#0d0887\"], [0.1111111111111111, \"#46039f\"], [0.2222222222222222, \"#7201a8\"], [0.3333333333333333, \"#9c179e\"], [0.4444444444444444, \"#bd3786\"], [0.5555555555555556, \"#d8576b\"], [0.6666666666666666, \"#ed7953\"], [0.7777777777777778, \"#fb9f3a\"], [0.8888888888888888, \"#fdca26\"], [1.0, \"#f0f921\"]], \"type\": \"heatmap\"}], \"heatmapgl\": [{\"colorbar\": {\"outlinewidth\": 0, \"ticks\": \"\"}, \"colorscale\": [[0.0, \"#0d0887\"], [0.1111111111111111, \"#46039f\"], [0.2222222222222222, \"#7201a8\"], [0.3333333333333333, \"#9c179e\"], [0.4444444444444444, \"#bd3786\"], [0.5555555555555556, \"#d8576b\"], [0.6666666666666666, \"#ed7953\"], [0.7777777777777778, \"#fb9f3a\"], [0.8888888888888888, \"#fdca26\"], [1.0, \"#f0f921\"]], \"type\": \"heatmapgl\"}], \"histogram\": [{\"marker\": {\"colorbar\": {\"outlinewidth\": 0, \"ticks\": \"\"}}, \"type\": \"histogram\"}], \"histogram2d\": [{\"colorbar\": {\"outlinewidth\": 0, \"ticks\": \"\"}, \"colorscale\": [[0.0, \"#0d0887\"], [0.1111111111111111, \"#46039f\"], [0.2222222222222222, \"#7201a8\"], [0.3333333333333333, \"#9c179e\"], [0.4444444444444444, \"#bd3786\"], [0.5555555555555556, \"#d8576b\"], [0.6666666666666666, \"#ed7953\"], [0.7777777777777778, \"#fb9f3a\"], [0.8888888888888888, \"#fdca26\"], [1.0, \"#f0f921\"]], \"type\": \"histogram2d\"}], \"histogram2dcontour\": [{\"colorbar\": {\"outlinewidth\": 0, \"ticks\": \"\"}, \"colorscale\": [[0.0, \"#0d0887\"], [0.1111111111111111, \"#46039f\"], [0.2222222222222222, \"#7201a8\"], [0.3333333333333333, \"#9c179e\"], [0.4444444444444444, \"#bd3786\"], [0.5555555555555556, \"#d8576b\"], [0.6666666666666666, \"#ed7953\"], [0.7777777777777778, \"#fb9f3a\"], [0.8888888888888888, \"#fdca26\"], [1.0, \"#f0f921\"]], \"type\": \"histogram2dcontour\"}], \"mesh3d\": [{\"colorbar\": {\"outlinewidth\": 0, \"ticks\": \"\"}, \"type\": \"mesh3d\"}], \"parcoords\": [{\"line\": {\"colorbar\": {\"outlinewidth\": 0, \"ticks\": \"\"}}, \"type\": \"parcoords\"}], \"pie\": [{\"automargin\": true, \"type\": \"pie\"}], \"scatter\": [{\"marker\": {\"colorbar\": {\"outlinewidth\": 0, \"ticks\": \"\"}}, \"type\": \"scatter\"}], \"scatter3d\": [{\"line\": {\"colorbar\": {\"outlinewidth\": 0, \"ticks\": \"\"}}, \"marker\": {\"colorbar\": {\"outlinewidth\": 0, \"ticks\": \"\"}}, \"type\": \"scatter3d\"}], \"scattercarpet\": [{\"marker\": {\"colorbar\": {\"outlinewidth\": 0, \"ticks\": \"\"}}, \"type\": \"scattercarpet\"}], \"scattergeo\": [{\"marker\": {\"colorbar\": {\"outlinewidth\": 0, \"ticks\": \"\"}}, \"type\": \"scattergeo\"}], \"scattergl\": [{\"marker\": {\"colorbar\": {\"outlinewidth\": 0, \"ticks\": \"\"}}, \"type\": \"scattergl\"}], \"scattermapbox\": [{\"marker\": {\"colorbar\": {\"outlinewidth\": 0, \"ticks\": \"\"}}, \"type\": \"scattermapbox\"}], \"scatterpolar\": [{\"marker\": {\"colorbar\": {\"outlinewidth\": 0, \"ticks\": \"\"}}, \"type\": \"scatterpolar\"}], \"scatterpolargl\": [{\"marker\": {\"colorbar\": {\"outlinewidth\": 0, \"ticks\": \"\"}}, \"type\": \"scatterpolargl\"}], \"scatterternary\": [{\"marker\": {\"colorbar\": {\"outlinewidth\": 0, \"ticks\": \"\"}}, \"type\": \"scatterternary\"}], \"surface\": [{\"colorbar\": {\"outlinewidth\": 0, \"ticks\": \"\"}, \"colorscale\": [[0.0, \"#0d0887\"], [0.1111111111111111, \"#46039f\"], [0.2222222222222222, \"#7201a8\"], [0.3333333333333333, \"#9c179e\"], [0.4444444444444444, \"#bd3786\"], [0.5555555555555556, \"#d8576b\"], [0.6666666666666666, \"#ed7953\"], [0.7777777777777778, \"#fb9f3a\"], [0.8888888888888888, \"#fdca26\"], [1.0, \"#f0f921\"]], \"type\": \"surface\"}], \"table\": [{\"cells\": {\"fill\": {\"color\": \"#EBF0F8\"}, \"line\": {\"color\": \"white\"}}, \"header\": {\"fill\": {\"color\": \"#C8D4E3\"}, \"line\": {\"color\": \"white\"}}, \"type\": \"table\"}]}, \"layout\": {\"annotationdefaults\": {\"arrowcolor\": \"#2a3f5f\", \"arrowhead\": 0, \"arrowwidth\": 1}, \"coloraxis\": {\"colorbar\": {\"outlinewidth\": 0, \"ticks\": \"\"}}, \"colorscale\": {\"diverging\": [[0, \"#8e0152\"], [0.1, \"#c51b7d\"], [0.2, \"#de77ae\"], [0.3, \"#f1b6da\"], [0.4, \"#fde0ef\"], [0.5, \"#f7f7f7\"], [0.6, \"#e6f5d0\"], [0.7, \"#b8e186\"], [0.8, \"#7fbc41\"], [0.9, \"#4d9221\"], [1, \"#276419\"]], \"sequential\": [[0.0, \"#0d0887\"], [0.1111111111111111, \"#46039f\"], [0.2222222222222222, \"#7201a8\"], [0.3333333333333333, \"#9c179e\"], [0.4444444444444444, \"#bd3786\"], [0.5555555555555556, \"#d8576b\"], [0.6666666666666666, \"#ed7953\"], [0.7777777777777778, \"#fb9f3a\"], [0.8888888888888888, \"#fdca26\"], [1.0, \"#f0f921\"]], \"sequentialminus\": [[0.0, \"#0d0887\"], [0.1111111111111111, \"#46039f\"], [0.2222222222222222, \"#7201a8\"], [0.3333333333333333, \"#9c179e\"], [0.4444444444444444, \"#bd3786\"], [0.5555555555555556, \"#d8576b\"], [0.6666666666666666, \"#ed7953\"], [0.7777777777777778, \"#fb9f3a\"], [0.8888888888888888, \"#fdca26\"], [1.0, \"#f0f921\"]]}, \"colorway\": [\"#636efa\", \"#EF553B\", \"#00cc96\", \"#ab63fa\", \"#FFA15A\", \"#19d3f3\", \"#FF6692\", \"#B6E880\", \"#FF97FF\", \"#FECB52\"], \"font\": {\"color\": \"#2a3f5f\"}, \"geo\": {\"bgcolor\": \"white\", \"lakecolor\": \"white\", \"landcolor\": \"#E5ECF6\", \"showlakes\": true, \"showland\": true, \"subunitcolor\": \"white\"}, \"hoverlabel\": {\"align\": \"left\"}, \"hovermode\": \"closest\", \"mapbox\": {\"style\": \"light\"}, \"paper_bgcolor\": \"white\", \"plot_bgcolor\": \"#E5ECF6\", \"polar\": {\"angularaxis\": {\"gridcolor\": \"white\", \"linecolor\": \"white\", \"ticks\": \"\"}, \"bgcolor\": \"#E5ECF6\", \"radialaxis\": {\"gridcolor\": \"white\", \"linecolor\": \"white\", \"ticks\": \"\"}}, \"scene\": {\"xaxis\": {\"backgroundcolor\": \"#E5ECF6\", \"gridcolor\": \"white\", \"gridwidth\": 2, \"linecolor\": \"white\", \"showbackground\": true, \"ticks\": \"\", \"zerolinecolor\": \"white\"}, \"yaxis\": {\"backgroundcolor\": \"#E5ECF6\", \"gridcolor\": \"white\", \"gridwidth\": 2, \"linecolor\": \"white\", \"showbackground\": true, \"ticks\": \"\", \"zerolinecolor\": \"white\"}, \"zaxis\": {\"backgroundcolor\": \"#E5ECF6\", \"gridcolor\": \"white\", \"gridwidth\": 2, \"linecolor\": \"white\", \"showbackground\": true, \"ticks\": \"\", \"zerolinecolor\": \"white\"}}, \"shapedefaults\": {\"line\": {\"color\": \"#2a3f5f\"}}, \"ternary\": {\"aaxis\": {\"gridcolor\": \"white\", \"linecolor\": \"white\", \"ticks\": \"\"}, \"baxis\": {\"gridcolor\": \"white\", \"linecolor\": \"white\", \"ticks\": \"\"}, \"bgcolor\": \"#E5ECF6\", \"caxis\": {\"gridcolor\": \"white\", \"linecolor\": \"white\", \"ticks\": \"\"}}, \"title\": {\"x\": 0.05}, \"xaxis\": {\"automargin\": true, \"gridcolor\": \"white\", \"linecolor\": \"white\", \"ticks\": \"\", \"title\": {\"standoff\": 15}, \"zerolinecolor\": \"white\", \"zerolinewidth\": 2}, \"yaxis\": {\"automargin\": true, \"gridcolor\": \"white\", \"linecolor\": \"white\", \"ticks\": \"\", \"title\": {\"standoff\": 15}, \"zerolinecolor\": \"white\", \"zerolinewidth\": 2}}}, \"title\": {\"text\": \"Cross section for 16\"}, \"width\": 1200},\n",
       "                        {\"responsive\": true}\n",
       "                    ).then(function(){\n",
       "                            \n",
       "var gd = document.getElementById('6300c672-ae46-48ec-a6db-1a90fa367e0f');\n",
       "var x = new MutationObserver(function (mutations, observer) {{\n",
       "        var display = window.getComputedStyle(gd).display;\n",
       "        if (!display || display === 'none') {{\n",
       "            console.log([gd, 'removed!']);\n",
       "            Plotly.purge(gd);\n",
       "            observer.disconnect();\n",
       "        }}\n",
       "}});\n",
       "\n",
       "// Listen for the removal of the full notebook cells\n",
       "var notebookContainer = gd.closest('#notebook-container');\n",
       "if (notebookContainer) {{\n",
       "    x.observe(notebookContainer, {childList: true});\n",
       "}}\n",
       "\n",
       "// Listen for the clearing of the current output cell\n",
       "var outputEl = gd.closest('.output');\n",
       "if (outputEl) {{\n",
       "    x.observe(outputEl, {childList: true});\n",
       "}}\n",
       "\n",
       "                        })\n",
       "                };\n",
       "                });\n",
       "            </script>\n",
       "        </div>"
      ]
     },
     "metadata": {},
     "output_type": "display_data"
    }
   ],
   "source": [
    "invert = 107.448\n",
    "fig = plot_xs(conveyance_df=df, xs_df=df_xs, invert=invert, level_fld='level', z_fld = 'z', offset_fld='offset')\n",
    "\n",
    "fig.update_layout(\n",
    "    title='Cross section for 16',\n",
    "    autosize=True,\n",
    "    width=1200,\n",
    "    height=800,\n",
    "    margin=dict(\n",
    "        l=50,\n",
    "        r=50,\n",
    "        b=100,\n",
    "        t=100,\n",
    "        pad=4\n",
    "    ),\n",
    "    paper_bgcolor=\"White\",\n",
    ")"
   ]
  },
  {
   "cell_type": "code",
   "execution_count": 92,
   "metadata": {},
   "outputs": [],
   "source": [
    "import pandas as pd\n",
    "import csv\n",
    "import plotly.graph_objects as go\n",
    "from plotly.subplots import make_subplots\n",
    "\n",
    "\n",
    "def plot_xs(conveyance_df, xs_df, invert, level_fld='level', z_fld = 'z', offset_fld='offset'):\n",
    "    df_xs = xs_df.copy()\n",
    "    df_cv = conveyance_df.copy()\n",
    "    df_cv['z'] = df_cv['Depth (ft)'] + invert\n",
    "    fig = make_subplots(rows=1, cols=2, \n",
    "                        shared_yaxes=True, \n",
    "                        vertical_spacing=0.01\n",
    "                       )\n",
    "#     ax = df_xs.plot(x=offset_fld, y=z_fld, linewidth=3, alpha=0.5, color='grey', figsize=(20,10), label='bed elevation')\n",
    "    fig.add_trace(go.Scatter(\n",
    "        x = df_xs[offset_fld],\n",
    "        y = df_xs[z_fld],\n",
    "        name = 'bed elevation',\n",
    "        mode='lines+markers',\n",
    "        line=dict(color='grey')\n",
    "    ), row=1, col=1 )\n",
    "    \n",
    "    hovertext = []\n",
    "    for idx, r in df_cv.iterrows():\n",
    "        hovertext.append('q=%.2f Area=%.2f Perimeter=%.2f' % (r['no_panel'], r['Area (ft2)'], r['Perimeter (ft)'])) \n",
    "    fig.add_trace(go.Scatter(\n",
    "        x = df_cv['no_panel'],\n",
    "        y = df_cv['z'],\n",
    "        name = 'conveyance curve',\n",
    "        mode='lines+markers',\n",
    "        hovertext = hovertext,\n",
    "        line=dict(color='blue')\n",
    "    ), row=1, col=2 )\n",
    "        \n",
    "    for idx, r in conveyance_df.iterrows():\n",
    "        level = r['Depth (ft)'] + invert\n",
    "        icm_area = r['Area (ft2)']\n",
    "        df_xs['level'] = level\n",
    "        fig.add_trace(go.Scatter(\n",
    "        x = df_xs[offset_fld],\n",
    "        y = df_xs['level'],\n",
    "        name = 'Depth=%s' % r['Depth (ft)'],\n",
    "        line=dict(color='blue', dash='dot')\n",
    "    ), row=1, col=1)\n",
    "#         df_xs.plot(x=offset_fld, y='level', style='--', color='blue', alpha=0.2, label='Depth=%s' % r['Depth (ft)'], ax=ax)\n",
    "    return fig\n",
    "        \n",
    "        "
   ]
  },
  {
   "cell_type": "code",
   "execution_count": 93,
   "metadata": {},
   "outputs": [
    {
     "data": {
      "application/vnd.plotly.v1+json": {
       "config": {
        "plotlyServerURL": "https://plot.ly"
       },
       "data": [
        {
         "line": {
          "color": "grey"
         },
         "mode": "lines+markers",
         "name": "bed elevation",
         "type": "scatter",
         "x": [
          0,
          1.618,
          3.2319999999999998,
          4.85,
          6.466,
          8.084,
          9.701,
          11.315999999999999,
          12.933,
          14.550999999999998,
          16.169,
          17.785999999999998,
          19.401,
          21.017,
          22.635,
          24.252,
          25.87,
          27.484,
          29.101999999999997,
          30.72,
          32.336999999999996,
          33.955,
          35.568000000000005,
          37.186,
          38.803000000000004,
          40.421,
          42.038999999999994,
          43.653,
          45.271,
          46.888000000000005,
          48.505,
          50.123000000000005,
          51.736999999999995,
          53.354,
          54.972,
          56.59,
          58.207
         ],
         "xaxis": "x",
         "y": [
          111.94200000000001,
          111.975,
          111.975,
          111.94200000000001,
          111.94200000000001,
          112.008,
          111.87700000000001,
          108.891,
          108.891,
          107.579,
          107.579,
          107.546,
          107.546,
          107.448,
          107.448,
          107.579,
          107.579,
          107.546,
          107.546,
          107.546,
          107.546,
          107.64399999999999,
          107.64399999999999,
          107.71,
          107.61200000000001,
          107.71,
          107.71,
          108.53,
          108.53,
          109.35,
          109.35,
          110.82700000000001,
          110.82700000000001,
          112.008,
          112.008,
          112.46700000000001,
          112.46700000000001
         ],
         "yaxis": "y"
        },
        {
         "hovertext": [
          "q=0.00 Area=0.00 Perimeter=1.62",
          "q=0.80 Area=0.30 Perimeter=10.92",
          "q=2.50 Area=0.72 Perimeter=18.34",
          "q=6.78 Area=1.34 Perimeter=18.93",
          "q=11.77 Area=1.98 Perimeter=22.21",
          "q=27.00 Area=3.56 Perimeter=27.72",
          "q=723.98 Area=27.32 Perimeter=32.45",
          "q=1237.60 Area=39.04 Perimeter=35.43",
          "q=2084.33 Area=55.23 Perimeter=38.59",
          "q=6224.48 Area=112.28 Perimeter=44.07",
          "q=10405.24 Area=156.87 Perimeter=47.05",
          "q=10356.44 Area=159.75 Perimeter=49.58",
          "q=9741.89 Area=161.34 Perimeter=55.70",
          "q=9587.94 Area=163.06 Perimeter=58.59",
          "q=11789.62 Area=188.69 Perimeter=61.89"
         ],
         "line": {
          "color": "blue"
         },
         "mode": "lines+markers",
         "name": "conveyance curve",
         "type": "scatter",
         "x": [
          0,
          0.8,
          2.5,
          6.78,
          11.77,
          27,
          723.98,
          1237.6,
          2084.33,
          6224.48,
          10405.24,
          10356.44,
          9741.89,
          9587.94,
          11789.62
         ],
         "xaxis": "x2",
         "y": [
          107.448,
          107.54599999999999,
          107.579,
          107.612,
          107.645,
          107.71,
          108.53099999999999,
          108.892,
          109.351,
          110.827,
          111.877,
          111.943,
          111.976,
          112.008,
          112.46799999999999
         ],
         "yaxis": "y2"
        },
        {
         "line": {
          "color": "blue",
          "dash": "dot"
         },
         "name": "Depth=0.0",
         "type": "scatter",
         "x": [
          0,
          1.618,
          3.2319999999999998,
          4.85,
          6.466,
          8.084,
          9.701,
          11.315999999999999,
          12.933,
          14.550999999999998,
          16.169,
          17.785999999999998,
          19.401,
          21.017,
          22.635,
          24.252,
          25.87,
          27.484,
          29.101999999999997,
          30.72,
          32.336999999999996,
          33.955,
          35.568000000000005,
          37.186,
          38.803000000000004,
          40.421,
          42.038999999999994,
          43.653,
          45.271,
          46.888000000000005,
          48.505,
          50.123000000000005,
          51.736999999999995,
          53.354,
          54.972,
          56.59,
          58.207
         ],
         "xaxis": "x",
         "y": [
          107.448,
          107.448,
          107.448,
          107.448,
          107.448,
          107.448,
          107.448,
          107.448,
          107.448,
          107.448,
          107.448,
          107.448,
          107.448,
          107.448,
          107.448,
          107.448,
          107.448,
          107.448,
          107.448,
          107.448,
          107.448,
          107.448,
          107.448,
          107.448,
          107.448,
          107.448,
          107.448,
          107.448,
          107.448,
          107.448,
          107.448,
          107.448,
          107.448,
          107.448,
          107.448,
          107.448,
          107.448
         ],
         "yaxis": "y"
        },
        {
         "line": {
          "color": "blue",
          "dash": "dot"
         },
         "name": "Depth=0.098",
         "type": "scatter",
         "x": [
          0,
          1.618,
          3.2319999999999998,
          4.85,
          6.466,
          8.084,
          9.701,
          11.315999999999999,
          12.933,
          14.550999999999998,
          16.169,
          17.785999999999998,
          19.401,
          21.017,
          22.635,
          24.252,
          25.87,
          27.484,
          29.101999999999997,
          30.72,
          32.336999999999996,
          33.955,
          35.568000000000005,
          37.186,
          38.803000000000004,
          40.421,
          42.038999999999994,
          43.653,
          45.271,
          46.888000000000005,
          48.505,
          50.123000000000005,
          51.736999999999995,
          53.354,
          54.972,
          56.59,
          58.207
         ],
         "xaxis": "x",
         "y": [
          107.54599999999999,
          107.54599999999999,
          107.54599999999999,
          107.54599999999999,
          107.54599999999999,
          107.54599999999999,
          107.54599999999999,
          107.54599999999999,
          107.54599999999999,
          107.54599999999999,
          107.54599999999999,
          107.54599999999999,
          107.54599999999999,
          107.54599999999999,
          107.54599999999999,
          107.54599999999999,
          107.54599999999999,
          107.54599999999999,
          107.54599999999999,
          107.54599999999999,
          107.54599999999999,
          107.54599999999999,
          107.54599999999999,
          107.54599999999999,
          107.54599999999999,
          107.54599999999999,
          107.54599999999999,
          107.54599999999999,
          107.54599999999999,
          107.54599999999999,
          107.54599999999999,
          107.54599999999999,
          107.54599999999999,
          107.54599999999999,
          107.54599999999999,
          107.54599999999999,
          107.54599999999999
         ],
         "yaxis": "y"
        },
        {
         "line": {
          "color": "blue",
          "dash": "dot"
         },
         "name": "Depth=0.131",
         "type": "scatter",
         "x": [
          0,
          1.618,
          3.2319999999999998,
          4.85,
          6.466,
          8.084,
          9.701,
          11.315999999999999,
          12.933,
          14.550999999999998,
          16.169,
          17.785999999999998,
          19.401,
          21.017,
          22.635,
          24.252,
          25.87,
          27.484,
          29.101999999999997,
          30.72,
          32.336999999999996,
          33.955,
          35.568000000000005,
          37.186,
          38.803000000000004,
          40.421,
          42.038999999999994,
          43.653,
          45.271,
          46.888000000000005,
          48.505,
          50.123000000000005,
          51.736999999999995,
          53.354,
          54.972,
          56.59,
          58.207
         ],
         "xaxis": "x",
         "y": [
          107.579,
          107.579,
          107.579,
          107.579,
          107.579,
          107.579,
          107.579,
          107.579,
          107.579,
          107.579,
          107.579,
          107.579,
          107.579,
          107.579,
          107.579,
          107.579,
          107.579,
          107.579,
          107.579,
          107.579,
          107.579,
          107.579,
          107.579,
          107.579,
          107.579,
          107.579,
          107.579,
          107.579,
          107.579,
          107.579,
          107.579,
          107.579,
          107.579,
          107.579,
          107.579,
          107.579,
          107.579
         ],
         "yaxis": "y"
        },
        {
         "line": {
          "color": "blue",
          "dash": "dot"
         },
         "name": "Depth=0.16399999999999998",
         "type": "scatter",
         "x": [
          0,
          1.618,
          3.2319999999999998,
          4.85,
          6.466,
          8.084,
          9.701,
          11.315999999999999,
          12.933,
          14.550999999999998,
          16.169,
          17.785999999999998,
          19.401,
          21.017,
          22.635,
          24.252,
          25.87,
          27.484,
          29.101999999999997,
          30.72,
          32.336999999999996,
          33.955,
          35.568000000000005,
          37.186,
          38.803000000000004,
          40.421,
          42.038999999999994,
          43.653,
          45.271,
          46.888000000000005,
          48.505,
          50.123000000000005,
          51.736999999999995,
          53.354,
          54.972,
          56.59,
          58.207
         ],
         "xaxis": "x",
         "y": [
          107.612,
          107.612,
          107.612,
          107.612,
          107.612,
          107.612,
          107.612,
          107.612,
          107.612,
          107.612,
          107.612,
          107.612,
          107.612,
          107.612,
          107.612,
          107.612,
          107.612,
          107.612,
          107.612,
          107.612,
          107.612,
          107.612,
          107.612,
          107.612,
          107.612,
          107.612,
          107.612,
          107.612,
          107.612,
          107.612,
          107.612,
          107.612,
          107.612,
          107.612,
          107.612,
          107.612,
          107.612
         ],
         "yaxis": "y"
        },
        {
         "line": {
          "color": "blue",
          "dash": "dot"
         },
         "name": "Depth=0.19699999999999998",
         "type": "scatter",
         "x": [
          0,
          1.618,
          3.2319999999999998,
          4.85,
          6.466,
          8.084,
          9.701,
          11.315999999999999,
          12.933,
          14.550999999999998,
          16.169,
          17.785999999999998,
          19.401,
          21.017,
          22.635,
          24.252,
          25.87,
          27.484,
          29.101999999999997,
          30.72,
          32.336999999999996,
          33.955,
          35.568000000000005,
          37.186,
          38.803000000000004,
          40.421,
          42.038999999999994,
          43.653,
          45.271,
          46.888000000000005,
          48.505,
          50.123000000000005,
          51.736999999999995,
          53.354,
          54.972,
          56.59,
          58.207
         ],
         "xaxis": "x",
         "y": [
          107.645,
          107.645,
          107.645,
          107.645,
          107.645,
          107.645,
          107.645,
          107.645,
          107.645,
          107.645,
          107.645,
          107.645,
          107.645,
          107.645,
          107.645,
          107.645,
          107.645,
          107.645,
          107.645,
          107.645,
          107.645,
          107.645,
          107.645,
          107.645,
          107.645,
          107.645,
          107.645,
          107.645,
          107.645,
          107.645,
          107.645,
          107.645,
          107.645,
          107.645,
          107.645,
          107.645,
          107.645
         ],
         "yaxis": "y"
        },
        {
         "line": {
          "color": "blue",
          "dash": "dot"
         },
         "name": "Depth=0.262",
         "type": "scatter",
         "x": [
          0,
          1.618,
          3.2319999999999998,
          4.85,
          6.466,
          8.084,
          9.701,
          11.315999999999999,
          12.933,
          14.550999999999998,
          16.169,
          17.785999999999998,
          19.401,
          21.017,
          22.635,
          24.252,
          25.87,
          27.484,
          29.101999999999997,
          30.72,
          32.336999999999996,
          33.955,
          35.568000000000005,
          37.186,
          38.803000000000004,
          40.421,
          42.038999999999994,
          43.653,
          45.271,
          46.888000000000005,
          48.505,
          50.123000000000005,
          51.736999999999995,
          53.354,
          54.972,
          56.59,
          58.207
         ],
         "xaxis": "x",
         "y": [
          107.71,
          107.71,
          107.71,
          107.71,
          107.71,
          107.71,
          107.71,
          107.71,
          107.71,
          107.71,
          107.71,
          107.71,
          107.71,
          107.71,
          107.71,
          107.71,
          107.71,
          107.71,
          107.71,
          107.71,
          107.71,
          107.71,
          107.71,
          107.71,
          107.71,
          107.71,
          107.71,
          107.71,
          107.71,
          107.71,
          107.71,
          107.71,
          107.71,
          107.71,
          107.71,
          107.71,
          107.71
         ],
         "yaxis": "y"
        },
        {
         "line": {
          "color": "blue",
          "dash": "dot"
         },
         "name": "Depth=1.083",
         "type": "scatter",
         "x": [
          0,
          1.618,
          3.2319999999999998,
          4.85,
          6.466,
          8.084,
          9.701,
          11.315999999999999,
          12.933,
          14.550999999999998,
          16.169,
          17.785999999999998,
          19.401,
          21.017,
          22.635,
          24.252,
          25.87,
          27.484,
          29.101999999999997,
          30.72,
          32.336999999999996,
          33.955,
          35.568000000000005,
          37.186,
          38.803000000000004,
          40.421,
          42.038999999999994,
          43.653,
          45.271,
          46.888000000000005,
          48.505,
          50.123000000000005,
          51.736999999999995,
          53.354,
          54.972,
          56.59,
          58.207
         ],
         "xaxis": "x",
         "y": [
          108.53099999999999,
          108.53099999999999,
          108.53099999999999,
          108.53099999999999,
          108.53099999999999,
          108.53099999999999,
          108.53099999999999,
          108.53099999999999,
          108.53099999999999,
          108.53099999999999,
          108.53099999999999,
          108.53099999999999,
          108.53099999999999,
          108.53099999999999,
          108.53099999999999,
          108.53099999999999,
          108.53099999999999,
          108.53099999999999,
          108.53099999999999,
          108.53099999999999,
          108.53099999999999,
          108.53099999999999,
          108.53099999999999,
          108.53099999999999,
          108.53099999999999,
          108.53099999999999,
          108.53099999999999,
          108.53099999999999,
          108.53099999999999,
          108.53099999999999,
          108.53099999999999,
          108.53099999999999,
          108.53099999999999,
          108.53099999999999,
          108.53099999999999,
          108.53099999999999,
          108.53099999999999
         ],
         "yaxis": "y"
        },
        {
         "line": {
          "color": "blue",
          "dash": "dot"
         },
         "name": "Depth=1.444",
         "type": "scatter",
         "x": [
          0,
          1.618,
          3.2319999999999998,
          4.85,
          6.466,
          8.084,
          9.701,
          11.315999999999999,
          12.933,
          14.550999999999998,
          16.169,
          17.785999999999998,
          19.401,
          21.017,
          22.635,
          24.252,
          25.87,
          27.484,
          29.101999999999997,
          30.72,
          32.336999999999996,
          33.955,
          35.568000000000005,
          37.186,
          38.803000000000004,
          40.421,
          42.038999999999994,
          43.653,
          45.271,
          46.888000000000005,
          48.505,
          50.123000000000005,
          51.736999999999995,
          53.354,
          54.972,
          56.59,
          58.207
         ],
         "xaxis": "x",
         "y": [
          108.892,
          108.892,
          108.892,
          108.892,
          108.892,
          108.892,
          108.892,
          108.892,
          108.892,
          108.892,
          108.892,
          108.892,
          108.892,
          108.892,
          108.892,
          108.892,
          108.892,
          108.892,
          108.892,
          108.892,
          108.892,
          108.892,
          108.892,
          108.892,
          108.892,
          108.892,
          108.892,
          108.892,
          108.892,
          108.892,
          108.892,
          108.892,
          108.892,
          108.892,
          108.892,
          108.892,
          108.892
         ],
         "yaxis": "y"
        },
        {
         "line": {
          "color": "blue",
          "dash": "dot"
         },
         "name": "Depth=1.903",
         "type": "scatter",
         "x": [
          0,
          1.618,
          3.2319999999999998,
          4.85,
          6.466,
          8.084,
          9.701,
          11.315999999999999,
          12.933,
          14.550999999999998,
          16.169,
          17.785999999999998,
          19.401,
          21.017,
          22.635,
          24.252,
          25.87,
          27.484,
          29.101999999999997,
          30.72,
          32.336999999999996,
          33.955,
          35.568000000000005,
          37.186,
          38.803000000000004,
          40.421,
          42.038999999999994,
          43.653,
          45.271,
          46.888000000000005,
          48.505,
          50.123000000000005,
          51.736999999999995,
          53.354,
          54.972,
          56.59,
          58.207
         ],
         "xaxis": "x",
         "y": [
          109.351,
          109.351,
          109.351,
          109.351,
          109.351,
          109.351,
          109.351,
          109.351,
          109.351,
          109.351,
          109.351,
          109.351,
          109.351,
          109.351,
          109.351,
          109.351,
          109.351,
          109.351,
          109.351,
          109.351,
          109.351,
          109.351,
          109.351,
          109.351,
          109.351,
          109.351,
          109.351,
          109.351,
          109.351,
          109.351,
          109.351,
          109.351,
          109.351,
          109.351,
          109.351,
          109.351,
          109.351
         ],
         "yaxis": "y"
        },
        {
         "line": {
          "color": "blue",
          "dash": "dot"
         },
         "name": "Depth=3.3789999999999996",
         "type": "scatter",
         "x": [
          0,
          1.618,
          3.2319999999999998,
          4.85,
          6.466,
          8.084,
          9.701,
          11.315999999999999,
          12.933,
          14.550999999999998,
          16.169,
          17.785999999999998,
          19.401,
          21.017,
          22.635,
          24.252,
          25.87,
          27.484,
          29.101999999999997,
          30.72,
          32.336999999999996,
          33.955,
          35.568000000000005,
          37.186,
          38.803000000000004,
          40.421,
          42.038999999999994,
          43.653,
          45.271,
          46.888000000000005,
          48.505,
          50.123000000000005,
          51.736999999999995,
          53.354,
          54.972,
          56.59,
          58.207
         ],
         "xaxis": "x",
         "y": [
          110.827,
          110.827,
          110.827,
          110.827,
          110.827,
          110.827,
          110.827,
          110.827,
          110.827,
          110.827,
          110.827,
          110.827,
          110.827,
          110.827,
          110.827,
          110.827,
          110.827,
          110.827,
          110.827,
          110.827,
          110.827,
          110.827,
          110.827,
          110.827,
          110.827,
          110.827,
          110.827,
          110.827,
          110.827,
          110.827,
          110.827,
          110.827,
          110.827,
          110.827,
          110.827,
          110.827,
          110.827
         ],
         "yaxis": "y"
        },
        {
         "line": {
          "color": "blue",
          "dash": "dot"
         },
         "name": "Depth=4.428999999999999",
         "type": "scatter",
         "x": [
          0,
          1.618,
          3.2319999999999998,
          4.85,
          6.466,
          8.084,
          9.701,
          11.315999999999999,
          12.933,
          14.550999999999998,
          16.169,
          17.785999999999998,
          19.401,
          21.017,
          22.635,
          24.252,
          25.87,
          27.484,
          29.101999999999997,
          30.72,
          32.336999999999996,
          33.955,
          35.568000000000005,
          37.186,
          38.803000000000004,
          40.421,
          42.038999999999994,
          43.653,
          45.271,
          46.888000000000005,
          48.505,
          50.123000000000005,
          51.736999999999995,
          53.354,
          54.972,
          56.59,
          58.207
         ],
         "xaxis": "x",
         "y": [
          111.877,
          111.877,
          111.877,
          111.877,
          111.877,
          111.877,
          111.877,
          111.877,
          111.877,
          111.877,
          111.877,
          111.877,
          111.877,
          111.877,
          111.877,
          111.877,
          111.877,
          111.877,
          111.877,
          111.877,
          111.877,
          111.877,
          111.877,
          111.877,
          111.877,
          111.877,
          111.877,
          111.877,
          111.877,
          111.877,
          111.877,
          111.877,
          111.877,
          111.877,
          111.877,
          111.877,
          111.877
         ],
         "yaxis": "y"
        },
        {
         "line": {
          "color": "blue",
          "dash": "dot"
         },
         "name": "Depth=4.495",
         "type": "scatter",
         "x": [
          0,
          1.618,
          3.2319999999999998,
          4.85,
          6.466,
          8.084,
          9.701,
          11.315999999999999,
          12.933,
          14.550999999999998,
          16.169,
          17.785999999999998,
          19.401,
          21.017,
          22.635,
          24.252,
          25.87,
          27.484,
          29.101999999999997,
          30.72,
          32.336999999999996,
          33.955,
          35.568000000000005,
          37.186,
          38.803000000000004,
          40.421,
          42.038999999999994,
          43.653,
          45.271,
          46.888000000000005,
          48.505,
          50.123000000000005,
          51.736999999999995,
          53.354,
          54.972,
          56.59,
          58.207
         ],
         "xaxis": "x",
         "y": [
          111.943,
          111.943,
          111.943,
          111.943,
          111.943,
          111.943,
          111.943,
          111.943,
          111.943,
          111.943,
          111.943,
          111.943,
          111.943,
          111.943,
          111.943,
          111.943,
          111.943,
          111.943,
          111.943,
          111.943,
          111.943,
          111.943,
          111.943,
          111.943,
          111.943,
          111.943,
          111.943,
          111.943,
          111.943,
          111.943,
          111.943,
          111.943,
          111.943,
          111.943,
          111.943,
          111.943,
          111.943
         ],
         "yaxis": "y"
        },
        {
         "line": {
          "color": "blue",
          "dash": "dot"
         },
         "name": "Depth=4.5280000000000005",
         "type": "scatter",
         "x": [
          0,
          1.618,
          3.2319999999999998,
          4.85,
          6.466,
          8.084,
          9.701,
          11.315999999999999,
          12.933,
          14.550999999999998,
          16.169,
          17.785999999999998,
          19.401,
          21.017,
          22.635,
          24.252,
          25.87,
          27.484,
          29.101999999999997,
          30.72,
          32.336999999999996,
          33.955,
          35.568000000000005,
          37.186,
          38.803000000000004,
          40.421,
          42.038999999999994,
          43.653,
          45.271,
          46.888000000000005,
          48.505,
          50.123000000000005,
          51.736999999999995,
          53.354,
          54.972,
          56.59,
          58.207
         ],
         "xaxis": "x",
         "y": [
          111.976,
          111.976,
          111.976,
          111.976,
          111.976,
          111.976,
          111.976,
          111.976,
          111.976,
          111.976,
          111.976,
          111.976,
          111.976,
          111.976,
          111.976,
          111.976,
          111.976,
          111.976,
          111.976,
          111.976,
          111.976,
          111.976,
          111.976,
          111.976,
          111.976,
          111.976,
          111.976,
          111.976,
          111.976,
          111.976,
          111.976,
          111.976,
          111.976,
          111.976,
          111.976,
          111.976,
          111.976
         ],
         "yaxis": "y"
        },
        {
         "line": {
          "color": "blue",
          "dash": "dot"
         },
         "name": "Depth=4.56",
         "type": "scatter",
         "x": [
          0,
          1.618,
          3.2319999999999998,
          4.85,
          6.466,
          8.084,
          9.701,
          11.315999999999999,
          12.933,
          14.550999999999998,
          16.169,
          17.785999999999998,
          19.401,
          21.017,
          22.635,
          24.252,
          25.87,
          27.484,
          29.101999999999997,
          30.72,
          32.336999999999996,
          33.955,
          35.568000000000005,
          37.186,
          38.803000000000004,
          40.421,
          42.038999999999994,
          43.653,
          45.271,
          46.888000000000005,
          48.505,
          50.123000000000005,
          51.736999999999995,
          53.354,
          54.972,
          56.59,
          58.207
         ],
         "xaxis": "x",
         "y": [
          112.008,
          112.008,
          112.008,
          112.008,
          112.008,
          112.008,
          112.008,
          112.008,
          112.008,
          112.008,
          112.008,
          112.008,
          112.008,
          112.008,
          112.008,
          112.008,
          112.008,
          112.008,
          112.008,
          112.008,
          112.008,
          112.008,
          112.008,
          112.008,
          112.008,
          112.008,
          112.008,
          112.008,
          112.008,
          112.008,
          112.008,
          112.008,
          112.008,
          112.008,
          112.008,
          112.008,
          112.008
         ],
         "yaxis": "y"
        },
        {
         "line": {
          "color": "blue",
          "dash": "dot"
         },
         "name": "Depth=5.02",
         "type": "scatter",
         "x": [
          0,
          1.618,
          3.2319999999999998,
          4.85,
          6.466,
          8.084,
          9.701,
          11.315999999999999,
          12.933,
          14.550999999999998,
          16.169,
          17.785999999999998,
          19.401,
          21.017,
          22.635,
          24.252,
          25.87,
          27.484,
          29.101999999999997,
          30.72,
          32.336999999999996,
          33.955,
          35.568000000000005,
          37.186,
          38.803000000000004,
          40.421,
          42.038999999999994,
          43.653,
          45.271,
          46.888000000000005,
          48.505,
          50.123000000000005,
          51.736999999999995,
          53.354,
          54.972,
          56.59,
          58.207
         ],
         "xaxis": "x",
         "y": [
          112.46799999999999,
          112.46799999999999,
          112.46799999999999,
          112.46799999999999,
          112.46799999999999,
          112.46799999999999,
          112.46799999999999,
          112.46799999999999,
          112.46799999999999,
          112.46799999999999,
          112.46799999999999,
          112.46799999999999,
          112.46799999999999,
          112.46799999999999,
          112.46799999999999,
          112.46799999999999,
          112.46799999999999,
          112.46799999999999,
          112.46799999999999,
          112.46799999999999,
          112.46799999999999,
          112.46799999999999,
          112.46799999999999,
          112.46799999999999,
          112.46799999999999,
          112.46799999999999,
          112.46799999999999,
          112.46799999999999,
          112.46799999999999,
          112.46799999999999,
          112.46799999999999,
          112.46799999999999,
          112.46799999999999,
          112.46799999999999,
          112.46799999999999,
          112.46799999999999,
          112.46799999999999
         ],
         "yaxis": "y"
        }
       ],
       "layout": {
        "autosize": true,
        "margin": {
         "b": 100,
         "l": 50,
         "pad": 4,
         "r": 50,
         "t": 100
        },
        "paper_bgcolor": "White",
        "template": {
         "data": {
          "bar": [
           {
            "error_x": {
             "color": "#2a3f5f"
            },
            "error_y": {
             "color": "#2a3f5f"
            },
            "marker": {
             "line": {
              "color": "#E5ECF6",
              "width": 0.5
             }
            },
            "type": "bar"
           }
          ],
          "barpolar": [
           {
            "marker": {
             "line": {
              "color": "#E5ECF6",
              "width": 0.5
             }
            },
            "type": "barpolar"
           }
          ],
          "carpet": [
           {
            "aaxis": {
             "endlinecolor": "#2a3f5f",
             "gridcolor": "white",
             "linecolor": "white",
             "minorgridcolor": "white",
             "startlinecolor": "#2a3f5f"
            },
            "baxis": {
             "endlinecolor": "#2a3f5f",
             "gridcolor": "white",
             "linecolor": "white",
             "minorgridcolor": "white",
             "startlinecolor": "#2a3f5f"
            },
            "type": "carpet"
           }
          ],
          "choropleth": [
           {
            "colorbar": {
             "outlinewidth": 0,
             "ticks": ""
            },
            "type": "choropleth"
           }
          ],
          "contour": [
           {
            "colorbar": {
             "outlinewidth": 0,
             "ticks": ""
            },
            "colorscale": [
             [
              0,
              "#0d0887"
             ],
             [
              0.1111111111111111,
              "#46039f"
             ],
             [
              0.2222222222222222,
              "#7201a8"
             ],
             [
              0.3333333333333333,
              "#9c179e"
             ],
             [
              0.4444444444444444,
              "#bd3786"
             ],
             [
              0.5555555555555556,
              "#d8576b"
             ],
             [
              0.6666666666666666,
              "#ed7953"
             ],
             [
              0.7777777777777778,
              "#fb9f3a"
             ],
             [
              0.8888888888888888,
              "#fdca26"
             ],
             [
              1,
              "#f0f921"
             ]
            ],
            "type": "contour"
           }
          ],
          "contourcarpet": [
           {
            "colorbar": {
             "outlinewidth": 0,
             "ticks": ""
            },
            "type": "contourcarpet"
           }
          ],
          "heatmap": [
           {
            "colorbar": {
             "outlinewidth": 0,
             "ticks": ""
            },
            "colorscale": [
             [
              0,
              "#0d0887"
             ],
             [
              0.1111111111111111,
              "#46039f"
             ],
             [
              0.2222222222222222,
              "#7201a8"
             ],
             [
              0.3333333333333333,
              "#9c179e"
             ],
             [
              0.4444444444444444,
              "#bd3786"
             ],
             [
              0.5555555555555556,
              "#d8576b"
             ],
             [
              0.6666666666666666,
              "#ed7953"
             ],
             [
              0.7777777777777778,
              "#fb9f3a"
             ],
             [
              0.8888888888888888,
              "#fdca26"
             ],
             [
              1,
              "#f0f921"
             ]
            ],
            "type": "heatmap"
           }
          ],
          "heatmapgl": [
           {
            "colorbar": {
             "outlinewidth": 0,
             "ticks": ""
            },
            "colorscale": [
             [
              0,
              "#0d0887"
             ],
             [
              0.1111111111111111,
              "#46039f"
             ],
             [
              0.2222222222222222,
              "#7201a8"
             ],
             [
              0.3333333333333333,
              "#9c179e"
             ],
             [
              0.4444444444444444,
              "#bd3786"
             ],
             [
              0.5555555555555556,
              "#d8576b"
             ],
             [
              0.6666666666666666,
              "#ed7953"
             ],
             [
              0.7777777777777778,
              "#fb9f3a"
             ],
             [
              0.8888888888888888,
              "#fdca26"
             ],
             [
              1,
              "#f0f921"
             ]
            ],
            "type": "heatmapgl"
           }
          ],
          "histogram": [
           {
            "marker": {
             "colorbar": {
              "outlinewidth": 0,
              "ticks": ""
             }
            },
            "type": "histogram"
           }
          ],
          "histogram2d": [
           {
            "colorbar": {
             "outlinewidth": 0,
             "ticks": ""
            },
            "colorscale": [
             [
              0,
              "#0d0887"
             ],
             [
              0.1111111111111111,
              "#46039f"
             ],
             [
              0.2222222222222222,
              "#7201a8"
             ],
             [
              0.3333333333333333,
              "#9c179e"
             ],
             [
              0.4444444444444444,
              "#bd3786"
             ],
             [
              0.5555555555555556,
              "#d8576b"
             ],
             [
              0.6666666666666666,
              "#ed7953"
             ],
             [
              0.7777777777777778,
              "#fb9f3a"
             ],
             [
              0.8888888888888888,
              "#fdca26"
             ],
             [
              1,
              "#f0f921"
             ]
            ],
            "type": "histogram2d"
           }
          ],
          "histogram2dcontour": [
           {
            "colorbar": {
             "outlinewidth": 0,
             "ticks": ""
            },
            "colorscale": [
             [
              0,
              "#0d0887"
             ],
             [
              0.1111111111111111,
              "#46039f"
             ],
             [
              0.2222222222222222,
              "#7201a8"
             ],
             [
              0.3333333333333333,
              "#9c179e"
             ],
             [
              0.4444444444444444,
              "#bd3786"
             ],
             [
              0.5555555555555556,
              "#d8576b"
             ],
             [
              0.6666666666666666,
              "#ed7953"
             ],
             [
              0.7777777777777778,
              "#fb9f3a"
             ],
             [
              0.8888888888888888,
              "#fdca26"
             ],
             [
              1,
              "#f0f921"
             ]
            ],
            "type": "histogram2dcontour"
           }
          ],
          "mesh3d": [
           {
            "colorbar": {
             "outlinewidth": 0,
             "ticks": ""
            },
            "type": "mesh3d"
           }
          ],
          "parcoords": [
           {
            "line": {
             "colorbar": {
              "outlinewidth": 0,
              "ticks": ""
             }
            },
            "type": "parcoords"
           }
          ],
          "pie": [
           {
            "automargin": true,
            "type": "pie"
           }
          ],
          "scatter": [
           {
            "marker": {
             "colorbar": {
              "outlinewidth": 0,
              "ticks": ""
             }
            },
            "type": "scatter"
           }
          ],
          "scatter3d": [
           {
            "line": {
             "colorbar": {
              "outlinewidth": 0,
              "ticks": ""
             }
            },
            "marker": {
             "colorbar": {
              "outlinewidth": 0,
              "ticks": ""
             }
            },
            "type": "scatter3d"
           }
          ],
          "scattercarpet": [
           {
            "marker": {
             "colorbar": {
              "outlinewidth": 0,
              "ticks": ""
             }
            },
            "type": "scattercarpet"
           }
          ],
          "scattergeo": [
           {
            "marker": {
             "colorbar": {
              "outlinewidth": 0,
              "ticks": ""
             }
            },
            "type": "scattergeo"
           }
          ],
          "scattergl": [
           {
            "marker": {
             "colorbar": {
              "outlinewidth": 0,
              "ticks": ""
             }
            },
            "type": "scattergl"
           }
          ],
          "scattermapbox": [
           {
            "marker": {
             "colorbar": {
              "outlinewidth": 0,
              "ticks": ""
             }
            },
            "type": "scattermapbox"
           }
          ],
          "scatterpolar": [
           {
            "marker": {
             "colorbar": {
              "outlinewidth": 0,
              "ticks": ""
             }
            },
            "type": "scatterpolar"
           }
          ],
          "scatterpolargl": [
           {
            "marker": {
             "colorbar": {
              "outlinewidth": 0,
              "ticks": ""
             }
            },
            "type": "scatterpolargl"
           }
          ],
          "scatterternary": [
           {
            "marker": {
             "colorbar": {
              "outlinewidth": 0,
              "ticks": ""
             }
            },
            "type": "scatterternary"
           }
          ],
          "surface": [
           {
            "colorbar": {
             "outlinewidth": 0,
             "ticks": ""
            },
            "colorscale": [
             [
              0,
              "#0d0887"
             ],
             [
              0.1111111111111111,
              "#46039f"
             ],
             [
              0.2222222222222222,
              "#7201a8"
             ],
             [
              0.3333333333333333,
              "#9c179e"
             ],
             [
              0.4444444444444444,
              "#bd3786"
             ],
             [
              0.5555555555555556,
              "#d8576b"
             ],
             [
              0.6666666666666666,
              "#ed7953"
             ],
             [
              0.7777777777777778,
              "#fb9f3a"
             ],
             [
              0.8888888888888888,
              "#fdca26"
             ],
             [
              1,
              "#f0f921"
             ]
            ],
            "type": "surface"
           }
          ],
          "table": [
           {
            "cells": {
             "fill": {
              "color": "#EBF0F8"
             },
             "line": {
              "color": "white"
             }
            },
            "header": {
             "fill": {
              "color": "#C8D4E3"
             },
             "line": {
              "color": "white"
             }
            },
            "type": "table"
           }
          ]
         },
         "layout": {
          "annotationdefaults": {
           "arrowcolor": "#2a3f5f",
           "arrowhead": 0,
           "arrowwidth": 1
          },
          "coloraxis": {
           "colorbar": {
            "outlinewidth": 0,
            "ticks": ""
           }
          },
          "colorscale": {
           "diverging": [
            [
             0,
             "#8e0152"
            ],
            [
             0.1,
             "#c51b7d"
            ],
            [
             0.2,
             "#de77ae"
            ],
            [
             0.3,
             "#f1b6da"
            ],
            [
             0.4,
             "#fde0ef"
            ],
            [
             0.5,
             "#f7f7f7"
            ],
            [
             0.6,
             "#e6f5d0"
            ],
            [
             0.7,
             "#b8e186"
            ],
            [
             0.8,
             "#7fbc41"
            ],
            [
             0.9,
             "#4d9221"
            ],
            [
             1,
             "#276419"
            ]
           ],
           "sequential": [
            [
             0,
             "#0d0887"
            ],
            [
             0.1111111111111111,
             "#46039f"
            ],
            [
             0.2222222222222222,
             "#7201a8"
            ],
            [
             0.3333333333333333,
             "#9c179e"
            ],
            [
             0.4444444444444444,
             "#bd3786"
            ],
            [
             0.5555555555555556,
             "#d8576b"
            ],
            [
             0.6666666666666666,
             "#ed7953"
            ],
            [
             0.7777777777777778,
             "#fb9f3a"
            ],
            [
             0.8888888888888888,
             "#fdca26"
            ],
            [
             1,
             "#f0f921"
            ]
           ],
           "sequentialminus": [
            [
             0,
             "#0d0887"
            ],
            [
             0.1111111111111111,
             "#46039f"
            ],
            [
             0.2222222222222222,
             "#7201a8"
            ],
            [
             0.3333333333333333,
             "#9c179e"
            ],
            [
             0.4444444444444444,
             "#bd3786"
            ],
            [
             0.5555555555555556,
             "#d8576b"
            ],
            [
             0.6666666666666666,
             "#ed7953"
            ],
            [
             0.7777777777777778,
             "#fb9f3a"
            ],
            [
             0.8888888888888888,
             "#fdca26"
            ],
            [
             1,
             "#f0f921"
            ]
           ]
          },
          "colorway": [
           "#636efa",
           "#EF553B",
           "#00cc96",
           "#ab63fa",
           "#FFA15A",
           "#19d3f3",
           "#FF6692",
           "#B6E880",
           "#FF97FF",
           "#FECB52"
          ],
          "font": {
           "color": "#2a3f5f"
          },
          "geo": {
           "bgcolor": "white",
           "lakecolor": "white",
           "landcolor": "#E5ECF6",
           "showlakes": true,
           "showland": true,
           "subunitcolor": "white"
          },
          "hoverlabel": {
           "align": "left"
          },
          "hovermode": "closest",
          "mapbox": {
           "style": "light"
          },
          "paper_bgcolor": "white",
          "plot_bgcolor": "#E5ECF6",
          "polar": {
           "angularaxis": {
            "gridcolor": "white",
            "linecolor": "white",
            "ticks": ""
           },
           "bgcolor": "#E5ECF6",
           "radialaxis": {
            "gridcolor": "white",
            "linecolor": "white",
            "ticks": ""
           }
          },
          "scene": {
           "xaxis": {
            "backgroundcolor": "#E5ECF6",
            "gridcolor": "white",
            "gridwidth": 2,
            "linecolor": "white",
            "showbackground": true,
            "ticks": "",
            "zerolinecolor": "white"
           },
           "yaxis": {
            "backgroundcolor": "#E5ECF6",
            "gridcolor": "white",
            "gridwidth": 2,
            "linecolor": "white",
            "showbackground": true,
            "ticks": "",
            "zerolinecolor": "white"
           },
           "zaxis": {
            "backgroundcolor": "#E5ECF6",
            "gridcolor": "white",
            "gridwidth": 2,
            "linecolor": "white",
            "showbackground": true,
            "ticks": "",
            "zerolinecolor": "white"
           }
          },
          "shapedefaults": {
           "line": {
            "color": "#2a3f5f"
           }
          },
          "ternary": {
           "aaxis": {
            "gridcolor": "white",
            "linecolor": "white",
            "ticks": ""
           },
           "baxis": {
            "gridcolor": "white",
            "linecolor": "white",
            "ticks": ""
           },
           "bgcolor": "#E5ECF6",
           "caxis": {
            "gridcolor": "white",
            "linecolor": "white",
            "ticks": ""
           }
          },
          "title": {
           "x": 0.05
          },
          "xaxis": {
           "automargin": true,
           "gridcolor": "white",
           "linecolor": "white",
           "ticks": "",
           "title": {
            "standoff": 15
           },
           "zerolinecolor": "white",
           "zerolinewidth": 2
          },
          "yaxis": {
           "automargin": true,
           "gridcolor": "white",
           "linecolor": "white",
           "ticks": "",
           "title": {
            "standoff": 15
           },
           "zerolinecolor": "white",
           "zerolinewidth": 2
          }
         }
        },
        "title": {
         "text": "Cross section for 16"
        },
        "xaxis": {
         "anchor": "y",
         "autorange": true,
         "domain": [
          0,
          0.45
         ],
         "range": [
          -3.718421877810421,
          61.92542187781042
         ],
         "showspikes": true,
         "type": "linear"
        },
        "xaxis2": {
         "anchor": "y2",
         "autorange": true,
         "domain": [
          0.55,
          1
         ],
         "range": [
          -753.153073325739,
          12542.77307332574
         ],
         "showspikes": true,
         "type": "linear"
        },
        "yaxis": {
         "anchor": "x",
         "autorange": true,
         "domain": [
          0,
          1
         ],
         "range": [
          107.07294252873562,
          112.84305747126436
         ],
         "showspikes": true,
         "type": "linear"
        },
        "yaxis2": {
         "anchor": "x2",
         "autorange": true,
         "domain": [
          0,
          1
         ],
         "matches": "y",
         "range": [
          107.07294252873562,
          112.84305747126436
         ],
         "showspikes": true,
         "showticklabels": false,
         "type": "linear"
        }
       }
      },
      "image/png": "[encoded data removed]",
      "text/html": [
       "<div>\n",
       "        \n",
       "        \n",
       "            <div id=\"2687b774-f01f-4075-90d4-ec271dc6e772\" class=\"plotly-graph-div\" style=\"height:525px; width:100%;\"></div>\n",
       "            <script type=\"text/javascript\">\n",
       "                require([\"plotly\"], function(Plotly) {\n",
       "                    window.PLOTLYENV=window.PLOTLYENV || {};\n",
       "                    \n",
       "                if (document.getElementById(\"2687b774-f01f-4075-90d4-ec271dc6e772\")) {\n",
       "                    Plotly.newPlot(\n",
       "                        '2687b774-f01f-4075-90d4-ec271dc6e772',\n",
       "                        [{\"line\": {\"color\": \"grey\"}, \"mode\": \"lines+markers\", \"name\": \"bed elevation\", \"type\": \"scatter\", \"x\": [0.0, 1.618, 3.2319999999999998, 4.85, 6.466, 8.084, 9.701, 11.315999999999999, 12.933, 14.550999999999998, 16.169, 17.785999999999998, 19.401, 21.017, 22.635, 24.252, 25.87, 27.484, 29.101999999999997, 30.72, 32.336999999999996, 33.955, 35.568000000000005, 37.186, 38.803000000000004, 40.421, 42.038999999999994, 43.653, 45.271, 46.888000000000005, 48.505, 50.123000000000005, 51.736999999999995, 53.354, 54.972, 56.59, 58.207], \"xaxis\": \"x\", \"y\": [111.94200000000001, 111.975, 111.975, 111.94200000000001, 111.94200000000001, 112.008, 111.87700000000001, 108.891, 108.891, 107.579, 107.579, 107.546, 107.546, 107.448, 107.448, 107.579, 107.579, 107.546, 107.546, 107.546, 107.546, 107.64399999999999, 107.64399999999999, 107.71, 107.61200000000001, 107.71, 107.71, 108.53, 108.53, 109.35, 109.35, 110.82700000000001, 110.82700000000001, 112.008, 112.008, 112.46700000000001, 112.46700000000001], \"yaxis\": \"y\"}, {\"hovertext\": [\"q=0.00 Area=0.00 Perimeter=1.62\", \"q=0.80 Area=0.30 Perimeter=10.92\", \"q=2.50 Area=0.72 Perimeter=18.34\", \"q=6.78 Area=1.34 Perimeter=18.93\", \"q=11.77 Area=1.98 Perimeter=22.21\", \"q=27.00 Area=3.56 Perimeter=27.72\", \"q=723.98 Area=27.32 Perimeter=32.45\", \"q=1237.60 Area=39.04 Perimeter=35.43\", \"q=2084.33 Area=55.23 Perimeter=38.59\", \"q=6224.48 Area=112.28 Perimeter=44.07\", \"q=10405.24 Area=156.87 Perimeter=47.05\", \"q=10356.44 Area=159.75 Perimeter=49.58\", \"q=9741.89 Area=161.34 Perimeter=55.70\", \"q=9587.94 Area=163.06 Perimeter=58.59\", \"q=11789.62 Area=188.69 Perimeter=61.89\"], \"line\": {\"color\": \"blue\"}, \"mode\": \"lines+markers\", \"name\": \"conveyance curve\", \"type\": \"scatter\", \"x\": [0.0, 0.8, 2.5, 6.78, 11.77, 27.0, 723.98, 1237.6, 2084.33, 6224.48, 10405.24, 10356.44, 9741.89, 9587.94, 11789.62], \"xaxis\": \"x2\", \"y\": [107.448, 107.54599999999999, 107.579, 107.612, 107.645, 107.71, 108.53099999999999, 108.892, 109.351, 110.827, 111.877, 111.943, 111.976, 112.008, 112.46799999999999], \"yaxis\": \"y2\"}, {\"line\": {\"color\": \"blue\", \"dash\": \"dot\"}, \"name\": \"Depth=0.0\", \"type\": \"scatter\", \"x\": [0.0, 1.618, 3.2319999999999998, 4.85, 6.466, 8.084, 9.701, 11.315999999999999, 12.933, 14.550999999999998, 16.169, 17.785999999999998, 19.401, 21.017, 22.635, 24.252, 25.87, 27.484, 29.101999999999997, 30.72, 32.336999999999996, 33.955, 35.568000000000005, 37.186, 38.803000000000004, 40.421, 42.038999999999994, 43.653, 45.271, 46.888000000000005, 48.505, 50.123000000000005, 51.736999999999995, 53.354, 54.972, 56.59, 58.207], \"xaxis\": \"x\", \"y\": [107.448, 107.448, 107.448, 107.448, 107.448, 107.448, 107.448, 107.448, 107.448, 107.448, 107.448, 107.448, 107.448, 107.448, 107.448, 107.448, 107.448, 107.448, 107.448, 107.448, 107.448, 107.448, 107.448, 107.448, 107.448, 107.448, 107.448, 107.448, 107.448, 107.448, 107.448, 107.448, 107.448, 107.448, 107.448, 107.448, 107.448], \"yaxis\": \"y\"}, {\"line\": {\"color\": \"blue\", \"dash\": \"dot\"}, \"name\": \"Depth=0.098\", \"type\": \"scatter\", \"x\": [0.0, 1.618, 3.2319999999999998, 4.85, 6.466, 8.084, 9.701, 11.315999999999999, 12.933, 14.550999999999998, 16.169, 17.785999999999998, 19.401, 21.017, 22.635, 24.252, 25.87, 27.484, 29.101999999999997, 30.72, 32.336999999999996, 33.955, 35.568000000000005, 37.186, 38.803000000000004, 40.421, 42.038999999999994, 43.653, 45.271, 46.888000000000005, 48.505, 50.123000000000005, 51.736999999999995, 53.354, 54.972, 56.59, 58.207], \"xaxis\": \"x\", \"y\": [107.54599999999999, 107.54599999999999, 107.54599999999999, 107.54599999999999, 107.54599999999999, 107.54599999999999, 107.54599999999999, 107.54599999999999, 107.54599999999999, 107.54599999999999, 107.54599999999999, 107.54599999999999, 107.54599999999999, 107.54599999999999, 107.54599999999999, 107.54599999999999, 107.54599999999999, 107.54599999999999, 107.54599999999999, 107.54599999999999, 107.54599999999999, 107.54599999999999, 107.54599999999999, 107.54599999999999, 107.54599999999999, 107.54599999999999, 107.54599999999999, 107.54599999999999, 107.54599999999999, 107.54599999999999, 107.54599999999999, 107.54599999999999, 107.54599999999999, 107.54599999999999, 107.54599999999999, 107.54599999999999, 107.54599999999999], \"yaxis\": \"y\"}, {\"line\": {\"color\": \"blue\", \"dash\": \"dot\"}, \"name\": \"Depth=0.131\", \"type\": \"scatter\", \"x\": [0.0, 1.618, 3.2319999999999998, 4.85, 6.466, 8.084, 9.701, 11.315999999999999, 12.933, 14.550999999999998, 16.169, 17.785999999999998, 19.401, 21.017, 22.635, 24.252, 25.87, 27.484, 29.101999999999997, 30.72, 32.336999999999996, 33.955, 35.568000000000005, 37.186, 38.803000000000004, 40.421, 42.038999999999994, 43.653, 45.271, 46.888000000000005, 48.505, 50.123000000000005, 51.736999999999995, 53.354, 54.972, 56.59, 58.207], \"xaxis\": \"x\", \"y\": [107.579, 107.579, 107.579, 107.579, 107.579, 107.579, 107.579, 107.579, 107.579, 107.579, 107.579, 107.579, 107.579, 107.579, 107.579, 107.579, 107.579, 107.579, 107.579, 107.579, 107.579, 107.579, 107.579, 107.579, 107.579, 107.579, 107.579, 107.579, 107.579, 107.579, 107.579, 107.579, 107.579, 107.579, 107.579, 107.579, 107.579], \"yaxis\": \"y\"}, {\"line\": {\"color\": \"blue\", \"dash\": \"dot\"}, \"name\": \"Depth=0.16399999999999998\", \"type\": \"scatter\", \"x\": [0.0, 1.618, 3.2319999999999998, 4.85, 6.466, 8.084, 9.701, 11.315999999999999, 12.933, 14.550999999999998, 16.169, 17.785999999999998, 19.401, 21.017, 22.635, 24.252, 25.87, 27.484, 29.101999999999997, 30.72, 32.336999999999996, 33.955, 35.568000000000005, 37.186, 38.803000000000004, 40.421, 42.038999999999994, 43.653, 45.271, 46.888000000000005, 48.505, 50.123000000000005, 51.736999999999995, 53.354, 54.972, 56.59, 58.207], \"xaxis\": \"x\", \"y\": [107.612, 107.612, 107.612, 107.612, 107.612, 107.612, 107.612, 107.612, 107.612, 107.612, 107.612, 107.612, 107.612, 107.612, 107.612, 107.612, 107.612, 107.612, 107.612, 107.612, 107.612, 107.612, 107.612, 107.612, 107.612, 107.612, 107.612, 107.612, 107.612, 107.612, 107.612, 107.612, 107.612, 107.612, 107.612, 107.612, 107.612], \"yaxis\": \"y\"}, {\"line\": {\"color\": \"blue\", \"dash\": \"dot\"}, \"name\": \"Depth=0.19699999999999998\", \"type\": \"scatter\", \"x\": [0.0, 1.618, 3.2319999999999998, 4.85, 6.466, 8.084, 9.701, 11.315999999999999, 12.933, 14.550999999999998, 16.169, 17.785999999999998, 19.401, 21.017, 22.635, 24.252, 25.87, 27.484, 29.101999999999997, 30.72, 32.336999999999996, 33.955, 35.568000000000005, 37.186, 38.803000000000004, 40.421, 42.038999999999994, 43.653, 45.271, 46.888000000000005, 48.505, 50.123000000000005, 51.736999999999995, 53.354, 54.972, 56.59, 58.207], \"xaxis\": \"x\", \"y\": [107.645, 107.645, 107.645, 107.645, 107.645, 107.645, 107.645, 107.645, 107.645, 107.645, 107.645, 107.645, 107.645, 107.645, 107.645, 107.645, 107.645, 107.645, 107.645, 107.645, 107.645, 107.645, 107.645, 107.645, 107.645, 107.645, 107.645, 107.645, 107.645, 107.645, 107.645, 107.645, 107.645, 107.645, 107.645, 107.645, 107.645], \"yaxis\": \"y\"}, {\"line\": {\"color\": \"blue\", \"dash\": \"dot\"}, \"name\": \"Depth=0.262\", \"type\": \"scatter\", \"x\": [0.0, 1.618, 3.2319999999999998, 4.85, 6.466, 8.084, 9.701, 11.315999999999999, 12.933, 14.550999999999998, 16.169, 17.785999999999998, 19.401, 21.017, 22.635, 24.252, 25.87, 27.484, 29.101999999999997, 30.72, 32.336999999999996, 33.955, 35.568000000000005, 37.186, 38.803000000000004, 40.421, 42.038999999999994, 43.653, 45.271, 46.888000000000005, 48.505, 50.123000000000005, 51.736999999999995, 53.354, 54.972, 56.59, 58.207], \"xaxis\": \"x\", \"y\": [107.71, 107.71, 107.71, 107.71, 107.71, 107.71, 107.71, 107.71, 107.71, 107.71, 107.71, 107.71, 107.71, 107.71, 107.71, 107.71, 107.71, 107.71, 107.71, 107.71, 107.71, 107.71, 107.71, 107.71, 107.71, 107.71, 107.71, 107.71, 107.71, 107.71, 107.71, 107.71, 107.71, 107.71, 107.71, 107.71, 107.71], \"yaxis\": \"y\"}, {\"line\": {\"color\": \"blue\", \"dash\": \"dot\"}, \"name\": \"Depth=1.083\", \"type\": \"scatter\", \"x\": [0.0, 1.618, 3.2319999999999998, 4.85, 6.466, 8.084, 9.701, 11.315999999999999, 12.933, 14.550999999999998, 16.169, 17.785999999999998, 19.401, 21.017, 22.635, 24.252, 25.87, 27.484, 29.101999999999997, 30.72, 32.336999999999996, 33.955, 35.568000000000005, 37.186, 38.803000000000004, 40.421, 42.038999999999994, 43.653, 45.271, 46.888000000000005, 48.505, 50.123000000000005, 51.736999999999995, 53.354, 54.972, 56.59, 58.207], \"xaxis\": \"x\", \"y\": [108.53099999999999, 108.53099999999999, 108.53099999999999, 108.53099999999999, 108.53099999999999, 108.53099999999999, 108.53099999999999, 108.53099999999999, 108.53099999999999, 108.53099999999999, 108.53099999999999, 108.53099999999999, 108.53099999999999, 108.53099999999999, 108.53099999999999, 108.53099999999999, 108.53099999999999, 108.53099999999999, 108.53099999999999, 108.53099999999999, 108.53099999999999, 108.53099999999999, 108.53099999999999, 108.53099999999999, 108.53099999999999, 108.53099999999999, 108.53099999999999, 108.53099999999999, 108.53099999999999, 108.53099999999999, 108.53099999999999, 108.53099999999999, 108.53099999999999, 108.53099999999999, 108.53099999999999, 108.53099999999999, 108.53099999999999], \"yaxis\": \"y\"}, {\"line\": {\"color\": \"blue\", \"dash\": \"dot\"}, \"name\": \"Depth=1.444\", \"type\": \"scatter\", \"x\": [0.0, 1.618, 3.2319999999999998, 4.85, 6.466, 8.084, 9.701, 11.315999999999999, 12.933, 14.550999999999998, 16.169, 17.785999999999998, 19.401, 21.017, 22.635, 24.252, 25.87, 27.484, 29.101999999999997, 30.72, 32.336999999999996, 33.955, 35.568000000000005, 37.186, 38.803000000000004, 40.421, 42.038999999999994, 43.653, 45.271, 46.888000000000005, 48.505, 50.123000000000005, 51.736999999999995, 53.354, 54.972, 56.59, 58.207], \"xaxis\": \"x\", \"y\": [108.892, 108.892, 108.892, 108.892, 108.892, 108.892, 108.892, 108.892, 108.892, 108.892, 108.892, 108.892, 108.892, 108.892, 108.892, 108.892, 108.892, 108.892, 108.892, 108.892, 108.892, 108.892, 108.892, 108.892, 108.892, 108.892, 108.892, 108.892, 108.892, 108.892, 108.892, 108.892, 108.892, 108.892, 108.892, 108.892, 108.892], \"yaxis\": \"y\"}, {\"line\": {\"color\": \"blue\", \"dash\": \"dot\"}, \"name\": \"Depth=1.903\", \"type\": \"scatter\", \"x\": [0.0, 1.618, 3.2319999999999998, 4.85, 6.466, 8.084, 9.701, 11.315999999999999, 12.933, 14.550999999999998, 16.169, 17.785999999999998, 19.401, 21.017, 22.635, 24.252, 25.87, 27.484, 29.101999999999997, 30.72, 32.336999999999996, 33.955, 35.568000000000005, 37.186, 38.803000000000004, 40.421, 42.038999999999994, 43.653, 45.271, 46.888000000000005, 48.505, 50.123000000000005, 51.736999999999995, 53.354, 54.972, 56.59, 58.207], \"xaxis\": \"x\", \"y\": [109.351, 109.351, 109.351, 109.351, 109.351, 109.351, 109.351, 109.351, 109.351, 109.351, 109.351, 109.351, 109.351, 109.351, 109.351, 109.351, 109.351, 109.351, 109.351, 109.351, 109.351, 109.351, 109.351, 109.351, 109.351, 109.351, 109.351, 109.351, 109.351, 109.351, 109.351, 109.351, 109.351, 109.351, 109.351, 109.351, 109.351], \"yaxis\": \"y\"}, {\"line\": {\"color\": \"blue\", \"dash\": \"dot\"}, \"name\": \"Depth=3.3789999999999996\", \"type\": \"scatter\", \"x\": [0.0, 1.618, 3.2319999999999998, 4.85, 6.466, 8.084, 9.701, 11.315999999999999, 12.933, 14.550999999999998, 16.169, 17.785999999999998, 19.401, 21.017, 22.635, 24.252, 25.87, 27.484, 29.101999999999997, 30.72, 32.336999999999996, 33.955, 35.568000000000005, 37.186, 38.803000000000004, 40.421, 42.038999999999994, 43.653, 45.271, 46.888000000000005, 48.505, 50.123000000000005, 51.736999999999995, 53.354, 54.972, 56.59, 58.207], \"xaxis\": \"x\", \"y\": [110.827, 110.827, 110.827, 110.827, 110.827, 110.827, 110.827, 110.827, 110.827, 110.827, 110.827, 110.827, 110.827, 110.827, 110.827, 110.827, 110.827, 110.827, 110.827, 110.827, 110.827, 110.827, 110.827, 110.827, 110.827, 110.827, 110.827, 110.827, 110.827, 110.827, 110.827, 110.827, 110.827, 110.827, 110.827, 110.827, 110.827], \"yaxis\": \"y\"}, {\"line\": {\"color\": \"blue\", \"dash\": \"dot\"}, \"name\": \"Depth=4.428999999999999\", \"type\": \"scatter\", \"x\": [0.0, 1.618, 3.2319999999999998, 4.85, 6.466, 8.084, 9.701, 11.315999999999999, 12.933, 14.550999999999998, 16.169, 17.785999999999998, 19.401, 21.017, 22.635, 24.252, 25.87, 27.484, 29.101999999999997, 30.72, 32.336999999999996, 33.955, 35.568000000000005, 37.186, 38.803000000000004, 40.421, 42.038999999999994, 43.653, 45.271, 46.888000000000005, 48.505, 50.123000000000005, 51.736999999999995, 53.354, 54.972, 56.59, 58.207], \"xaxis\": \"x\", \"y\": [111.877, 111.877, 111.877, 111.877, 111.877, 111.877, 111.877, 111.877, 111.877, 111.877, 111.877, 111.877, 111.877, 111.877, 111.877, 111.877, 111.877, 111.877, 111.877, 111.877, 111.877, 111.877, 111.877, 111.877, 111.877, 111.877, 111.877, 111.877, 111.877, 111.877, 111.877, 111.877, 111.877, 111.877, 111.877, 111.877, 111.877], \"yaxis\": \"y\"}, {\"line\": {\"color\": \"blue\", \"dash\": \"dot\"}, \"name\": \"Depth=4.495\", \"type\": \"scatter\", \"x\": [0.0, 1.618, 3.2319999999999998, 4.85, 6.466, 8.084, 9.701, 11.315999999999999, 12.933, 14.550999999999998, 16.169, 17.785999999999998, 19.401, 21.017, 22.635, 24.252, 25.87, 27.484, 29.101999999999997, 30.72, 32.336999999999996, 33.955, 35.568000000000005, 37.186, 38.803000000000004, 40.421, 42.038999999999994, 43.653, 45.271, 46.888000000000005, 48.505, 50.123000000000005, 51.736999999999995, 53.354, 54.972, 56.59, 58.207], \"xaxis\": \"x\", \"y\": [111.943, 111.943, 111.943, 111.943, 111.943, 111.943, 111.943, 111.943, 111.943, 111.943, 111.943, 111.943, 111.943, 111.943, 111.943, 111.943, 111.943, 111.943, 111.943, 111.943, 111.943, 111.943, 111.943, 111.943, 111.943, 111.943, 111.943, 111.943, 111.943, 111.943, 111.943, 111.943, 111.943, 111.943, 111.943, 111.943, 111.943], \"yaxis\": \"y\"}, {\"line\": {\"color\": \"blue\", \"dash\": \"dot\"}, \"name\": \"Depth=4.5280000000000005\", \"type\": \"scatter\", \"x\": [0.0, 1.618, 3.2319999999999998, 4.85, 6.466, 8.084, 9.701, 11.315999999999999, 12.933, 14.550999999999998, 16.169, 17.785999999999998, 19.401, 21.017, 22.635, 24.252, 25.87, 27.484, 29.101999999999997, 30.72, 32.336999999999996, 33.955, 35.568000000000005, 37.186, 38.803000000000004, 40.421, 42.038999999999994, 43.653, 45.271, 46.888000000000005, 48.505, 50.123000000000005, 51.736999999999995, 53.354, 54.972, 56.59, 58.207], \"xaxis\": \"x\", \"y\": [111.976, 111.976, 111.976, 111.976, 111.976, 111.976, 111.976, 111.976, 111.976, 111.976, 111.976, 111.976, 111.976, 111.976, 111.976, 111.976, 111.976, 111.976, 111.976, 111.976, 111.976, 111.976, 111.976, 111.976, 111.976, 111.976, 111.976, 111.976, 111.976, 111.976, 111.976, 111.976, 111.976, 111.976, 111.976, 111.976, 111.976], \"yaxis\": \"y\"}, {\"line\": {\"color\": \"blue\", \"dash\": \"dot\"}, \"name\": \"Depth=4.56\", \"type\": \"scatter\", \"x\": [0.0, 1.618, 3.2319999999999998, 4.85, 6.466, 8.084, 9.701, 11.315999999999999, 12.933, 14.550999999999998, 16.169, 17.785999999999998, 19.401, 21.017, 22.635, 24.252, 25.87, 27.484, 29.101999999999997, 30.72, 32.336999999999996, 33.955, 35.568000000000005, 37.186, 38.803000000000004, 40.421, 42.038999999999994, 43.653, 45.271, 46.888000000000005, 48.505, 50.123000000000005, 51.736999999999995, 53.354, 54.972, 56.59, 58.207], \"xaxis\": \"x\", \"y\": [112.008, 112.008, 112.008, 112.008, 112.008, 112.008, 112.008, 112.008, 112.008, 112.008, 112.008, 112.008, 112.008, 112.008, 112.008, 112.008, 112.008, 112.008, 112.008, 112.008, 112.008, 112.008, 112.008, 112.008, 112.008, 112.008, 112.008, 112.008, 112.008, 112.008, 112.008, 112.008, 112.008, 112.008, 112.008, 112.008, 112.008], \"yaxis\": \"y\"}, {\"line\": {\"color\": \"blue\", \"dash\": \"dot\"}, \"name\": \"Depth=5.02\", \"type\": \"scatter\", \"x\": [0.0, 1.618, 3.2319999999999998, 4.85, 6.466, 8.084, 9.701, 11.315999999999999, 12.933, 14.550999999999998, 16.169, 17.785999999999998, 19.401, 21.017, 22.635, 24.252, 25.87, 27.484, 29.101999999999997, 30.72, 32.336999999999996, 33.955, 35.568000000000005, 37.186, 38.803000000000004, 40.421, 42.038999999999994, 43.653, 45.271, 46.888000000000005, 48.505, 50.123000000000005, 51.736999999999995, 53.354, 54.972, 56.59, 58.207], \"xaxis\": \"x\", \"y\": [112.46799999999999, 112.46799999999999, 112.46799999999999, 112.46799999999999, 112.46799999999999, 112.46799999999999, 112.46799999999999, 112.46799999999999, 112.46799999999999, 112.46799999999999, 112.46799999999999, 112.46799999999999, 112.46799999999999, 112.46799999999999, 112.46799999999999, 112.46799999999999, 112.46799999999999, 112.46799999999999, 112.46799999999999, 112.46799999999999, 112.46799999999999, 112.46799999999999, 112.46799999999999, 112.46799999999999, 112.46799999999999, 112.46799999999999, 112.46799999999999, 112.46799999999999, 112.46799999999999, 112.46799999999999, 112.46799999999999, 112.46799999999999, 112.46799999999999, 112.46799999999999, 112.46799999999999, 112.46799999999999, 112.46799999999999], \"yaxis\": \"y\"}],\n",
       "                        {\"autosize\": true, \"margin\": {\"b\": 100, \"l\": 50, \"pad\": 4, \"r\": 50, \"t\": 100}, \"paper_bgcolor\": \"White\", \"template\": {\"data\": {\"bar\": [{\"error_x\": {\"color\": \"#2a3f5f\"}, \"error_y\": {\"color\": \"#2a3f5f\"}, \"marker\": {\"line\": {\"color\": \"#E5ECF6\", \"width\": 0.5}}, \"type\": \"bar\"}], \"barpolar\": [{\"marker\": {\"line\": {\"color\": \"#E5ECF6\", \"width\": 0.5}}, \"type\": \"barpolar\"}], \"carpet\": [{\"aaxis\": {\"endlinecolor\": \"#2a3f5f\", \"gridcolor\": \"white\", \"linecolor\": \"white\", \"minorgridcolor\": \"white\", \"startlinecolor\": \"#2a3f5f\"}, \"baxis\": {\"endlinecolor\": \"#2a3f5f\", \"gridcolor\": \"white\", \"linecolor\": \"white\", \"minorgridcolor\": \"white\", \"startlinecolor\": \"#2a3f5f\"}, \"type\": \"carpet\"}], \"choropleth\": [{\"colorbar\": {\"outlinewidth\": 0, \"ticks\": \"\"}, \"type\": \"choropleth\"}], \"contour\": [{\"colorbar\": {\"outlinewidth\": 0, \"ticks\": \"\"}, \"colorscale\": [[0.0, \"#0d0887\"], [0.1111111111111111, \"#46039f\"], [0.2222222222222222, \"#7201a8\"], [0.3333333333333333, \"#9c179e\"], [0.4444444444444444, \"#bd3786\"], [0.5555555555555556, \"#d8576b\"], [0.6666666666666666, \"#ed7953\"], [0.7777777777777778, \"#fb9f3a\"], [0.8888888888888888, \"#fdca26\"], [1.0, \"#f0f921\"]], \"type\": \"contour\"}], \"contourcarpet\": [{\"colorbar\": {\"outlinewidth\": 0, \"ticks\": \"\"}, \"type\": \"contourcarpet\"}], \"heatmap\": [{\"colorbar\": {\"outlinewidth\": 0, \"ticks\": \"\"}, \"colorscale\": [[0.0, \"#0d0887\"], [0.1111111111111111, \"#46039f\"], [0.2222222222222222, \"#7201a8\"], [0.3333333333333333, \"#9c179e\"], [0.4444444444444444, \"#bd3786\"], [0.5555555555555556, \"#d8576b\"], [0.6666666666666666, \"#ed7953\"], [0.7777777777777778, \"#fb9f3a\"], [0.8888888888888888, \"#fdca26\"], [1.0, \"#f0f921\"]], \"type\": \"heatmap\"}], \"heatmapgl\": [{\"colorbar\": {\"outlinewidth\": 0, \"ticks\": \"\"}, \"colorscale\": [[0.0, \"#0d0887\"], [0.1111111111111111, \"#46039f\"], [0.2222222222222222, \"#7201a8\"], [0.3333333333333333, \"#9c179e\"], [0.4444444444444444, \"#bd3786\"], [0.5555555555555556, \"#d8576b\"], [0.6666666666666666, \"#ed7953\"], [0.7777777777777778, \"#fb9f3a\"], [0.8888888888888888, \"#fdca26\"], [1.0, \"#f0f921\"]], \"type\": \"heatmapgl\"}], \"histogram\": [{\"marker\": {\"colorbar\": {\"outlinewidth\": 0, \"ticks\": \"\"}}, \"type\": \"histogram\"}], \"histogram2d\": [{\"colorbar\": {\"outlinewidth\": 0, \"ticks\": \"\"}, \"colorscale\": [[0.0, \"#0d0887\"], [0.1111111111111111, \"#46039f\"], [0.2222222222222222, \"#7201a8\"], [0.3333333333333333, \"#9c179e\"], [0.4444444444444444, \"#bd3786\"], [0.5555555555555556, \"#d8576b\"], [0.6666666666666666, \"#ed7953\"], [0.7777777777777778, \"#fb9f3a\"], [0.8888888888888888, \"#fdca26\"], [1.0, \"#f0f921\"]], \"type\": \"histogram2d\"}], \"histogram2dcontour\": [{\"colorbar\": {\"outlinewidth\": 0, \"ticks\": \"\"}, \"colorscale\": [[0.0, \"#0d0887\"], [0.1111111111111111, \"#46039f\"], [0.2222222222222222, \"#7201a8\"], [0.3333333333333333, \"#9c179e\"], [0.4444444444444444, \"#bd3786\"], [0.5555555555555556, \"#d8576b\"], [0.6666666666666666, \"#ed7953\"], [0.7777777777777778, \"#fb9f3a\"], [0.8888888888888888, \"#fdca26\"], [1.0, \"#f0f921\"]], \"type\": \"histogram2dcontour\"}], \"mesh3d\": [{\"colorbar\": {\"outlinewidth\": 0, \"ticks\": \"\"}, \"type\": \"mesh3d\"}], \"parcoords\": [{\"line\": {\"colorbar\": {\"outlinewidth\": 0, \"ticks\": \"\"}}, \"type\": \"parcoords\"}], \"pie\": [{\"automargin\": true, \"type\": \"pie\"}], \"scatter\": [{\"marker\": {\"colorbar\": {\"outlinewidth\": 0, \"ticks\": \"\"}}, \"type\": \"scatter\"}], \"scatter3d\": [{\"line\": {\"colorbar\": {\"outlinewidth\": 0, \"ticks\": \"\"}}, \"marker\": {\"colorbar\": {\"outlinewidth\": 0, \"ticks\": \"\"}}, \"type\": \"scatter3d\"}], \"scattercarpet\": [{\"marker\": {\"colorbar\": {\"outlinewidth\": 0, \"ticks\": \"\"}}, \"type\": \"scattercarpet\"}], \"scattergeo\": [{\"marker\": {\"colorbar\": {\"outlinewidth\": 0, \"ticks\": \"\"}}, \"type\": \"scattergeo\"}], \"scattergl\": [{\"marker\": {\"colorbar\": {\"outlinewidth\": 0, \"ticks\": \"\"}}, \"type\": \"scattergl\"}], \"scattermapbox\": [{\"marker\": {\"colorbar\": {\"outlinewidth\": 0, \"ticks\": \"\"}}, \"type\": \"scattermapbox\"}], \"scatterpolar\": [{\"marker\": {\"colorbar\": {\"outlinewidth\": 0, \"ticks\": \"\"}}, \"type\": \"scatterpolar\"}], \"scatterpolargl\": [{\"marker\": {\"colorbar\": {\"outlinewidth\": 0, \"ticks\": \"\"}}, \"type\": \"scatterpolargl\"}], \"scatterternary\": [{\"marker\": {\"colorbar\": {\"outlinewidth\": 0, \"ticks\": \"\"}}, \"type\": \"scatterternary\"}], \"surface\": [{\"colorbar\": {\"outlinewidth\": 0, \"ticks\": \"\"}, \"colorscale\": [[0.0, \"#0d0887\"], [0.1111111111111111, \"#46039f\"], [0.2222222222222222, \"#7201a8\"], [0.3333333333333333, \"#9c179e\"], [0.4444444444444444, \"#bd3786\"], [0.5555555555555556, \"#d8576b\"], [0.6666666666666666, \"#ed7953\"], [0.7777777777777778, \"#fb9f3a\"], [0.8888888888888888, \"#fdca26\"], [1.0, \"#f0f921\"]], \"type\": \"surface\"}], \"table\": [{\"cells\": {\"fill\": {\"color\": \"#EBF0F8\"}, \"line\": {\"color\": \"white\"}}, \"header\": {\"fill\": {\"color\": \"#C8D4E3\"}, \"line\": {\"color\": \"white\"}}, \"type\": \"table\"}]}, \"layout\": {\"annotationdefaults\": {\"arrowcolor\": \"#2a3f5f\", \"arrowhead\": 0, \"arrowwidth\": 1}, \"coloraxis\": {\"colorbar\": {\"outlinewidth\": 0, \"ticks\": \"\"}}, \"colorscale\": {\"diverging\": [[0, \"#8e0152\"], [0.1, \"#c51b7d\"], [0.2, \"#de77ae\"], [0.3, \"#f1b6da\"], [0.4, \"#fde0ef\"], [0.5, \"#f7f7f7\"], [0.6, \"#e6f5d0\"], [0.7, \"#b8e186\"], [0.8, \"#7fbc41\"], [0.9, \"#4d9221\"], [1, \"#276419\"]], \"sequential\": [[0.0, \"#0d0887\"], [0.1111111111111111, \"#46039f\"], [0.2222222222222222, \"#7201a8\"], [0.3333333333333333, \"#9c179e\"], [0.4444444444444444, \"#bd3786\"], [0.5555555555555556, \"#d8576b\"], [0.6666666666666666, \"#ed7953\"], [0.7777777777777778, \"#fb9f3a\"], [0.8888888888888888, \"#fdca26\"], [1.0, \"#f0f921\"]], \"sequentialminus\": [[0.0, \"#0d0887\"], [0.1111111111111111, \"#46039f\"], [0.2222222222222222, \"#7201a8\"], [0.3333333333333333, \"#9c179e\"], [0.4444444444444444, \"#bd3786\"], [0.5555555555555556, \"#d8576b\"], [0.6666666666666666, \"#ed7953\"], [0.7777777777777778, \"#fb9f3a\"], [0.8888888888888888, \"#fdca26\"], [1.0, \"#f0f921\"]]}, \"colorway\": [\"#636efa\", \"#EF553B\", \"#00cc96\", \"#ab63fa\", \"#FFA15A\", \"#19d3f3\", \"#FF6692\", \"#B6E880\", \"#FF97FF\", \"#FECB52\"], \"font\": {\"color\": \"#2a3f5f\"}, \"geo\": {\"bgcolor\": \"white\", \"lakecolor\": \"white\", \"landcolor\": \"#E5ECF6\", \"showlakes\": true, \"showland\": true, \"subunitcolor\": \"white\"}, \"hoverlabel\": {\"align\": \"left\"}, \"hovermode\": \"closest\", \"mapbox\": {\"style\": \"light\"}, \"paper_bgcolor\": \"white\", \"plot_bgcolor\": \"#E5ECF6\", \"polar\": {\"angularaxis\": {\"gridcolor\": \"white\", \"linecolor\": \"white\", \"ticks\": \"\"}, \"bgcolor\": \"#E5ECF6\", \"radialaxis\": {\"gridcolor\": \"white\", \"linecolor\": \"white\", \"ticks\": \"\"}}, \"scene\": {\"xaxis\": {\"backgroundcolor\": \"#E5ECF6\", \"gridcolor\": \"white\", \"gridwidth\": 2, \"linecolor\": \"white\", \"showbackground\": true, \"ticks\": \"\", \"zerolinecolor\": \"white\"}, \"yaxis\": {\"backgroundcolor\": \"#E5ECF6\", \"gridcolor\": \"white\", \"gridwidth\": 2, \"linecolor\": \"white\", \"showbackground\": true, \"ticks\": \"\", \"zerolinecolor\": \"white\"}, \"zaxis\": {\"backgroundcolor\": \"#E5ECF6\", \"gridcolor\": \"white\", \"gridwidth\": 2, \"linecolor\": \"white\", \"showbackground\": true, \"ticks\": \"\", \"zerolinecolor\": \"white\"}}, \"shapedefaults\": {\"line\": {\"color\": \"#2a3f5f\"}}, \"ternary\": {\"aaxis\": {\"gridcolor\": \"white\", \"linecolor\": \"white\", \"ticks\": \"\"}, \"baxis\": {\"gridcolor\": \"white\", \"linecolor\": \"white\", \"ticks\": \"\"}, \"bgcolor\": \"#E5ECF6\", \"caxis\": {\"gridcolor\": \"white\", \"linecolor\": \"white\", \"ticks\": \"\"}}, \"title\": {\"x\": 0.05}, \"xaxis\": {\"automargin\": true, \"gridcolor\": \"white\", \"linecolor\": \"white\", \"ticks\": \"\", \"title\": {\"standoff\": 15}, \"zerolinecolor\": \"white\", \"zerolinewidth\": 2}, \"yaxis\": {\"automargin\": true, \"gridcolor\": \"white\", \"linecolor\": \"white\", \"ticks\": \"\", \"title\": {\"standoff\": 15}, \"zerolinecolor\": \"white\", \"zerolinewidth\": 2}}}, \"title\": {\"text\": \"Cross section for 16\"}, \"xaxis\": {\"anchor\": \"y\", \"domain\": [0.0, 0.45]}, \"xaxis2\": {\"anchor\": \"y2\", \"domain\": [0.55, 1.0]}, \"yaxis\": {\"anchor\": \"x\", \"domain\": [0.0, 1.0]}, \"yaxis2\": {\"anchor\": \"x2\", \"domain\": [0.0, 1.0], \"matches\": \"y\", \"showticklabels\": false}},\n",
       "                        {\"responsive\": true}\n",
       "                    ).then(function(){\n",
       "                            \n",
       "var gd = document.getElementById('2687b774-f01f-4075-90d4-ec271dc6e772');\n",
       "var x = new MutationObserver(function (mutations, observer) {{\n",
       "        var display = window.getComputedStyle(gd).display;\n",
       "        if (!display || display === 'none') {{\n",
       "            console.log([gd, 'removed!']);\n",
       "            Plotly.purge(gd);\n",
       "            observer.disconnect();\n",
       "        }}\n",
       "}});\n",
       "\n",
       "// Listen for the removal of the full notebook cells\n",
       "var notebookContainer = gd.closest('#notebook-container');\n",
       "if (notebookContainer) {{\n",
       "    x.observe(notebookContainer, {childList: true});\n",
       "}}\n",
       "\n",
       "// Listen for the clearing of the current output cell\n",
       "var outputEl = gd.closest('.output');\n",
       "if (outputEl) {{\n",
       "    x.observe(outputEl, {childList: true});\n",
       "}}\n",
       "\n",
       "                        })\n",
       "                };\n",
       "                });\n",
       "            </script>\n",
       "        </div>"
      ]
     },
     "metadata": {},
     "output_type": "display_data"
    }
   ],
   "source": [
    "invert = 107.448\n",
    "fig = plot_xs(conveyance_df=df, xs_df=df_xs, invert=invert, level_fld='level', z_fld = 'z', offset_fld='offset')\n",
    "\n",
    "fig.update_layout(\n",
    "    title='Cross section for 16',\n",
    "    autosize=True,\n",
    "#     width=2400,\n",
    "#     height=800,\n",
    "    margin=dict(\n",
    "        l=50,\n",
    "        r=50,\n",
    "        b=100,\n",
    "        t=100,\n",
    "        pad=4\n",
    "    ),\n",
    "    paper_bgcolor=\"White\",\n",
    ")"
   ]
  },
  {
   "cell_type": "code",
   "execution_count": null,
   "metadata": {},
   "outputs": [],
   "source": []
  }
 ],
 "metadata": {
  "kernelspec": {
   "display_name": "Python 3",
   "language": "python",
   "name": "python3"
  },
  "language_info": {
   "codemirror_mode": {
    "name": "ipython",
    "version": 3
   },
   "file_extension": ".py",
   "mimetype": "text/x-python",
   "name": "python",
   "nbconvert_exporter": "python",
   "pygments_lexer": "ipython3",
   "version": "3.7.3"
  }
 },
 "nbformat": 4,
 "nbformat_minor": 4
}

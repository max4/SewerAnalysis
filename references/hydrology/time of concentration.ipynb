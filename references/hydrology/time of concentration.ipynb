{
 "cells": [
  {
   "cell_type": "markdown",
   "metadata": {},
   "source": [
    "# Time of Concentration\n",
    "\n",
    "\n",
    "This [review](https://www.hydrol-earth-syst-sci.net/24/2655/2020/hess-24-2655-2020.pdf) is excellent it talks about the idea of time of concentration is wrong if you think a drop of water travels in the basin. It should be the time to reach equlibrium for a constant rainfall, and instead of using velocity, celerity (wave velocity) should be used to calculate the time to reach this.\n",
    "\n",
    "TODO: should look at the example and run some 2D examples to see how this works."
   ]
  },
  {
   "cell_type": "markdown",
   "metadata": {},
   "source": []
  },
  {
   "cell_type": "code",
   "execution_count": null,
   "metadata": {},
   "outputs": [],
   "source": []
  }
 ],
 "metadata": {
  "kernelspec": {
   "display_name": "Python 3",
   "language": "python",
   "name": "python3"
  },
  "language_info": {
   "codemirror_mode": {
    "name": "ipython",
    "version": 3
   },
   "file_extension": ".py",
   "mimetype": "text/x-python",
   "name": "python",
   "nbconvert_exporter": "python",
   "pygments_lexer": "ipython3",
   "version": "3.7.3"
  }
 },
 "nbformat": 4,
 "nbformat_minor": 4
}

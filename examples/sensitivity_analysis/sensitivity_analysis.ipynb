{
 "cells": [
  {
   "cell_type": "markdown",
   "metadata": {},
   "source": [
    "# SWMM with Python Week 2: Sensitivity Analysis\n",
    "\n",
    "A model will never get tired when you are keep asking what if questions. And when it comes to learning, try something and see what happens is universal.\n",
    "\n",
    "To me as a modeler, the most important thing when building a model is learning. Just like taking my driving road test, reading and watching everything I can find about the test will not get me pass it. I have to give it a try, more on the magnitude of thousands tries before I can pass it.\n",
    "\n",
    "When working with a model, it is the same idea. I need to watch the model running hundreds of times before I can pass the test. And sensitivty analysis to a very large extent means the same thing. It is just a more systematic way of learning what parameters matters more for a model.\n",
    "\n",
    "Before we can do sensitivity analysis, I need to figure out the following,\n",
    "- change the parameter in the swmm model and run it in python\n",
    "- run the models and compare the results\n",
    "\n",
    "Let's get the programming part figured out first before we get deeper into sensitivity analysis.\n",
    "\n",
    "\n",
    "## jinja2 templating\n",
    "\n",
    "I've done some web development many years ago, and I used [jinja2](https://jinja.palletsprojects.com/en/2.11.x/) for rendering web pages using templates. And that works perfect for our purposes, when we change the parameters of a swmm input file, the rest stays the same and we only change a few values.\n",
    "\n",
    "Say if I need to adjust the R1 values in my model, all I need to do is to replace the r1 value with {{ r1 }}, then I can pass the data {'r1': 0.5} to update the input file using a value of 0.5.\n",
    "\n",
    "```\n",
    "[HYDROGRAPHS]\n",
    ";;Hydrograph     Rain Gage/Month  Response R        T        K        Dmax     Drecov   Dinit   \n",
    ";;-------------- ---------------- -------- -------- -------- -------- -------- -------- --------\n",
    "test             a               \n",
    "test             All              Short    {{ r1 }}        0.5      2        0        0        0       \n",
    "test             All              Medium   0        2        2        0        0        0       \n",
    "test             All              Long     0        4        8        0        0        0       \n",
    "\n",
    "\n",
    "```\n",
    "\n",
    "And a more advanced example is that I can render an input file from a table. The following will render an input file of node coordinates from a table.\n",
    "\n",
    "```python\n",
    "data = [{'name': '1', 'x': 100, 'y': 100},\n",
    "        {'name': '2', 'x': 200, 'y': 200},\n",
    "        {'name': '3', 'x': 300, 'y': 300}]\n",
    "```\n",
    "\n",
    "```\n",
    "[COORDINATES]\n",
    ";;Node           X-Coord            Y-Coord           \n",
    ";;-------------- ------------------ ------------------\n",
    "{% for node in nodes %}\n",
    "{{ node['name'] }}       {{ node['x'] }}      {{ node['y'] }}\n",
    "{% endfor %}\n",
    "```\n",
    "\n"
   ]
  },
  {
   "cell_type": "markdown",
   "metadata": {},
   "source": [
    "I couldn't get the model to run using my inp file, says some errors in input file. OK running the testing inp file.\n",
    "```python\n",
    "from swmm.toolkit import toolkit as smtk\n",
    "def run(inp_name):\n",
    "    _handle = smtk.alloc_project()\n",
    "    smtk.run(_handle, inp_name, inp_name.replace('.inp', '.rpt'), inp_name.replace('.inp', '.out'))\n",
    "    smtk.free_project(_handle)\n",
    "```"
   ]
  },
  {
   "cell_type": "markdown",
   "metadata": {},
   "source": [
    "I got a permission error running the code below in jupyer lab\n",
    "```python\n",
    "import subprocess\n",
    "\n",
    "def run(inp_path):\n",
    "    swmm5_path = r\"C:\\Users\\Mel.Meng\\Documents\\GitHub\\SewerAnalysis\\examples\\tmp\\data\\bin\\swmm5.exe\"\n",
    "    subprocess.Popen([r\"cmd\"])\n",
    "    line = r'\"%s\" \"%s\" \"%s\" \"%s\"' % (swmm5_path,  inp_name, inp_name.replace('.inp', '.rpt'), inp_name.replace('.inp', '.out'))\n",
    "    print(line)\n",
    "    subprocess.Popen([r'\"%s\" \"%s\" \"%s\" \"%s\"' % (swmm5_path,  inp_name, inp_name.replace('.inp', '.rpt'), inp_name.replace('.inp', '.out'))])\n",
    "    \n",
    "```"
   ]
  },
  {
   "cell_type": "markdown",
   "metadata": {},
   "source": [
    "The render_input function will use jinja2 to render a template to a new input file from the data supplied."
   ]
  },
  {
   "cell_type": "code",
   "execution_count": 1,
   "metadata": {},
   "outputs": [],
   "source": [
    "from jinja2 import Environment, FileSystemLoader\n",
    "import logging\n",
    "\n",
    "def render_input(tmp_folder,tmp_name,  data, out_inp):\n",
    "    '''\n",
    "    render an input file using a template.\n",
    "    tmp_folder: folde where the template inp file is.\n",
    "    tmp_name: name of the template file\n",
    "    data: the data to be applied to the template\n",
    "    out_inp: the inp file with values applied\n",
    "    '''\n",
    "    env = Environment(loader=FileSystemLoader(tmp_folder))\n",
    "    template = env.get_template(tmp_name)\n",
    "    output_from_parsed_template = template.render(data)\n",
    "    # to save the results\n",
    "    with open(out_inp, \"w\") as fh:\n",
    "        fh.write(output_from_parsed_template)\n",
    "        logging.info('inp created:%s' % out_inp)"
   ]
  },
  {
   "cell_type": "markdown",
   "metadata": {},
   "source": [
    "To run the model, I use pyswmm and created a run function."
   ]
  },
  {
   "cell_type": "code",
   "execution_count": 2,
   "metadata": {},
   "outputs": [],
   "source": [
    "from pyswmm import Simulation, Subcatchments\n",
    "import matplotlib.pyplot as plt\n",
    "# def run(inp_path):\n",
    "#     # there seems to be a bug in the lib that failed to read the input file\n",
    "#     with Simulation(inp_path) as sim:\n",
    "#         for step in sim: #it crashes if I don't go through this.\n",
    "#             pass\n",
    "#         sim.report()\n",
    "\n",
    "def run(inp_path):\n",
    "    sim = Simulation(inp_path)\n",
    "    sim.execute()\n"
   ]
  },
  {
   "cell_type": "markdown",
   "metadata": {},
   "source": [
    "Below are some helper functions to extract the results from the output file."
   ]
  },
  {
   "cell_type": "code",
   "execution_count": 3,
   "metadata": {},
   "outputs": [],
   "source": [
    "from swmm.output import output as smo\n",
    "import pandas as pd\n",
    "import datetime\n",
    "\n",
    "def swmm_dt(days):\n",
    "    # convert swmm dates number to date\n",
    "    # https://www.openswmm.org/Topic/4343/output-file-start-date-and-time-of-the-simulation\n",
    "    t0 = pd.to_datetime('12/31/1899 00:00')\n",
    "    t1 = t0 + datetime.timedelta(days=(days-1)) # I don't understand why I need to -1, hey it works. \n",
    "    return t1\n",
    "\n",
    "def extract_flow(out_path, node_index=0):\n",
    "    # extract the node results from *.out file\n",
    "    handle = smo.init()\n",
    "    smo.open(handle, out_path)\n",
    "\n",
    "    # swmm out file report time using its only integer format, it needs to be converted to datetime\n",
    "    report_start_date_time = smo.getstartdate(handle)\n",
    "    start_dt = swmm_dt(report_start_date_time)\n",
    "\n",
    "    # to build the timestamps, we'll need the number of reported steps, and the step length in seconds\n",
    "    num_steps = smo.gettimes(handle, smo.Time.NUM_PERIODS)\n",
    "    report_step = smo.gettimes(handle, smo.Time.REPORT_STEP)\n",
    "\n",
    "    # build the date range\n",
    "    timestep = pd.date_range(start=start_dt, periods=num_steps, freq='%smin' % (report_step/60.0))\n",
    "\n",
    "\n",
    "    # Just want to confirm the subcatchments index \n",
    "    print(smo.getelementname(handle, smo.ElementType.NODE, 0))\n",
    "\n",
    "    # get the time sereis from the out file\n",
    "    values = smo.getnodeseries(handle, 0, smo.NodeAttribute.TOTAL_INFLOW, 0, num_steps)\n",
    "    df = pd.DataFrame({'total_flow': values}, index=timestep)\n",
    "    return df\n",
    "\n",
    "\n",
    "def extract_rainfall(out_path, sub_index=0):\n",
    "    # extract the node results from *.out file\n",
    "    handle = smo.init()\n",
    "    smo.open(handle, out_path)\n",
    "\n",
    "    # swmm out file report time using its only integer format, it needs to be converted to datetime\n",
    "    report_start_date_time = smo.getstartdate(handle)\n",
    "    start_dt = swmm_dt(report_start_date_time)\n",
    "\n",
    "    # to build the timestamps, we'll need the number of reported steps, and the step length in seconds\n",
    "    num_steps = smo.gettimes(handle, smo.Time.NUM_PERIODS)\n",
    "    report_step = smo.gettimes(handle, smo.Time.REPORT_STEP)\n",
    "\n",
    "    # build the date range\n",
    "    timestep = pd.date_range(start=start_dt, periods=num_steps, freq='%smin' % (report_step/60.0))\n",
    "\n",
    "\n",
    "    # Just want to confirm the subcatchments index \n",
    "    print(smo.getelementname(handle, smo.ElementType.SUBCATCH, 0))\n",
    "\n",
    "    # get the time sereis from the out file\n",
    "    values = smo.getsubcatchseries(handle, 0, smo.SubcatchAttribute.RAINFALL, 0, num_steps)\n",
    "    df = pd.DataFrame({'rainfall': values}, index=timestep)\n",
    "    return df"
   ]
  },
  {
   "cell_type": "markdown",
   "metadata": {},
   "source": [
    "\n",
    "## The model\n",
    "\n",
    "I would like to test the impact of time step on RTK hydrology results. I built a single node model with only RTK hdyrology.\n",
    "\n",
    "- area: 1ac\n",
    "- rtk: only r1= 0.5/2/1, r2, r3 are 0\n",
    "- rainfall: 1in/hr for the 1st hour"
   ]
  },
  {
   "cell_type": "code",
   "execution_count": 4,
   "metadata": {},
   "outputs": [
    {
     "name": "stdout",
     "output_type": "stream",
     "text": [
      "C:\\Users\\Mel.Meng\\Documents\\GitHub\\SewerAnalysis\\examples\\sensitivity_analysis\\data\\out\\r000005.inp\n",
      "\n",
      "... SWMM Version 5.3.0.dev0\n",
      "... Run Complete1\n",
      "C:\\Users\\Mel.Meng\\Documents\\GitHub\\SewerAnalysis\\examples\\sensitivity_analysis\\data\\out\\r000100.inp\n",
      "\n",
      "... SWMM Version 5.3.0.dev0\n",
      "... Run Complete1\n",
      "C:\\Users\\Mel.Meng\\Documents\\GitHub\\SewerAnalysis\\examples\\sensitivity_analysis\\data\\out\\r000200.inp\n",
      "\n",
      "... SWMM Version 5.3.0.dev0\n",
      "... Run Complete1\n",
      "C:\\Users\\Mel.Meng\\Documents\\GitHub\\SewerAnalysis\\examples\\sensitivity_analysis\\data\\out\\r000300.inp\n",
      "\n",
      "... SWMM Version 5.3.0.dev0\n",
      "... Run Complete1\n",
      "C:\\Users\\Mel.Meng\\Documents\\GitHub\\SewerAnalysis\\examples\\sensitivity_analysis\\data\\out\\r000400.inp\n",
      "\n",
      "... SWMM Version 5.3.0.dev0\n",
      "... Run Complete1\n",
      "C:\\Users\\Mel.Meng\\Documents\\GitHub\\SewerAnalysis\\examples\\sensitivity_analysis\\data\\out\\r000500.inp\n",
      "\n",
      "... SWMM Version 5.3.0.dev0\n",
      "... Run Complete1\n"
     ]
    },
    {
     "data": {
      "image/png": "[encoded data removed]",
      "text/plain": [
       "<Figure size 432x288 with 1 Axes>"
      ]
     },
     "metadata": {
      "needs_background": "light"
     },
     "output_type": "display_data"
    },
    {
     "data": {
      "text/html": [
       "<div>\n",
       "<style scoped>\n",
       "    .dataframe tbody tr th:only-of-type {\n",
       "        vertical-align: middle;\n",
       "    }\n",
       "\n",
       "    .dataframe tbody tr th {\n",
       "        vertical-align: top;\n",
       "    }\n",
       "\n",
       "    .dataframe thead th {\n",
       "        text-align: right;\n",
       "    }\n",
       "</style>\n",
       "<table border=\"1\" class=\"dataframe\">\n",
       "  <thead>\n",
       "    <tr style=\"text-align: right;\">\n",
       "      <th></th>\n",
       "      <th>r00:00:05</th>\n",
       "      <th>r00:01:00</th>\n",
       "      <th>r00:02:00</th>\n",
       "      <th>r00:03:00</th>\n",
       "      <th>r00:04:00</th>\n",
       "      <th>r00:05:00</th>\n",
       "    </tr>\n",
       "  </thead>\n",
       "  <tbody>\n",
       "    <tr>\n",
       "      <th>count</th>\n",
       "      <td>72.000000</td>\n",
       "      <td>72.000000</td>\n",
       "      <td>72.000000</td>\n",
       "      <td>72.000000</td>\n",
       "      <td>72.000000</td>\n",
       "      <td>72.000000</td>\n",
       "    </tr>\n",
       "    <tr>\n",
       "      <th>mean</th>\n",
       "      <td>0.084031</td>\n",
       "      <td>0.084031</td>\n",
       "      <td>0.084031</td>\n",
       "      <td>0.084031</td>\n",
       "      <td>0.084031</td>\n",
       "      <td>0.084031</td>\n",
       "    </tr>\n",
       "    <tr>\n",
       "      <th>std</th>\n",
       "      <td>0.079999</td>\n",
       "      <td>0.079999</td>\n",
       "      <td>0.079999</td>\n",
       "      <td>0.079999</td>\n",
       "      <td>0.079959</td>\n",
       "      <td>0.079999</td>\n",
       "    </tr>\n",
       "    <tr>\n",
       "      <th>min</th>\n",
       "      <td>0.000000</td>\n",
       "      <td>0.000000</td>\n",
       "      <td>0.000000</td>\n",
       "      <td>0.000000</td>\n",
       "      <td>0.000000</td>\n",
       "      <td>0.000000</td>\n",
       "    </tr>\n",
       "    <tr>\n",
       "      <th>25%</th>\n",
       "      <td>0.003939</td>\n",
       "      <td>0.003939</td>\n",
       "      <td>0.003939</td>\n",
       "      <td>0.003939</td>\n",
       "      <td>0.005088</td>\n",
       "      <td>0.003939</td>\n",
       "    </tr>\n",
       "    <tr>\n",
       "      <th>50%</th>\n",
       "      <td>0.063023</td>\n",
       "      <td>0.063023</td>\n",
       "      <td>0.063023</td>\n",
       "      <td>0.063023</td>\n",
       "      <td>0.063023</td>\n",
       "      <td>0.063023</td>\n",
       "    </tr>\n",
       "    <tr>\n",
       "      <th>75%</th>\n",
       "      <td>0.157558</td>\n",
       "      <td>0.157558</td>\n",
       "      <td>0.157558</td>\n",
       "      <td>0.157558</td>\n",
       "      <td>0.153619</td>\n",
       "      <td>0.157558</td>\n",
       "    </tr>\n",
       "    <tr>\n",
       "      <th>max</th>\n",
       "      <td>0.220581</td>\n",
       "      <td>0.220581</td>\n",
       "      <td>0.220581</td>\n",
       "      <td>0.220581</td>\n",
       "      <td>0.220362</td>\n",
       "      <td>0.220581</td>\n",
       "    </tr>\n",
       "  </tbody>\n",
       "</table>\n",
       "</div>"
      ],
      "text/plain": [
       "       r00:00:05  r00:01:00  r00:02:00  r00:03:00  r00:04:00  r00:05:00\n",
       "count  72.000000  72.000000  72.000000  72.000000  72.000000  72.000000\n",
       "mean    0.084031   0.084031   0.084031   0.084031   0.084031   0.084031\n",
       "std     0.079999   0.079999   0.079999   0.079999   0.079959   0.079999\n",
       "min     0.000000   0.000000   0.000000   0.000000   0.000000   0.000000\n",
       "25%     0.003939   0.003939   0.003939   0.003939   0.005088   0.003939\n",
       "50%     0.063023   0.063023   0.063023   0.063023   0.063023   0.063023\n",
       "75%     0.157558   0.157558   0.157558   0.157558   0.153619   0.157558\n",
       "max     0.220581   0.220581   0.220581   0.220581   0.220362   0.220581"
      ]
     },
     "execution_count": 4,
     "metadata": {},
     "output_type": "execute_result"
    }
   ],
   "source": [
    "import time\n",
    "tmp_folder = r'C:\\Users\\Mel.Meng\\Documents\\GitHub\\SewerAnalysis\\examples\\sensitivity_analysis\\data\\tmp'\n",
    "tmp_name = 'rtk_routing_step.inp'\n",
    "\n",
    "dfs = None\n",
    "\n",
    "for i in ['00:00:05', '00:01:00', '00:02:00', '00:03:00', '00:04:00', '00:05:00']: #, '00:30:00', '00:60:00']:\n",
    "    out_inp = r'C:\\Users\\Mel.Meng\\Documents\\GitHub\\SewerAnalysis\\examples\\sensitivity_analysis\\data\\out\\r%s.inp' % (i.replace(':', ''))\n",
    "    out_path = r'C:\\Users\\Mel.Meng\\Documents\\GitHub\\SewerAnalysis\\examples\\sensitivity_analysis\\data\\out\\r%s.out' % (i.replace(':', ''))\n",
    "    print(out_inp)\n",
    "    data = {'routing_step': i}\n",
    "    render_input(tmp_folder,tmp_name,  data, out_inp)\n",
    "    run(out_inp)\n",
    "    df = extract_flow(out_path, node_index=0)\n",
    "    if dfs is None:\n",
    "        df['r%s' % i] = df['total_flow']\n",
    "        dfs = df.loc[:, ['r%s' % i]].copy()\n",
    "        \n",
    "    else:\n",
    "        dfs['r%s' % i] = df['total_flow']\n",
    "        \n",
    "dfs.plot()\n",
    "\n",
    "plt.show()\n",
    "dfs.describe()"
   ]
  },
  {
   "cell_type": "markdown",
   "metadata": {},
   "source": [
    "As shown above, changing the routing time step from 30 sec to 4 min showed the same results. So we know the routing time step probably doesn't have any impact on RTK hydrology without knowing anything about how it is implemented in SWMM. And this is a great news for modelers, many times, you don't need to know how things work internally to get some idea how they work. And that's the power of sensitivity analysis.\n",
    "\n",
    "So if routing time step is not used for RTK hydrology calculation, then at what time step does RTK calculates the flow? It might be the time step of the rainfall data, so let's run some analysis of different rainfall time steps."
   ]
  },
  {
   "cell_type": "markdown",
   "metadata": {},
   "source": [
    "# Rainfall Data\n",
    "\n",
    "So in this model we have a constant 1 in/hr rainfall lasted for 1hr at the beginning of the model, and we can represented as many forms,\n",
    "\n",
    "- at 1hr time step\n",
    "```\n",
    "[TIMESERIES]\n",
    ";;Name           Date       Time       Value     \n",
    ";;-------------- ---------- ---------- ----------\n",
    "rg_a                        00:00      1         \n",
    "rg_a                        01:00      0     \n",
    "```\n",
    "- at 30 min step, we'll have \n",
    "```\n",
    "[TIMESERIES]\n",
    ";;Name           Date       Time       Value     \n",
    ";;-------------- ---------- ---------- ----------\n",
    "rg_a                        00:00      1         \n",
    "rg_a                        00:30      1\n",
    "rg_a                        01:00      0\n",
    "\n",
    "```\n",
    "\n",
    "I don't know why the results look the same, they should look different. I believe RTK uses rainfall time step to calculate the values, and thus the smaller rainfall time step should give a higher value. Because it is a different kind of unit hydrograph."
   ]
  },
  {
   "cell_type": "code",
   "execution_count": 5,
   "metadata": {},
   "outputs": [
    {
     "name": "stdout",
     "output_type": "stream",
     "text": [
      "C:\\Users\\Mel.Meng\\Documents\\GitHub\\SewerAnalysis\\examples\\sensitivity_analysis\\data\\out\\0100.inp\n",
      "\n",
      "... SWMM Version 5.3.0.dev0\n",
      "... Run Complete1\n",
      "3\n",
      "C:\\Users\\Mel.Meng\\Documents\\GitHub\\SewerAnalysis\\examples\\sensitivity_analysis\\data\\out\\0030.inp\n",
      "\n",
      "... SWMM Version 5.3.0.dev0\n",
      "... Run Complete1\n",
      "3\n",
      "C:\\Users\\Mel.Meng\\Documents\\GitHub\\SewerAnalysis\\examples\\sensitivity_analysis\\data\\out\\0015.inp\n",
      "\n",
      "... SWMM Version 5.3.0.dev0\n",
      "... Run Complete1\n",
      "3\n",
      "C:\\Users\\Mel.Meng\\Documents\\GitHub\\SewerAnalysis\\examples\\sensitivity_analysis\\data\\out\\0005.inp\n",
      "\n",
      "... SWMM Version 5.3.0.dev0\n",
      "... Run Complete1\n",
      "3\n"
     ]
    },
    {
     "data": {
      "image/png": "[encoded data removed]",
      "text/plain": [
       "<Figure size 432x288 with 1 Axes>"
      ]
     },
     "metadata": {
      "needs_background": "light"
     },
     "output_type": "display_data"
    },
    {
     "name": "stdout",
     "output_type": "stream",
     "text": [
      "           01:00      00:30      00:15      00:05\n",
      "count  36.000000  36.000000  36.000000  36.000000\n",
      "mean    0.084031   0.084031   0.084031   0.084031\n",
      "std     0.080569   0.080569   0.080569   0.080569\n",
      "min     0.000000   0.000000   0.000000   0.000000\n",
      "25%     0.003939   0.003939   0.003939   0.003939\n",
      "50%     0.063242   0.063242   0.063242   0.063242\n",
      "75%     0.157558   0.157558   0.157558   0.157558\n",
      "max     0.219706   0.219706   0.219706   0.219706\n"
     ]
    },
    {
     "data": {
      "image/png": "[encoded data removed]",
      "text/plain": [
       "<Figure size 432x288 with 1 Axes>"
      ]
     },
     "metadata": {
      "needs_background": "light"
     },
     "output_type": "display_data"
    },
    {
     "name": "stdout",
     "output_type": "stream",
     "text": [
      "           01:00      00:30      00:15      00:05\n",
      "count  36.000000  36.000000  36.000000  36.000000\n",
      "mean    0.138889   0.138889   0.138889   0.138889\n",
      "std     0.350736   0.350736   0.350736   0.350736\n",
      "min     0.000000   0.000000   0.000000   0.000000\n",
      "25%     0.000000   0.000000   0.000000   0.000000\n",
      "50%     0.000000   0.000000   0.000000   0.000000\n",
      "75%     0.000000   0.000000   0.000000   0.000000\n",
      "max     1.000000   1.000000   1.000000   1.000000\n"
     ]
    }
   ],
   "source": [
    "rainfall_1hr = [['00:00', 1],\n",
    "               ['01:00', 0]]\n",
    "\n",
    "rainfall_30min = [['00:00', 1],\n",
    "                   ['00:30', 1],\n",
    "                  ['01:00', 0]]\n",
    "\n",
    "\n",
    "rainfall_15min = [['00:00', 1],\n",
    "                   ['00:15', 1],\n",
    "                  ['00:30', 1],\n",
    "                  ['00:45', 1],\n",
    "                  ['01:00', 0]]\n",
    "\n",
    "\n",
    "rainfall_5min = [['00:00', 1],\n",
    "                   ['00:05', 1],\n",
    "                  ['00:10', 1],\n",
    "                 ['00:15', 1],\n",
    "                 ['00:20', 1],\n",
    "                 ['00:25', 1],\n",
    "                  ['00:30', 1],\n",
    "                 ['00:35', 1],\n",
    "                 ['00:40', 1],\n",
    "                 ['00:45', 1],\n",
    "                 ['00:50', 1],\n",
    "                 ['00:55', 1],\n",
    "                  ['01:00', 0]]\n",
    "\n",
    "\n",
    "tmp_folder = r'C:\\Users\\Mel.Meng\\Documents\\GitHub\\SewerAnalysis\\examples\\sensitivity_analysis\\data\\tmp'\n",
    "tmp_name = 'rtk_with_rainfall.inp'\n",
    "dfs = None\n",
    "rainfalls = None\n",
    "for rf_name, rainfall in zip(['01:00', '00:30', '00:15', '00:05'], [rainfall_1hr, rainfall_30min, rainfall_15min, rainfall_5min]):\n",
    "    out_inp = r'C:\\Users\\Mel.Meng\\Documents\\GitHub\\SewerAnalysis\\examples\\sensitivity_analysis\\data\\out\\%s.inp' % rf_name.replace(':', '')\n",
    "    out_path = r'C:\\Users\\Mel.Meng\\Documents\\GitHub\\SewerAnalysis\\examples\\sensitivity_analysis\\data\\out\\%s.out' % rf_name.replace(':', '')\n",
    "    print(out_inp)\n",
    "    data = {'lines': rainfall, 'interval': rf_name}\n",
    "    render_input(tmp_folder,tmp_name,  data, out_inp)\n",
    "    run(out_inp)\n",
    "    df = extract_flow(out_path, node_index=0)\n",
    "    if dfs is None:\n",
    "        df[rf_name] = df['total_flow']\n",
    "        dfs = df.loc[:, [rf_name]].copy()\n",
    "        \n",
    "    else:\n",
    "        dfs[rf_name] = df['total_flow']\n",
    "    \n",
    "    df_rain = extract_rainfall(out_path)\n",
    "    if rainfalls is None:\n",
    "        df_rain[rf_name] = df_rain['rainfall']\n",
    "        rainfalls = df_rain.loc[:, [rf_name]].copy()\n",
    "    else:\n",
    "        rainfalls[rf_name] = df_rain['rainfall']\n",
    "        \n",
    "        \n",
    "dfs.plot()\n",
    "\n",
    "plt.show()\n",
    "print(dfs.describe())\n",
    "    \n",
    "\n",
    "rainfalls.plot()\n",
    "\n",
    "plt.show()\n",
    "print(rainfalls.describe())"
   ]
  },
  {
   "cell_type": "code",
   "execution_count": 7,
   "metadata": {},
   "outputs": [
    {
     "name": "stdout",
     "output_type": "stream",
     "text": [
      "1\n",
      "1\n",
      "1\n",
      "1\n",
      "1\n",
      "1\n",
      "1\n",
      "1\n",
      "1\n"
     ]
    },
    {
     "data": {
      "image/png": "[encoded data removed]",
      "text/plain": [
       "<Figure size 432x288 with 1 Axes>"
      ]
     },
     "metadata": {
      "needs_background": "light"
     },
     "output_type": "display_data"
    }
   ],
   "source": [
    "dfs = None\n",
    "for i in range(1, 10):\n",
    "    out_path = r'C:\\Users\\Mel.Meng\\Documents\\GitHub\\SewerAnalysis\\examples\\tmp\\data\\out\\r%s.out' % i\n",
    "    df = extract_flow(out_path, node_index=0)\n",
    "    csv_path = r'C:\\Users\\Mel.Meng\\Documents\\GitHub\\SewerAnalysis\\examples\\tmp\\data\\out\\r%s.csv' % i\n",
    "#     df.to_csv(csv_path, index_label='datetime')\n",
    "    \n",
    "    \n",
    "    if dfs is None:\n",
    "        df['r%s' % i] = df['total_flow']\n",
    "        dfs = df.loc[:, ['r%s' % i]].copy()\n",
    "        \n",
    "    else:\n",
    "        dfs['r%s' % i] = df['total_flow']\n",
    "    \n",
    "\n",
    "dfs.plot()\n",
    "\n",
    "plt.show()"
   ]
  },
  {
   "cell_type": "code",
   "execution_count": 8,
   "metadata": {},
   "outputs": [
    {
     "data": {
      "text/plain": [
       "r1    0.074694\n",
       "r2    0.149388\n",
       "r3    0.224082\n",
       "r4    0.298776\n",
       "r5    0.373470\n",
       "r6    0.448165\n",
       "r7    0.522859\n",
       "r8    0.597553\n",
       "r9    0.672247\n",
       "dtype: float64"
      ]
     },
     "execution_count": 8,
     "metadata": {},
     "output_type": "execute_result"
    }
   ],
   "source": [
    "dfs.max()"
   ]
  },
  {
   "cell_type": "code",
   "execution_count": 4,
   "metadata": {},
   "outputs": [],
   "source": [
    "dfs"
   ]
  },
  {
   "cell_type": "code",
   "execution_count": 5,
   "metadata": {},
   "outputs": [
    {
     "ename": "NameError",
     "evalue": "name 'smtk' is not defined",
     "output_type": "error",
     "traceback": [
      "\u001b[1;31m---------------------------------------------------------------------------\u001b[0m",
      "\u001b[1;31mNameError\u001b[0m                                 Traceback (most recent call last)",
      "\u001b[1;32m<ipython-input-5-3661d31e03f0>\u001b[0m in \u001b[0;36m<module>\u001b[1;34m\u001b[0m\n\u001b[1;32m----> 1\u001b[1;33m \u001b[0m_handle\u001b[0m \u001b[1;33m=\u001b[0m \u001b[0msmtk\u001b[0m\u001b[1;33m.\u001b[0m\u001b[0malloc_project\u001b[0m\u001b[1;33m(\u001b[0m\u001b[1;33m)\u001b[0m\u001b[1;33m\u001b[0m\u001b[1;33m\u001b[0m\u001b[0m\n\u001b[0m\u001b[0;32m      2\u001b[0m \u001b[0minp_name\u001b[0m \u001b[1;33m=\u001b[0m \u001b[1;34mr'C:\\Users\\Mel.Meng\\Documents\\GitHub\\SewerAnalysis\\examples\\tmp\\data\\out\\r1.inp'\u001b[0m\u001b[1;33m\u001b[0m\u001b[1;33m\u001b[0m\u001b[0m\n\u001b[0;32m      3\u001b[0m \u001b[0msmtk\u001b[0m\u001b[1;33m.\u001b[0m\u001b[0mrun\u001b[0m\u001b[1;33m(\u001b[0m\u001b[0m_handle\u001b[0m\u001b[1;33m,\u001b[0m \u001b[0minp_name\u001b[0m\u001b[1;33m,\u001b[0m \u001b[0minp_name\u001b[0m\u001b[1;33m.\u001b[0m\u001b[0mreplace\u001b[0m\u001b[1;33m(\u001b[0m\u001b[1;34m'.inp'\u001b[0m\u001b[1;33m,\u001b[0m \u001b[1;34m'.rpt'\u001b[0m\u001b[1;33m)\u001b[0m\u001b[1;33m,\u001b[0m \u001b[0minp_name\u001b[0m\u001b[1;33m.\u001b[0m\u001b[0mreplace\u001b[0m\u001b[1;33m(\u001b[0m\u001b[1;34m'.inp'\u001b[0m\u001b[1;33m,\u001b[0m \u001b[1;34m'.out'\u001b[0m\u001b[1;33m)\u001b[0m\u001b[1;33m)\u001b[0m\u001b[1;33m\u001b[0m\u001b[1;33m\u001b[0m\u001b[0m\n\u001b[0;32m      4\u001b[0m \u001b[0msmtk\u001b[0m\u001b[1;33m.\u001b[0m\u001b[0mfree_project\u001b[0m\u001b[1;33m(\u001b[0m\u001b[0m_handle\u001b[0m\u001b[1;33m)\u001b[0m\u001b[1;33m\u001b[0m\u001b[1;33m\u001b[0m\u001b[0m\n",
      "\u001b[1;31mNameError\u001b[0m: name 'smtk' is not defined"
     ]
    }
   ],
   "source": [
    "_handle = smtk.alloc_project()\n",
    "inp_name = r'C:\\Users\\Mel.Meng\\Documents\\GitHub\\SewerAnalysis\\examples\\tmp\\data\\out\\r1.inp'\n",
    "smtk.run(_handle, inp_name, inp_name.replace('.inp', '.rpt'), inp_name.replace('.inp', '.out'))\n",
    "smtk.free_project(_handle)"
   ]
  },
  {
   "cell_type": "code",
   "execution_count": null,
   "metadata": {},
   "outputs": [],
   "source": []
  },
  {
   "cell_type": "code",
   "execution_count": null,
   "metadata": {},
   "outputs": [],
   "source": []
  }
 ],
 "metadata": {
  "kernelspec": {
   "display_name": "Python 3",
   "language": "python",
   "name": "python3"
  },
  "language_info": {
   "codemirror_mode": {
    "name": "ipython",
    "version": 3
   },
   "file_extension": ".py",
   "mimetype": "text/x-python",
   "name": "python",
   "nbconvert_exporter": "python",
   "pygments_lexer": "ipython3",
   "version": "3.7.3"
  }
 },
 "nbformat": 4,
 "nbformat_minor": 4
}

{
 "cells": [
  {
   "cell_type": "markdown",
   "metadata": {},
   "source": [
    "swmm.toolkit cannot run the following input file. pyswmm runs fine, and using GUI it runs fine. \n",
    "\n",
    "Not sure if it is a swmm engine version issue."
   ]
  },
  {
   "cell_type": "code",
   "execution_count": 7,
   "metadata": {},
   "outputs": [],
   "source": [
    "from swmm.toolkit import toolkit as smtk\n",
    "def run(inp_name):\n",
    "    _handle = smtk.alloc_project()\n",
    "    smtk.run(_handle, inp_name, inp_name.replace('.inp', '.rpt'), inp_name.replace('.inp', '.out'))\n",
    "    smtk.free_project(_handle)"
   ]
  },
  {
   "cell_type": "code",
   "execution_count": 1,
   "metadata": {},
   "outputs": [
    {
     "ename": "NameError",
     "evalue": "name 'run' is not defined",
     "output_type": "error",
     "traceback": [
      "\u001b[1;31m---------------------------------------------------------------------------\u001b[0m",
      "\u001b[1;31mNameError\u001b[0m                                 Traceback (most recent call last)",
      "\u001b[1;32m<ipython-input-1-fd1d13a8cdf8>\u001b[0m in \u001b[0;36m<module>\u001b[1;34m\u001b[0m\n\u001b[0;32m      1\u001b[0m \u001b[0minp_name\u001b[0m \u001b[1;33m=\u001b[0m \u001b[1;34mr\"C:\\Users\\Mel.Meng\\Documents\\GitHub\\SewerAnalysis\\bugs\\data\\swmm.toolkit.bug.inp\"\u001b[0m\u001b[1;33m\u001b[0m\u001b[1;33m\u001b[0m\u001b[0m\n\u001b[1;32m----> 2\u001b[1;33m \u001b[0mrun\u001b[0m\u001b[1;33m(\u001b[0m\u001b[0minp_name\u001b[0m\u001b[1;33m)\u001b[0m\u001b[1;33m\u001b[0m\u001b[1;33m\u001b[0m\u001b[0m\n\u001b[0m",
      "\u001b[1;31mNameError\u001b[0m: name 'run' is not defined"
     ]
    }
   ],
   "source": [
    "inp_name = r\"C:\\Users\\Mel.Meng\\Documents\\GitHub\\SewerAnalysis\\bugs\\data\\swmm.toolkit.bug.inp\"\n",
    "run(inp_name)"
   ]
  },
  {
   "cell_type": "code",
   "execution_count": 3,
   "metadata": {},
   "outputs": [],
   "source": [
    "from pyswmm import Simulation, Subcatchments\n",
    "import matplotlib.pyplot as plt\n",
    "def run(inp_path):\n",
    "    sim = Simulation(inp_path)\n",
    "    sim.execute()\n"
   ]
  },
  {
   "cell_type": "code",
   "execution_count": 4,
   "metadata": {},
   "outputs": [
    {
     "name": "stdout",
     "output_type": "stream",
     "text": [
      "\n",
      "... SWMM Version 5.3.0.dev0\n",
      "... Run Complete"
     ]
    }
   ],
   "source": [
    "inp_name = r\"C:\\Users\\Mel.Meng\\Documents\\GitHub\\SewerAnalysis\\bugs\\data\\swmm.toolkit.bug.inp\"\n",
    "run(inp_name)"
   ]
  },
  {
   "cell_type": "code",
   "execution_count": null,
   "metadata": {},
   "outputs": [],
   "source": []
  }
 ],
 "metadata": {
  "kernelspec": {
   "display_name": "Python 3",
   "language": "python",
   "name": "python3"
  },
  "language_info": {
   "codemirror_mode": {
    "name": "ipython",
    "version": 3
   },
   "file_extension": ".py",
   "mimetype": "text/x-python",
   "name": "python",
   "nbconvert_exporter": "python",
   "pygments_lexer": "ipython3",
   "version": "3.7.3"
  }
 },
 "nbformat": 4,
 "nbformat_minor": 4
}
